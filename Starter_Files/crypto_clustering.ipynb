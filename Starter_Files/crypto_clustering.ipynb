{
 "cells": [
  {
   "cell_type": "markdown",
   "metadata": {},
   "source": [
    "# Clustering Crypto"
   ]
  },
  {
   "cell_type": "code",
   "execution_count": 51,
   "metadata": {},
   "outputs": [],
   "source": [
    "# Initial imports\n",
    "import pandas as pd\n",
    "import hvplot.pandas\n",
    "from pathlib import Path\n",
    "import plotly.express as px\n",
    "from sklearn.preprocessing import StandardScaler, MinMaxScaler\n",
    "from sklearn.decomposition import PCA\n",
    "from sklearn.cluster import KMeans"
   ]
  },
  {
   "cell_type": "markdown",
   "metadata": {},
   "source": [
    "### Data Preprocessing"
   ]
  },
  {
   "cell_type": "code",
   "execution_count": 7,
   "metadata": {},
   "outputs": [
    {
     "data": {
      "text/html": [
       "<div>\n",
       "<style scoped>\n",
       "    .dataframe tbody tr th:only-of-type {\n",
       "        vertical-align: middle;\n",
       "    }\n",
       "\n",
       "    .dataframe tbody tr th {\n",
       "        vertical-align: top;\n",
       "    }\n",
       "\n",
       "    .dataframe thead th {\n",
       "        text-align: right;\n",
       "    }\n",
       "</style>\n",
       "<table border=\"1\" class=\"dataframe\">\n",
       "  <thead>\n",
       "    <tr style=\"text-align: right;\">\n",
       "      <th></th>\n",
       "      <th>CoinName</th>\n",
       "      <th>Algorithm</th>\n",
       "      <th>IsTrading</th>\n",
       "      <th>ProofType</th>\n",
       "      <th>TotalCoinsMined</th>\n",
       "      <th>TotalCoinSupply</th>\n",
       "    </tr>\n",
       "  </thead>\n",
       "  <tbody>\n",
       "    <tr>\n",
       "      <th>42</th>\n",
       "      <td>42 Coin</td>\n",
       "      <td>Scrypt</td>\n",
       "      <td>True</td>\n",
       "      <td>PoW/PoS</td>\n",
       "      <td>4.199995e+01</td>\n",
       "      <td>42</td>\n",
       "    </tr>\n",
       "    <tr>\n",
       "      <th>365</th>\n",
       "      <td>365Coin</td>\n",
       "      <td>X11</td>\n",
       "      <td>True</td>\n",
       "      <td>PoW/PoS</td>\n",
       "      <td>NaN</td>\n",
       "      <td>2300000000</td>\n",
       "    </tr>\n",
       "    <tr>\n",
       "      <th>404</th>\n",
       "      <td>404Coin</td>\n",
       "      <td>Scrypt</td>\n",
       "      <td>True</td>\n",
       "      <td>PoW/PoS</td>\n",
       "      <td>1.055185e+09</td>\n",
       "      <td>532000000</td>\n",
       "    </tr>\n",
       "    <tr>\n",
       "      <th>611</th>\n",
       "      <td>SixEleven</td>\n",
       "      <td>SHA-256</td>\n",
       "      <td>True</td>\n",
       "      <td>PoW</td>\n",
       "      <td>NaN</td>\n",
       "      <td>611000</td>\n",
       "    </tr>\n",
       "    <tr>\n",
       "      <th>808</th>\n",
       "      <td>808</td>\n",
       "      <td>SHA-256</td>\n",
       "      <td>True</td>\n",
       "      <td>PoW/PoS</td>\n",
       "      <td>0.000000e+00</td>\n",
       "      <td>0</td>\n",
       "    </tr>\n",
       "    <tr>\n",
       "      <th>1337</th>\n",
       "      <td>EliteCoin</td>\n",
       "      <td>X13</td>\n",
       "      <td>True</td>\n",
       "      <td>PoW/PoS</td>\n",
       "      <td>2.927942e+10</td>\n",
       "      <td>314159265359</td>\n",
       "    </tr>\n",
       "    <tr>\n",
       "      <th>2015</th>\n",
       "      <td>2015 coin</td>\n",
       "      <td>X11</td>\n",
       "      <td>True</td>\n",
       "      <td>PoW/PoS</td>\n",
       "      <td>NaN</td>\n",
       "      <td>0</td>\n",
       "    </tr>\n",
       "    <tr>\n",
       "      <th>BTC</th>\n",
       "      <td>Bitcoin</td>\n",
       "      <td>SHA-256</td>\n",
       "      <td>True</td>\n",
       "      <td>PoW</td>\n",
       "      <td>1.792718e+07</td>\n",
       "      <td>21000000</td>\n",
       "    </tr>\n",
       "    <tr>\n",
       "      <th>ETH</th>\n",
       "      <td>Ethereum</td>\n",
       "      <td>Ethash</td>\n",
       "      <td>True</td>\n",
       "      <td>PoW</td>\n",
       "      <td>1.076842e+08</td>\n",
       "      <td>0</td>\n",
       "    </tr>\n",
       "    <tr>\n",
       "      <th>LTC</th>\n",
       "      <td>Litecoin</td>\n",
       "      <td>Scrypt</td>\n",
       "      <td>True</td>\n",
       "      <td>PoW</td>\n",
       "      <td>6.303924e+07</td>\n",
       "      <td>84000000</td>\n",
       "    </tr>\n",
       "  </tbody>\n",
       "</table>\n",
       "</div>"
      ],
      "text/plain": [
       "       CoinName Algorithm  IsTrading ProofType  TotalCoinsMined  \\\n",
       "42      42 Coin    Scrypt       True   PoW/PoS     4.199995e+01   \n",
       "365     365Coin       X11       True   PoW/PoS              NaN   \n",
       "404     404Coin    Scrypt       True   PoW/PoS     1.055185e+09   \n",
       "611   SixEleven   SHA-256       True       PoW              NaN   \n",
       "808         808   SHA-256       True   PoW/PoS     0.000000e+00   \n",
       "1337  EliteCoin       X13       True   PoW/PoS     2.927942e+10   \n",
       "2015  2015 coin       X11       True   PoW/PoS              NaN   \n",
       "BTC     Bitcoin   SHA-256       True       PoW     1.792718e+07   \n",
       "ETH    Ethereum    Ethash       True       PoW     1.076842e+08   \n",
       "LTC    Litecoin    Scrypt       True       PoW     6.303924e+07   \n",
       "\n",
       "     TotalCoinSupply  \n",
       "42                42  \n",
       "365       2300000000  \n",
       "404        532000000  \n",
       "611           611000  \n",
       "808                0  \n",
       "1337    314159265359  \n",
       "2015               0  \n",
       "BTC         21000000  \n",
       "ETH                0  \n",
       "LTC         84000000  "
      ]
     },
     "execution_count": 7,
     "metadata": {},
     "output_type": "execute_result"
    }
   ],
   "source": [
    "# Loade the cryptocurrencies data\n",
    "file_path = Path(\"Resources/crypto_data.csv\")\n",
    "crypto_df = pd.read_csv(file_path, index_col=0)\n",
    "crypto_df.head(10)"
   ]
  },
  {
   "cell_type": "code",
   "execution_count": 9,
   "metadata": {},
   "outputs": [
    {
     "data": {
      "text/html": [
       "<div>\n",
       "<style scoped>\n",
       "    .dataframe tbody tr th:only-of-type {\n",
       "        vertical-align: middle;\n",
       "    }\n",
       "\n",
       "    .dataframe tbody tr th {\n",
       "        vertical-align: top;\n",
       "    }\n",
       "\n",
       "    .dataframe thead th {\n",
       "        text-align: right;\n",
       "    }\n",
       "</style>\n",
       "<table border=\"1\" class=\"dataframe\">\n",
       "  <thead>\n",
       "    <tr style=\"text-align: right;\">\n",
       "      <th></th>\n",
       "      <th>CoinName</th>\n",
       "      <th>Algorithm</th>\n",
       "      <th>IsTrading</th>\n",
       "      <th>ProofType</th>\n",
       "      <th>TotalCoinsMined</th>\n",
       "      <th>TotalCoinSupply</th>\n",
       "    </tr>\n",
       "  </thead>\n",
       "  <tbody>\n",
       "    <tr>\n",
       "      <th>XCR</th>\n",
       "      <td>Crypti</td>\n",
       "      <td>Multiple</td>\n",
       "      <td>True</td>\n",
       "      <td>PoS</td>\n",
       "      <td>1.000000e+08</td>\n",
       "      <td>0</td>\n",
       "    </tr>\n",
       "    <tr>\n",
       "      <th>TRC</th>\n",
       "      <td>TerraCoin</td>\n",
       "      <td>SHA-256</td>\n",
       "      <td>True</td>\n",
       "      <td>PoW</td>\n",
       "      <td>2.293540e+07</td>\n",
       "      <td>42000000</td>\n",
       "    </tr>\n",
       "    <tr>\n",
       "      <th>RBTC</th>\n",
       "      <td>Smart Bitcoin</td>\n",
       "      <td>SHA-256</td>\n",
       "      <td>True</td>\n",
       "      <td>PoW</td>\n",
       "      <td>0.000000e+00</td>\n",
       "      <td>20999764</td>\n",
       "    </tr>\n",
       "    <tr>\n",
       "      <th>STAX</th>\n",
       "      <td>Staxcoin</td>\n",
       "      <td>Scrypt</td>\n",
       "      <td>True</td>\n",
       "      <td>PoW/PoS</td>\n",
       "      <td>NaN</td>\n",
       "      <td>43500000</td>\n",
       "    </tr>\n",
       "    <tr>\n",
       "      <th>KRM</th>\n",
       "      <td>Karma</td>\n",
       "      <td>Groestl</td>\n",
       "      <td>True</td>\n",
       "      <td>PoS</td>\n",
       "      <td>NaN</td>\n",
       "      <td>3000000000</td>\n",
       "    </tr>\n",
       "    <tr>\n",
       "      <th>GRFT</th>\n",
       "      <td>Graft Blockchain</td>\n",
       "      <td>CryptoNight</td>\n",
       "      <td>True</td>\n",
       "      <td>PoW/PoS</td>\n",
       "      <td>NaN</td>\n",
       "      <td>1844674400</td>\n",
       "    </tr>\n",
       "    <tr>\n",
       "      <th>808</th>\n",
       "      <td>808</td>\n",
       "      <td>SHA-256</td>\n",
       "      <td>True</td>\n",
       "      <td>PoW/PoS</td>\n",
       "      <td>0.000000e+00</td>\n",
       "      <td>0</td>\n",
       "    </tr>\n",
       "    <tr>\n",
       "      <th>USC</th>\n",
       "      <td>Ultimate Secure Cash</td>\n",
       "      <td>SHA-256</td>\n",
       "      <td>True</td>\n",
       "      <td>PoS</td>\n",
       "      <td>1.034311e+07</td>\n",
       "      <td>200084200</td>\n",
       "    </tr>\n",
       "    <tr>\n",
       "      <th>BLC</th>\n",
       "      <td>BlakeCoin</td>\n",
       "      <td>Blake</td>\n",
       "      <td>True</td>\n",
       "      <td>PoW</td>\n",
       "      <td>2.335679e+07</td>\n",
       "      <td>7000000000</td>\n",
       "    </tr>\n",
       "    <tr>\n",
       "      <th>OPES</th>\n",
       "      <td>Opes</td>\n",
       "      <td>Argon2</td>\n",
       "      <td>True</td>\n",
       "      <td>PoW</td>\n",
       "      <td>NaN</td>\n",
       "      <td>52000000</td>\n",
       "    </tr>\n",
       "  </tbody>\n",
       "</table>\n",
       "</div>"
      ],
      "text/plain": [
       "                  CoinName    Algorithm  IsTrading ProofType  TotalCoinsMined  \\\n",
       "XCR                 Crypti     Multiple       True       PoS     1.000000e+08   \n",
       "TRC              TerraCoin      SHA-256       True       PoW     2.293540e+07   \n",
       "RBTC         Smart Bitcoin      SHA-256       True       PoW     0.000000e+00   \n",
       "STAX              Staxcoin       Scrypt       True   PoW/PoS              NaN   \n",
       "KRM                  Karma      Groestl       True       PoS              NaN   \n",
       "GRFT      Graft Blockchain  CryptoNight       True   PoW/PoS              NaN   \n",
       "808                    808      SHA-256       True   PoW/PoS     0.000000e+00   \n",
       "USC   Ultimate Secure Cash      SHA-256       True       PoS     1.034311e+07   \n",
       "BLC              BlakeCoin        Blake       True       PoW     2.335679e+07   \n",
       "OPES                  Opes       Argon2       True       PoW              NaN   \n",
       "\n",
       "     TotalCoinSupply  \n",
       "XCR                0  \n",
       "TRC         42000000  \n",
       "RBTC        20999764  \n",
       "STAX        43500000  \n",
       "KRM       3000000000  \n",
       "GRFT      1844674400  \n",
       "808                0  \n",
       "USC        200084200  \n",
       "BLC       7000000000  \n",
       "OPES        52000000  "
      ]
     },
     "execution_count": 9,
     "metadata": {},
     "output_type": "execute_result"
    }
   ],
   "source": [
    "# Keep only cryptocurrencies that are on trading\n",
    "clean_crypto_df = crypto_df.loc[crypto_df['IsTrading']==True]\n",
    "clean_crypto_df.sample(10)"
   ]
  },
  {
   "cell_type": "code",
   "execution_count": 14,
   "metadata": {},
   "outputs": [
    {
     "data": {
      "text/html": [
       "<div>\n",
       "<style scoped>\n",
       "    .dataframe tbody tr th:only-of-type {\n",
       "        vertical-align: middle;\n",
       "    }\n",
       "\n",
       "    .dataframe tbody tr th {\n",
       "        vertical-align: top;\n",
       "    }\n",
       "\n",
       "    .dataframe thead th {\n",
       "        text-align: right;\n",
       "    }\n",
       "</style>\n",
       "<table border=\"1\" class=\"dataframe\">\n",
       "  <thead>\n",
       "    <tr style=\"text-align: right;\">\n",
       "      <th></th>\n",
       "      <th>CoinName</th>\n",
       "      <th>Algorithm</th>\n",
       "      <th>IsTrading</th>\n",
       "      <th>ProofType</th>\n",
       "      <th>TotalCoinsMined</th>\n",
       "      <th>TotalCoinSupply</th>\n",
       "    </tr>\n",
       "  </thead>\n",
       "  <tbody>\n",
       "    <tr>\n",
       "      <th>42</th>\n",
       "      <td>42 Coin</td>\n",
       "      <td>Scrypt</td>\n",
       "      <td>True</td>\n",
       "      <td>PoW/PoS</td>\n",
       "      <td>4.199995e+01</td>\n",
       "      <td>42</td>\n",
       "    </tr>\n",
       "    <tr>\n",
       "      <th>365</th>\n",
       "      <td>365Coin</td>\n",
       "      <td>X11</td>\n",
       "      <td>True</td>\n",
       "      <td>PoW/PoS</td>\n",
       "      <td>NaN</td>\n",
       "      <td>2300000000</td>\n",
       "    </tr>\n",
       "    <tr>\n",
       "      <th>404</th>\n",
       "      <td>404Coin</td>\n",
       "      <td>Scrypt</td>\n",
       "      <td>True</td>\n",
       "      <td>PoW/PoS</td>\n",
       "      <td>1.055185e+09</td>\n",
       "      <td>532000000</td>\n",
       "    </tr>\n",
       "    <tr>\n",
       "      <th>611</th>\n",
       "      <td>SixEleven</td>\n",
       "      <td>SHA-256</td>\n",
       "      <td>True</td>\n",
       "      <td>PoW</td>\n",
       "      <td>NaN</td>\n",
       "      <td>611000</td>\n",
       "    </tr>\n",
       "    <tr>\n",
       "      <th>808</th>\n",
       "      <td>808</td>\n",
       "      <td>SHA-256</td>\n",
       "      <td>True</td>\n",
       "      <td>PoW/PoS</td>\n",
       "      <td>0.000000e+00</td>\n",
       "      <td>0</td>\n",
       "    </tr>\n",
       "    <tr>\n",
       "      <th>1337</th>\n",
       "      <td>EliteCoin</td>\n",
       "      <td>X13</td>\n",
       "      <td>True</td>\n",
       "      <td>PoW/PoS</td>\n",
       "      <td>2.927942e+10</td>\n",
       "      <td>314159265359</td>\n",
       "    </tr>\n",
       "    <tr>\n",
       "      <th>2015</th>\n",
       "      <td>2015 coin</td>\n",
       "      <td>X11</td>\n",
       "      <td>True</td>\n",
       "      <td>PoW/PoS</td>\n",
       "      <td>NaN</td>\n",
       "      <td>0</td>\n",
       "    </tr>\n",
       "    <tr>\n",
       "      <th>BTC</th>\n",
       "      <td>Bitcoin</td>\n",
       "      <td>SHA-256</td>\n",
       "      <td>True</td>\n",
       "      <td>PoW</td>\n",
       "      <td>1.792718e+07</td>\n",
       "      <td>21000000</td>\n",
       "    </tr>\n",
       "    <tr>\n",
       "      <th>ETH</th>\n",
       "      <td>Ethereum</td>\n",
       "      <td>Ethash</td>\n",
       "      <td>True</td>\n",
       "      <td>PoW</td>\n",
       "      <td>1.076842e+08</td>\n",
       "      <td>0</td>\n",
       "    </tr>\n",
       "    <tr>\n",
       "      <th>LTC</th>\n",
       "      <td>Litecoin</td>\n",
       "      <td>Scrypt</td>\n",
       "      <td>True</td>\n",
       "      <td>PoW</td>\n",
       "      <td>6.303924e+07</td>\n",
       "      <td>84000000</td>\n",
       "    </tr>\n",
       "  </tbody>\n",
       "</table>\n",
       "</div>"
      ],
      "text/plain": [
       "       CoinName Algorithm  IsTrading ProofType  TotalCoinsMined  \\\n",
       "42      42 Coin    Scrypt       True   PoW/PoS     4.199995e+01   \n",
       "365     365Coin       X11       True   PoW/PoS              NaN   \n",
       "404     404Coin    Scrypt       True   PoW/PoS     1.055185e+09   \n",
       "611   SixEleven   SHA-256       True       PoW              NaN   \n",
       "808         808   SHA-256       True   PoW/PoS     0.000000e+00   \n",
       "1337  EliteCoin       X13       True   PoW/PoS     2.927942e+10   \n",
       "2015  2015 coin       X11       True   PoW/PoS              NaN   \n",
       "BTC     Bitcoin   SHA-256       True       PoW     1.792718e+07   \n",
       "ETH    Ethereum    Ethash       True       PoW     1.076842e+08   \n",
       "LTC    Litecoin    Scrypt       True       PoW     6.303924e+07   \n",
       "\n",
       "     TotalCoinSupply  \n",
       "42                42  \n",
       "365       2300000000  \n",
       "404        532000000  \n",
       "611           611000  \n",
       "808                0  \n",
       "1337    314159265359  \n",
       "2015               0  \n",
       "BTC         21000000  \n",
       "ETH                0  \n",
       "LTC         84000000  "
      ]
     },
     "execution_count": 14,
     "metadata": {},
     "output_type": "execute_result"
    }
   ],
   "source": [
    "# Keep only cryptocurrencies with a working algorithm\n",
    "# A non working algorithm is recognized by 'N/A' status, so drop all entries with 'N/A'\n",
    "clean_crypto_df = clean_crypto_df.loc[clean_crypto_df['Algorithm'] != 'N/A']\n",
    "clean_crypto_df.head(10)"
   ]
  },
  {
   "cell_type": "code",
   "execution_count": 18,
   "metadata": {},
   "outputs": [
    {
     "data": {
      "text/html": [
       "<div>\n",
       "<style scoped>\n",
       "    .dataframe tbody tr th:only-of-type {\n",
       "        vertical-align: middle;\n",
       "    }\n",
       "\n",
       "    .dataframe tbody tr th {\n",
       "        vertical-align: top;\n",
       "    }\n",
       "\n",
       "    .dataframe thead th {\n",
       "        text-align: right;\n",
       "    }\n",
       "</style>\n",
       "<table border=\"1\" class=\"dataframe\">\n",
       "  <thead>\n",
       "    <tr style=\"text-align: right;\">\n",
       "      <th></th>\n",
       "      <th>CoinName</th>\n",
       "      <th>Algorithm</th>\n",
       "      <th>ProofType</th>\n",
       "      <th>TotalCoinsMined</th>\n",
       "      <th>TotalCoinSupply</th>\n",
       "    </tr>\n",
       "  </thead>\n",
       "  <tbody>\n",
       "    <tr>\n",
       "      <th>42</th>\n",
       "      <td>42 Coin</td>\n",
       "      <td>Scrypt</td>\n",
       "      <td>PoW/PoS</td>\n",
       "      <td>4.199995e+01</td>\n",
       "      <td>42</td>\n",
       "    </tr>\n",
       "    <tr>\n",
       "      <th>365</th>\n",
       "      <td>365Coin</td>\n",
       "      <td>X11</td>\n",
       "      <td>PoW/PoS</td>\n",
       "      <td>NaN</td>\n",
       "      <td>2300000000</td>\n",
       "    </tr>\n",
       "    <tr>\n",
       "      <th>404</th>\n",
       "      <td>404Coin</td>\n",
       "      <td>Scrypt</td>\n",
       "      <td>PoW/PoS</td>\n",
       "      <td>1.055185e+09</td>\n",
       "      <td>532000000</td>\n",
       "    </tr>\n",
       "    <tr>\n",
       "      <th>611</th>\n",
       "      <td>SixEleven</td>\n",
       "      <td>SHA-256</td>\n",
       "      <td>PoW</td>\n",
       "      <td>NaN</td>\n",
       "      <td>611000</td>\n",
       "    </tr>\n",
       "    <tr>\n",
       "      <th>808</th>\n",
       "      <td>808</td>\n",
       "      <td>SHA-256</td>\n",
       "      <td>PoW/PoS</td>\n",
       "      <td>0.000000e+00</td>\n",
       "      <td>0</td>\n",
       "    </tr>\n",
       "  </tbody>\n",
       "</table>\n",
       "</div>"
      ],
      "text/plain": [
       "      CoinName Algorithm ProofType  TotalCoinsMined TotalCoinSupply\n",
       "42     42 Coin    Scrypt   PoW/PoS     4.199995e+01              42\n",
       "365    365Coin       X11   PoW/PoS              NaN      2300000000\n",
       "404    404Coin    Scrypt   PoW/PoS     1.055185e+09       532000000\n",
       "611  SixEleven   SHA-256       PoW              NaN          611000\n",
       "808        808   SHA-256   PoW/PoS     0.000000e+00               0"
      ]
     },
     "execution_count": 18,
     "metadata": {},
     "output_type": "execute_result"
    }
   ],
   "source": [
    "# Remove the \"IsTrading\" column\n",
    "clean_crypto_df = clean_crypto_df.drop(columns='IsTrading')\n",
    "clean_crypto_df.head(5)\n"
   ]
  },
  {
   "cell_type": "code",
   "execution_count": 22,
   "metadata": {},
   "outputs": [],
   "source": [
    "# Remove rows with at least 1 null value\n",
    "\n",
    "# Check if there are nulls\n",
    "clean_crypto_df.isnull().mean()\n",
    "\n",
    "# drop nulls\n",
    "clean_crypto_df = clean_crypto_df.dropna()"
   ]
  },
  {
   "cell_type": "code",
   "execution_count": 28,
   "metadata": {},
   "outputs": [],
   "source": [
    "# Remove rows with cryptocurrencies without coins mined\n",
    "clean_crypto_df = clean_crypto_df.loc[clean_crypto_df['TotalCoinsMined'] != 0]\n",
    "clean_crypto_df = clean_crypto_df.loc[clean_crypto_df['TotalCoinsMined'] != 'NaN']\n"
   ]
  },
  {
   "cell_type": "code",
   "execution_count": 33,
   "metadata": {},
   "outputs": [
    {
     "data": {
      "text/plain": [
       "42               42 Coin\n",
       "404              404Coin\n",
       "1337           EliteCoin\n",
       "BTC              Bitcoin\n",
       "ETH             Ethereum\n",
       "LTC             Litecoin\n",
       "DASH                Dash\n",
       "XMR               Monero\n",
       "ETC     Ethereum Classic\n",
       "ZEC                ZCash\n",
       "Name: CoinName, dtype: object"
      ]
     },
     "execution_count": 33,
     "metadata": {},
     "output_type": "execute_result"
    }
   ],
   "source": [
    "# Fetch the cryptocurrencies names prior to drop them from crypto_df\n",
    "crypto_names = clean_crypto_df['CoinName']\n",
    "crypto_names.head(10)"
   ]
  },
  {
   "cell_type": "code",
   "execution_count": 37,
   "metadata": {},
   "outputs": [
    {
     "data": {
      "text/html": [
       "<div>\n",
       "<style scoped>\n",
       "    .dataframe tbody tr th:only-of-type {\n",
       "        vertical-align: middle;\n",
       "    }\n",
       "\n",
       "    .dataframe tbody tr th {\n",
       "        vertical-align: top;\n",
       "    }\n",
       "\n",
       "    .dataframe thead th {\n",
       "        text-align: right;\n",
       "    }\n",
       "</style>\n",
       "<table border=\"1\" class=\"dataframe\">\n",
       "  <thead>\n",
       "    <tr style=\"text-align: right;\">\n",
       "      <th></th>\n",
       "      <th>Algorithm</th>\n",
       "      <th>ProofType</th>\n",
       "      <th>TotalCoinsMined</th>\n",
       "      <th>TotalCoinSupply</th>\n",
       "    </tr>\n",
       "  </thead>\n",
       "  <tbody>\n",
       "    <tr>\n",
       "      <th>42</th>\n",
       "      <td>Scrypt</td>\n",
       "      <td>PoW/PoS</td>\n",
       "      <td>4.199995e+01</td>\n",
       "      <td>42</td>\n",
       "    </tr>\n",
       "    <tr>\n",
       "      <th>404</th>\n",
       "      <td>Scrypt</td>\n",
       "      <td>PoW/PoS</td>\n",
       "      <td>1.055185e+09</td>\n",
       "      <td>532000000</td>\n",
       "    </tr>\n",
       "    <tr>\n",
       "      <th>1337</th>\n",
       "      <td>X13</td>\n",
       "      <td>PoW/PoS</td>\n",
       "      <td>2.927942e+10</td>\n",
       "      <td>314159265359</td>\n",
       "    </tr>\n",
       "    <tr>\n",
       "      <th>BTC</th>\n",
       "      <td>SHA-256</td>\n",
       "      <td>PoW</td>\n",
       "      <td>1.792718e+07</td>\n",
       "      <td>21000000</td>\n",
       "    </tr>\n",
       "    <tr>\n",
       "      <th>ETH</th>\n",
       "      <td>Ethash</td>\n",
       "      <td>PoW</td>\n",
       "      <td>1.076842e+08</td>\n",
       "      <td>0</td>\n",
       "    </tr>\n",
       "  </tbody>\n",
       "</table>\n",
       "</div>"
      ],
      "text/plain": [
       "     Algorithm ProofType  TotalCoinsMined TotalCoinSupply\n",
       "42      Scrypt   PoW/PoS     4.199995e+01              42\n",
       "404     Scrypt   PoW/PoS     1.055185e+09       532000000\n",
       "1337       X13   PoW/PoS     2.927942e+10    314159265359\n",
       "BTC    SHA-256       PoW     1.792718e+07        21000000\n",
       "ETH     Ethash       PoW     1.076842e+08               0"
      ]
     },
     "execution_count": 37,
     "metadata": {},
     "output_type": "execute_result"
    }
   ],
   "source": [
    "# Remove the cryptocurrency name since it's not going to be used on the clustering algorithm\n",
    "clean_crypto_df = clean_crypto_df.drop(columns='CoinName')\n",
    "clean_crypto_df.head()"
   ]
  },
  {
   "cell_type": "code",
   "execution_count": 40,
   "metadata": {},
   "outputs": [
    {
     "data": {
      "text/html": [
       "<div>\n",
       "<style scoped>\n",
       "    .dataframe tbody tr th:only-of-type {\n",
       "        vertical-align: middle;\n",
       "    }\n",
       "\n",
       "    .dataframe tbody tr th {\n",
       "        vertical-align: top;\n",
       "    }\n",
       "\n",
       "    .dataframe thead th {\n",
       "        text-align: right;\n",
       "    }\n",
       "</style>\n",
       "<table border=\"1\" class=\"dataframe\">\n",
       "  <thead>\n",
       "    <tr style=\"text-align: right;\">\n",
       "      <th></th>\n",
       "      <th>TotalCoinsMined</th>\n",
       "      <th>TotalCoinSupply</th>\n",
       "      <th>Algorithm_1GB AES Pattern Search</th>\n",
       "      <th>Algorithm_536</th>\n",
       "      <th>Algorithm_Argon2d</th>\n",
       "      <th>Algorithm_BLAKE256</th>\n",
       "      <th>Algorithm_Blake</th>\n",
       "      <th>Algorithm_Blake2S</th>\n",
       "      <th>Algorithm_Blake2b</th>\n",
       "      <th>Algorithm_C11</th>\n",
       "      <th>...</th>\n",
       "      <th>ProofType_PoW/PoS</th>\n",
       "      <th>ProofType_PoW/PoS</th>\n",
       "      <th>ProofType_PoW/PoW</th>\n",
       "      <th>ProofType_PoW/nPoS</th>\n",
       "      <th>ProofType_Pos</th>\n",
       "      <th>ProofType_Proof of Authority</th>\n",
       "      <th>ProofType_Proof of Trust</th>\n",
       "      <th>ProofType_TPoS</th>\n",
       "      <th>ProofType_Zero-Knowledge Proof</th>\n",
       "      <th>ProofType_dPoW/PoW</th>\n",
       "    </tr>\n",
       "  </thead>\n",
       "  <tbody>\n",
       "    <tr>\n",
       "      <th>42</th>\n",
       "      <td>4.199995e+01</td>\n",
       "      <td>42</td>\n",
       "      <td>0</td>\n",
       "      <td>0</td>\n",
       "      <td>0</td>\n",
       "      <td>0</td>\n",
       "      <td>0</td>\n",
       "      <td>0</td>\n",
       "      <td>0</td>\n",
       "      <td>0</td>\n",
       "      <td>...</td>\n",
       "      <td>1</td>\n",
       "      <td>0</td>\n",
       "      <td>0</td>\n",
       "      <td>0</td>\n",
       "      <td>0</td>\n",
       "      <td>0</td>\n",
       "      <td>0</td>\n",
       "      <td>0</td>\n",
       "      <td>0</td>\n",
       "      <td>0</td>\n",
       "    </tr>\n",
       "    <tr>\n",
       "      <th>404</th>\n",
       "      <td>1.055185e+09</td>\n",
       "      <td>532000000</td>\n",
       "      <td>0</td>\n",
       "      <td>0</td>\n",
       "      <td>0</td>\n",
       "      <td>0</td>\n",
       "      <td>0</td>\n",
       "      <td>0</td>\n",
       "      <td>0</td>\n",
       "      <td>0</td>\n",
       "      <td>...</td>\n",
       "      <td>1</td>\n",
       "      <td>0</td>\n",
       "      <td>0</td>\n",
       "      <td>0</td>\n",
       "      <td>0</td>\n",
       "      <td>0</td>\n",
       "      <td>0</td>\n",
       "      <td>0</td>\n",
       "      <td>0</td>\n",
       "      <td>0</td>\n",
       "    </tr>\n",
       "    <tr>\n",
       "      <th>1337</th>\n",
       "      <td>2.927942e+10</td>\n",
       "      <td>314159265359</td>\n",
       "      <td>0</td>\n",
       "      <td>0</td>\n",
       "      <td>0</td>\n",
       "      <td>0</td>\n",
       "      <td>0</td>\n",
       "      <td>0</td>\n",
       "      <td>0</td>\n",
       "      <td>0</td>\n",
       "      <td>...</td>\n",
       "      <td>1</td>\n",
       "      <td>0</td>\n",
       "      <td>0</td>\n",
       "      <td>0</td>\n",
       "      <td>0</td>\n",
       "      <td>0</td>\n",
       "      <td>0</td>\n",
       "      <td>0</td>\n",
       "      <td>0</td>\n",
       "      <td>0</td>\n",
       "    </tr>\n",
       "    <tr>\n",
       "      <th>BTC</th>\n",
       "      <td>1.792718e+07</td>\n",
       "      <td>21000000</td>\n",
       "      <td>0</td>\n",
       "      <td>0</td>\n",
       "      <td>0</td>\n",
       "      <td>0</td>\n",
       "      <td>0</td>\n",
       "      <td>0</td>\n",
       "      <td>0</td>\n",
       "      <td>0</td>\n",
       "      <td>...</td>\n",
       "      <td>0</td>\n",
       "      <td>0</td>\n",
       "      <td>0</td>\n",
       "      <td>0</td>\n",
       "      <td>0</td>\n",
       "      <td>0</td>\n",
       "      <td>0</td>\n",
       "      <td>0</td>\n",
       "      <td>0</td>\n",
       "      <td>0</td>\n",
       "    </tr>\n",
       "    <tr>\n",
       "      <th>ETH</th>\n",
       "      <td>1.076842e+08</td>\n",
       "      <td>0</td>\n",
       "      <td>0</td>\n",
       "      <td>0</td>\n",
       "      <td>0</td>\n",
       "      <td>0</td>\n",
       "      <td>0</td>\n",
       "      <td>0</td>\n",
       "      <td>0</td>\n",
       "      <td>0</td>\n",
       "      <td>...</td>\n",
       "      <td>0</td>\n",
       "      <td>0</td>\n",
       "      <td>0</td>\n",
       "      <td>0</td>\n",
       "      <td>0</td>\n",
       "      <td>0</td>\n",
       "      <td>0</td>\n",
       "      <td>0</td>\n",
       "      <td>0</td>\n",
       "      <td>0</td>\n",
       "    </tr>\n",
       "  </tbody>\n",
       "</table>\n",
       "<p>5 rows × 100 columns</p>\n",
       "</div>"
      ],
      "text/plain": [
       "      TotalCoinsMined TotalCoinSupply  Algorithm_1GB AES Pattern Search  \\\n",
       "42       4.199995e+01              42                                 0   \n",
       "404      1.055185e+09       532000000                                 0   \n",
       "1337     2.927942e+10    314159265359                                 0   \n",
       "BTC      1.792718e+07        21000000                                 0   \n",
       "ETH      1.076842e+08               0                                 0   \n",
       "\n",
       "      Algorithm_536  Algorithm_Argon2d  Algorithm_BLAKE256  Algorithm_Blake  \\\n",
       "42                0                  0                   0                0   \n",
       "404               0                  0                   0                0   \n",
       "1337              0                  0                   0                0   \n",
       "BTC               0                  0                   0                0   \n",
       "ETH               0                  0                   0                0   \n",
       "\n",
       "      Algorithm_Blake2S  Algorithm_Blake2b  Algorithm_C11  ...  \\\n",
       "42                    0                  0              0  ...   \n",
       "404                   0                  0              0  ...   \n",
       "1337                  0                  0              0  ...   \n",
       "BTC                   0                  0              0  ...   \n",
       "ETH                   0                  0              0  ...   \n",
       "\n",
       "      ProofType_PoW/PoS  ProofType_PoW/PoS   ProofType_PoW/PoW  \\\n",
       "42                    1                   0                  0   \n",
       "404                   1                   0                  0   \n",
       "1337                  1                   0                  0   \n",
       "BTC                   0                   0                  0   \n",
       "ETH                   0                   0                  0   \n",
       "\n",
       "      ProofType_PoW/nPoS  ProofType_Pos  ProofType_Proof of Authority  \\\n",
       "42                     0              0                             0   \n",
       "404                    0              0                             0   \n",
       "1337                   0              0                             0   \n",
       "BTC                    0              0                             0   \n",
       "ETH                    0              0                             0   \n",
       "\n",
       "      ProofType_Proof of Trust  ProofType_TPoS  \\\n",
       "42                           0               0   \n",
       "404                          0               0   \n",
       "1337                         0               0   \n",
       "BTC                          0               0   \n",
       "ETH                          0               0   \n",
       "\n",
       "      ProofType_Zero-Knowledge Proof  ProofType_dPoW/PoW  \n",
       "42                                 0                   0  \n",
       "404                                0                   0  \n",
       "1337                               0                   0  \n",
       "BTC                                0                   0  \n",
       "ETH                                0                   0  \n",
       "\n",
       "[5 rows x 100 columns]"
      ]
     },
     "execution_count": 40,
     "metadata": {},
     "output_type": "execute_result"
    }
   ],
   "source": [
    "# Create dummies variables for text features\n",
    "X = pd.get_dummies(clean_crypto_df, columns=['Algorithm', 'ProofType'])\n",
    "X.head(5)"
   ]
  },
  {
   "cell_type": "code",
   "execution_count": 42,
   "metadata": {},
   "outputs": [
    {
     "data": {
      "text/plain": [
       "array([[-0.11674788, -0.15286468, -0.0433555 , ..., -0.0433555 ,\n",
       "        -0.0433555 , -0.0433555 ],\n",
       "       [-0.09358885, -0.14499604, -0.0433555 , ..., -0.0433555 ,\n",
       "        -0.0433555 , -0.0433555 ],\n",
       "       [ 0.52587231,  4.4937636 , -0.0433555 , ..., -0.0433555 ,\n",
       "        -0.0433555 , -0.0433555 ],\n",
       "       ...,\n",
       "       [-0.09523411, -0.13215444, -0.0433555 , ..., -0.0433555 ,\n",
       "        -0.0433555 , -0.0433555 ],\n",
       "       [-0.11658774, -0.15255408, -0.0433555 , ..., -0.0433555 ,\n",
       "        -0.0433555 , -0.0433555 ],\n",
       "       [-0.11674507, -0.15284989, -0.0433555 , ..., -0.0433555 ,\n",
       "        -0.0433555 , -0.0433555 ]])"
      ]
     },
     "execution_count": 42,
     "metadata": {},
     "output_type": "execute_result"
    }
   ],
   "source": [
    "# Standardize data\n",
    "X_scaled = StandardScaler().fit_transform(X)\n",
    "X_scaled"
   ]
  },
  {
   "cell_type": "markdown",
   "metadata": {},
   "source": [
    "### Reducing Dimensions Using PCA"
   ]
  },
  {
   "cell_type": "code",
   "execution_count": 52,
   "metadata": {},
   "outputs": [],
   "source": [
    "# Use PCA to reduce dimension to 3 principal components\n",
    "\n",
    "# Initialize PCA model\n",
    "pca = PCA(n_components=3)\n",
    "\n",
    "# Deploy model\n",
    "X_pca = pca.fit_transform(X_scaled)"
   ]
  },
  {
   "cell_type": "code",
   "execution_count": 88,
   "metadata": {},
   "outputs": [
    {
     "data": {
      "text/html": [
       "<div>\n",
       "<style scoped>\n",
       "    .dataframe tbody tr th:only-of-type {\n",
       "        vertical-align: middle;\n",
       "    }\n",
       "\n",
       "    .dataframe tbody tr th {\n",
       "        vertical-align: top;\n",
       "    }\n",
       "\n",
       "    .dataframe thead th {\n",
       "        text-align: right;\n",
       "    }\n",
       "</style>\n",
       "<table border=\"1\" class=\"dataframe\">\n",
       "  <thead>\n",
       "    <tr style=\"text-align: right;\">\n",
       "      <th></th>\n",
       "      <th>PC 1</th>\n",
       "      <th>PC 2</th>\n",
       "      <th>PC 3</th>\n",
       "    </tr>\n",
       "  </thead>\n",
       "  <tbody>\n",
       "    <tr>\n",
       "      <th>42</th>\n",
       "      <td>-0.334203</td>\n",
       "      <td>0.924751</td>\n",
       "      <td>-0.402677</td>\n",
       "    </tr>\n",
       "    <tr>\n",
       "      <th>404</th>\n",
       "      <td>-0.317519</td>\n",
       "      <td>0.925098</td>\n",
       "      <td>-0.402899</td>\n",
       "    </tr>\n",
       "    <tr>\n",
       "      <th>1337</th>\n",
       "      <td>2.299081</td>\n",
       "      <td>1.611627</td>\n",
       "      <td>-0.553800</td>\n",
       "    </tr>\n",
       "    <tr>\n",
       "      <th>BTC</th>\n",
       "      <td>-0.143341</td>\n",
       "      <td>-1.285613</td>\n",
       "      <td>0.188118</td>\n",
       "    </tr>\n",
       "    <tr>\n",
       "      <th>ETH</th>\n",
       "      <td>-0.148488</td>\n",
       "      <td>-1.980949</td>\n",
       "      <td>0.312677</td>\n",
       "    </tr>\n",
       "  </tbody>\n",
       "</table>\n",
       "</div>"
      ],
      "text/plain": [
       "          PC 1      PC 2      PC 3\n",
       "42   -0.334203  0.924751 -0.402677\n",
       "404  -0.317519  0.925098 -0.402899\n",
       "1337  2.299081  1.611627 -0.553800\n",
       "BTC  -0.143341 -1.285613  0.188118\n",
       "ETH  -0.148488 -1.980949  0.312677"
      ]
     },
     "execution_count": 88,
     "metadata": {},
     "output_type": "execute_result"
    }
   ],
   "source": [
    "# Create a DataFrame with the principal components data\n",
    "pcs_df = pd.DataFrame(data=X_pca, columns=['PC 1', \"PC 2\", \"PC 3\"], index= clean_crypto_df.index)\n",
    "pcs_df.head(5)"
   ]
  },
  {
   "cell_type": "markdown",
   "metadata": {},
   "source": [
    "### Clustering Crytocurrencies Using K-Means\n",
    "\n",
    "#### Find the Best Value for `k` Using the Elbow Curve"
   ]
  },
  {
   "cell_type": "code",
   "execution_count": 89,
   "metadata": {},
   "outputs": [
    {
     "name": "stderr",
     "output_type": "stream",
     "text": [
      "WARNING:param.CurvePlot01698: title_format is deprecated. Please use title instead\n",
      "WARNING:param.CurvePlot01698: title_format is deprecated. Please use title instead\n"
     ]
    },
    {
     "data": {},
     "metadata": {},
     "output_type": "display_data"
    },
    {
     "data": {
      "application/vnd.holoviews_exec.v0+json": "",
      "text/html": [
       "<div id='1095'>\n",
       "\n",
       "\n",
       "\n",
       "\n",
       "\n",
       "  <div class=\"bk-root\" id=\"3ca75e73-35b2-4921-ab32-f8eb882cc0bf\" data-root-id=\"1095\"></div>\n",
       "</div>\n",
       "<script type=\"application/javascript\">(function(root) {\n",
       "  function embed_document(root) {\n",
       "  var docs_json = {\"ad1bb03e-5c73-4647-a778-a5770dec2163\":{\"roots\":{\"references\":[{\"attributes\":{\"align\":null,\"below\":[{\"id\":\"1109\"}],\"center\":[{\"id\":\"1112\"},{\"id\":\"1116\"}],\"left\":[{\"id\":\"1113\"}],\"margin\":null,\"min_border_bottom\":10,\"min_border_left\":10,\"min_border_right\":10,\"min_border_top\":10,\"plot_height\":300,\"plot_width\":700,\"renderers\":[{\"id\":\"1136\"}],\"sizing_mode\":\"fixed\",\"title\":{\"id\":\"1101\"},\"toolbar\":{\"id\":\"1123\"},\"x_range\":{\"id\":\"1097\"},\"x_scale\":{\"id\":\"1105\"},\"y_range\":{\"id\":\"1098\"},\"y_scale\":{\"id\":\"1107\"}},\"id\":\"1100\",\"subtype\":\"Figure\",\"type\":\"Plot\"},{\"attributes\":{\"margin\":[5,5,5,5],\"name\":\"HSpacer01674\",\"sizing_mode\":\"stretch_width\"},\"id\":\"1152\",\"type\":\"Spacer\"},{\"attributes\":{\"axis\":{\"id\":\"1113\"},\"dimension\":1,\"grid_line_color\":null,\"ticker\":null},\"id\":\"1116\",\"type\":\"Grid\"},{\"attributes\":{\"data\":{\"inertia\":{\"__ndarray__\":\"uo6Srh9zrEDCmXcJRlGjQL0Lb2FwDphA9TevINuHgkDWQSUGeL94QLaslnWeBnJAlG39zaofbUBDvyNYFclmQE0G3iLoj2FAT3M3dQwUW0A=\",\"dtype\":\"float64\",\"shape\":[10]},\"k\":[1,2,3,4,5,6,7,8,9,10]},\"selected\":{\"id\":\"1131\"},\"selection_policy\":{\"id\":\"1150\"}},\"id\":\"1130\",\"type\":\"ColumnDataSource\"},{\"attributes\":{\"axis\":{\"id\":\"1109\"},\"grid_line_color\":null,\"ticker\":null},\"id\":\"1112\",\"type\":\"Grid\"},{\"attributes\":{},\"id\":\"1105\",\"type\":\"LinearScale\"},{\"attributes\":{},\"id\":\"1114\",\"type\":\"BasicTicker\"},{\"attributes\":{\"axis_label\":\"inertia\",\"bounds\":\"auto\",\"formatter\":{\"id\":\"1143\"},\"major_label_orientation\":\"horizontal\",\"ticker\":{\"id\":\"1114\"}},\"id\":\"1113\",\"type\":\"LinearAxis\"},{\"attributes\":{\"active_drag\":\"auto\",\"active_inspect\":\"auto\",\"active_multi\":null,\"active_scroll\":\"auto\",\"active_tap\":\"auto\",\"tools\":[{\"id\":\"1099\"},{\"id\":\"1117\"},{\"id\":\"1118\"},{\"id\":\"1119\"},{\"id\":\"1120\"},{\"id\":\"1121\"}]},\"id\":\"1123\",\"type\":\"Toolbar\"},{\"attributes\":{},\"id\":\"1143\",\"type\":\"BasicTickFormatter\"},{\"attributes\":{\"bottom_units\":\"screen\",\"fill_alpha\":0.5,\"fill_color\":\"lightgrey\",\"left_units\":\"screen\",\"level\":\"overlay\",\"line_alpha\":1.0,\"line_color\":\"black\",\"line_dash\":[4,4],\"line_width\":2,\"render_mode\":\"css\",\"right_units\":\"screen\",\"top_units\":\"screen\"},\"id\":\"1122\",\"type\":\"BoxAnnotation\"},{\"attributes\":{\"text\":\"Elbow Curve\",\"text_color\":{\"value\":\"black\"},\"text_font_size\":{\"value\":\"12pt\"}},\"id\":\"1101\",\"type\":\"Title\"},{\"attributes\":{\"end\":10.0,\"reset_end\":10.0,\"reset_start\":1.0,\"start\":1.0,\"tags\":[[[\"k\",\"k\",null]]]},\"id\":\"1097\",\"type\":\"Range1d\"},{\"attributes\":{\"ticks\":[1,2,3,4,5,6,7,8,9,10]},\"id\":\"1138\",\"type\":\"FixedTicker\"},{\"attributes\":{},\"id\":\"1150\",\"type\":\"UnionRenderers\"},{\"attributes\":{\"children\":[{\"id\":\"1096\"},{\"id\":\"1100\"},{\"id\":\"1152\"}],\"margin\":[0,0,0,0],\"name\":\"Row01669\",\"tags\":[\"embedded\"]},\"id\":\"1095\",\"type\":\"Row\"},{\"attributes\":{\"line_alpha\":0.2,\"line_color\":\"#1f77b3\",\"line_width\":2,\"x\":{\"field\":\"k\"},\"y\":{\"field\":\"inertia\"}},\"id\":\"1135\",\"type\":\"Line\"},{\"attributes\":{\"line_color\":\"#1f77b3\",\"line_width\":2,\"x\":{\"field\":\"k\"},\"y\":{\"field\":\"inertia\"}},\"id\":\"1133\",\"type\":\"Line\"},{\"attributes\":{\"margin\":[5,5,5,5],\"name\":\"HSpacer01673\",\"sizing_mode\":\"stretch_width\"},\"id\":\"1096\",\"type\":\"Spacer\"},{\"attributes\":{\"data_source\":{\"id\":\"1130\"},\"glyph\":{\"id\":\"1133\"},\"hover_glyph\":null,\"muted_glyph\":{\"id\":\"1135\"},\"nonselection_glyph\":{\"id\":\"1134\"},\"selection_glyph\":null,\"view\":{\"id\":\"1137\"}},\"id\":\"1136\",\"type\":\"GlyphRenderer\"},{\"attributes\":{},\"id\":\"1117\",\"type\":\"SaveTool\"},{\"attributes\":{},\"id\":\"1139\",\"type\":\"BasicTickFormatter\"},{\"attributes\":{},\"id\":\"1131\",\"type\":\"Selection\"},{\"attributes\":{\"source\":{\"id\":\"1130\"}},\"id\":\"1137\",\"type\":\"CDSView\"},{\"attributes\":{},\"id\":\"1118\",\"type\":\"PanTool\"},{\"attributes\":{},\"id\":\"1119\",\"type\":\"WheelZoomTool\"},{\"attributes\":{\"line_alpha\":0.1,\"line_color\":\"#1f77b3\",\"line_width\":2,\"x\":{\"field\":\"k\"},\"y\":{\"field\":\"inertia\"}},\"id\":\"1134\",\"type\":\"Line\"},{\"attributes\":{\"overlay\":{\"id\":\"1122\"}},\"id\":\"1120\",\"type\":\"BoxZoomTool\"},{\"attributes\":{\"callback\":null,\"renderers\":[{\"id\":\"1136\"}],\"tags\":[\"hv_created\"],\"tooltips\":[[\"k\",\"@{k}\"],[\"inertia\",\"@{inertia}\"]]},\"id\":\"1099\",\"type\":\"HoverTool\"},{\"attributes\":{\"axis_label\":\"k\",\"bounds\":\"auto\",\"formatter\":{\"id\":\"1139\"},\"major_label_orientation\":\"horizontal\",\"ticker\":{\"id\":\"1138\"}},\"id\":\"1109\",\"type\":\"LinearAxis\"},{\"attributes\":{\"end\":3994.886740596294,\"reset_end\":3994.886740596294,\"reset_start\":-245.01160147040025,\"start\":-245.01160147040025,\"tags\":[[[\"inertia\",\"inertia\",null]]]},\"id\":\"1098\",\"type\":\"Range1d\"},{\"attributes\":{},\"id\":\"1121\",\"type\":\"ResetTool\"},{\"attributes\":{},\"id\":\"1107\",\"type\":\"LinearScale\"}],\"root_ids\":[\"1095\"]},\"title\":\"Bokeh Application\",\"version\":\"2.0.2\"}};\n",
       "  var render_items = [{\"docid\":\"ad1bb03e-5c73-4647-a778-a5770dec2163\",\"root_ids\":[\"1095\"],\"roots\":{\"1095\":\"3ca75e73-35b2-4921-ab32-f8eb882cc0bf\"}}];\n",
       "  root.Bokeh.embed.embed_items_notebook(docs_json, render_items);\n",
       "  }\n",
       "if (root.Bokeh !== undefined) {\n",
       "    embed_document(root);\n",
       "  } else {\n",
       "    var attempts = 0;\n",
       "    var timer = setInterval(function(root) {\n",
       "      if (root.Bokeh !== undefined) {\n",
       "        clearInterval(timer);\n",
       "        embed_document(root);\n",
       "      } else if (document.readyState == \"complete\") {\n",
       "        attempts++;\n",
       "        if (attempts > 100) {\n",
       "          clearInterval(timer);\n",
       "          console.log(\"Bokeh: ERROR: Unable to run BokehJS code because BokehJS library is missing\");\n",
       "        }\n",
       "      }\n",
       "    }, 10, root)\n",
       "  }\n",
       "})(window);</script>"
      ],
      "text/plain": [
       ":Curve   [k]   (inertia)"
      ]
     },
     "execution_count": 89,
     "metadata": {
      "application/vnd.holoviews_exec.v0+json": {
       "id": "1095"
      }
     },
     "output_type": "execute_result"
    }
   ],
   "source": [
    "inertia = []\n",
    "k = list(range(1, 11))\n",
    "\n",
    "# Calculate the inertia for the range ok k values\n",
    "\n",
    "for i in k:\n",
    "    km = KMeans(n_clusters=i, random_state=0)\n",
    "    km.fit(pcs_df)\n",
    "    inertia.append(km.inertia_)\n",
    "\n",
    "# Create the Elbow Curve using hvPlot\n",
    "\n",
    "elbow_data = {\"k\": k, \"inertia\": inertia}\n",
    "df_elbow = pd.DataFrame(elbow_data)\n",
    "df_elbow.hvplot.line(x=\"k\", y=\"inertia\", xticks=k, title=\"Elbow Curve\")"
   ]
  },
  {
   "cell_type": "markdown",
   "metadata": {},
   "source": [
    "Running K-Means with `k=4`"
   ]
  },
  {
   "cell_type": "code",
   "execution_count": 90,
   "metadata": {},
   "outputs": [
    {
     "name": "stdout",
     "output_type": "stream",
     "text": [
      "[1 1 1 0 0 0 1 0 0 0 1 0 1 1 0 1 0 0 1 1 0 0 0 0 0 1 0 0 0 1 0 1 0 0 1 1 0\n",
      " 0 0 0 0 0 1 1 0 0 0 0 0 1 1 0 1 0 0 0 0 1 0 0 1 0 1 1 1 0 0 0 1 1 1 1 1 0\n",
      " 0 0 1 1 0 1 0 1 1 0 0 0 0 1 1 0 1 0 0 1 1 0 1 1 0 0 1 1 0 1 1 0 1 0 1 0 1\n",
      " 0 1 1 0 0 1 0 0 0 1 0 0 0 0 0 1 1 0 0 0 1 0 1 0 0 1 0 1 0 1 1 0 0 1 0 0 1\n",
      " 1 0 1 0 1 1 1 0 0 0 0 1 1 1 1 1 0 0 1 1 1 1 1 0 1 1 1 1 1 0 1 0 1 1 0 1 0\n",
      " 1 1 0 1 0 1 0 1 0 1 1 1 1 0 1 1 1 1 1 0 0 1 1 0 0 1 1 1 1 1 0 1 1 1 1 1 1\n",
      " 1 1 0 1 1 1 1 1 1 0 0 0 1 1 1 1 0 1 0 1 1 0 1 0 0 1 0 0 1 0 1 1 1 0 1 1 0\n",
      " 1 1 1 1 1 1 1 0 1 0 1 1 1 1 0 1 0 1 0 0 0 0 1 0 1 1 0 1 0 0 0 1 0 1 0 0 0\n",
      " 1 0 1 0 1 1 1 0 1 0 0 0 0 0 1 1 0 1 1 1 0 1 0 1 0 1 0 1 1 1 1 0 1 1 0 1 1\n",
      " 1 0 0 0 0 1 1 1 1 0 1 0 0 0 1 1 0 0 1 1 0 1 0 0 0 1 0 0 1 1 1 0 0 0 1 1 1\n",
      " 0 0 1 0 0 0 0 1 1 3 0 0 0 1 1 1 1 1 1 0 0 0 0 1 1 1 0 1 0 1 1 1 1 0 1 1 0\n",
      " 1 1 0 0 1 0 1 0 0 0 0 1 1 0 1 0 1 1 1 1 1 1 0 0 0 1 1 1 1 1 1 0 1 0 0 1 0\n",
      " 1 1 1 1 0 1 1 0 1 1 0 1 0 1 0 0 1 1 0 1 0 0 1 0 0 1 0 1 0 1 1 0 1 1 1 1 1\n",
      " 0 0 0 1 1 1 0 1 0 1 0 1 1 1 1 0 1 1 1 0 1 0 1 0 1 1 1 0 0 1 1 1 1 1 1 3 0\n",
      " 1 0 1 0 1 1 1 1 2 1 1 1 0 0 1]\n"
     ]
    }
   ],
   "source": [
    "# Initialize the K-Means model\n",
    "model = KMeans(n_clusters=4, random_state=5)\n",
    "\n",
    "# Fit the model\n",
    "model.fit(pcs_df)\n",
    "\n",
    "# Predict clusters\n",
    "predictions = model.predict(pcs_df)\n",
    "print(predictions)\n"
   ]
  },
  {
   "cell_type": "code",
   "execution_count": 93,
   "metadata": {},
   "outputs": [
    {
     "data": {
      "text/html": [
       "<div>\n",
       "<style scoped>\n",
       "    .dataframe tbody tr th:only-of-type {\n",
       "        vertical-align: middle;\n",
       "    }\n",
       "\n",
       "    .dataframe tbody tr th {\n",
       "        vertical-align: top;\n",
       "    }\n",
       "\n",
       "    .dataframe thead th {\n",
       "        text-align: right;\n",
       "    }\n",
       "</style>\n",
       "<table border=\"1\" class=\"dataframe\">\n",
       "  <thead>\n",
       "    <tr style=\"text-align: right;\">\n",
       "      <th></th>\n",
       "      <th>Algorithm</th>\n",
       "      <th>ProofType</th>\n",
       "      <th>TotalCoinsMined</th>\n",
       "      <th>TotalCoinSupply</th>\n",
       "      <th>PC 1</th>\n",
       "      <th>PC 2</th>\n",
       "      <th>PC 3</th>\n",
       "      <th>CoinName</th>\n",
       "      <th>Class</th>\n",
       "    </tr>\n",
       "  </thead>\n",
       "  <tbody>\n",
       "    <tr>\n",
       "      <th>42</th>\n",
       "      <td>Scrypt</td>\n",
       "      <td>PoW/PoS</td>\n",
       "      <td>4.199995e+01</td>\n",
       "      <td>42</td>\n",
       "      <td>-0.334203</td>\n",
       "      <td>0.924751</td>\n",
       "      <td>-0.402677</td>\n",
       "      <td>42 Coin</td>\n",
       "      <td>1</td>\n",
       "    </tr>\n",
       "    <tr>\n",
       "      <th>404</th>\n",
       "      <td>Scrypt</td>\n",
       "      <td>PoW/PoS</td>\n",
       "      <td>1.055185e+09</td>\n",
       "      <td>532000000</td>\n",
       "      <td>-0.317519</td>\n",
       "      <td>0.925098</td>\n",
       "      <td>-0.402899</td>\n",
       "      <td>404Coin</td>\n",
       "      <td>1</td>\n",
       "    </tr>\n",
       "    <tr>\n",
       "      <th>1337</th>\n",
       "      <td>X13</td>\n",
       "      <td>PoW/PoS</td>\n",
       "      <td>2.927942e+10</td>\n",
       "      <td>314159265359</td>\n",
       "      <td>2.299081</td>\n",
       "      <td>1.611627</td>\n",
       "      <td>-0.553800</td>\n",
       "      <td>EliteCoin</td>\n",
       "      <td>1</td>\n",
       "    </tr>\n",
       "    <tr>\n",
       "      <th>BTC</th>\n",
       "      <td>SHA-256</td>\n",
       "      <td>PoW</td>\n",
       "      <td>1.792718e+07</td>\n",
       "      <td>21000000</td>\n",
       "      <td>-0.143341</td>\n",
       "      <td>-1.285613</td>\n",
       "      <td>0.188118</td>\n",
       "      <td>Bitcoin</td>\n",
       "      <td>0</td>\n",
       "    </tr>\n",
       "    <tr>\n",
       "      <th>ETH</th>\n",
       "      <td>Ethash</td>\n",
       "      <td>PoW</td>\n",
       "      <td>1.076842e+08</td>\n",
       "      <td>0</td>\n",
       "      <td>-0.148488</td>\n",
       "      <td>-1.980949</td>\n",
       "      <td>0.312677</td>\n",
       "      <td>Ethereum</td>\n",
       "      <td>0</td>\n",
       "    </tr>\n",
       "  </tbody>\n",
       "</table>\n",
       "</div>"
      ],
      "text/plain": [
       "     Algorithm ProofType  TotalCoinsMined TotalCoinSupply      PC 1      PC 2  \\\n",
       "42      Scrypt   PoW/PoS     4.199995e+01              42 -0.334203  0.924751   \n",
       "404     Scrypt   PoW/PoS     1.055185e+09       532000000 -0.317519  0.925098   \n",
       "1337       X13   PoW/PoS     2.927942e+10    314159265359  2.299081  1.611627   \n",
       "BTC    SHA-256       PoW     1.792718e+07        21000000 -0.143341 -1.285613   \n",
       "ETH     Ethash       PoW     1.076842e+08               0 -0.148488 -1.980949   \n",
       "\n",
       "          PC 3   CoinName  Class  \n",
       "42   -0.402677    42 Coin      1  \n",
       "404  -0.402899    404Coin      1  \n",
       "1337 -0.553800  EliteCoin      1  \n",
       "BTC   0.188118    Bitcoin      0  \n",
       "ETH   0.312677   Ethereum      0  "
      ]
     },
     "execution_count": 93,
     "metadata": {},
     "output_type": "execute_result"
    }
   ],
   "source": [
    "# Creating a new DataFrame including predicted clusters and cryptocurrencies features\n",
    "clustered_df = pd.DataFrame({\n",
    "    \"Algorithm\": clean_crypto_df.Algorithm,\n",
    "    \"ProofType\": clean_crypto_df.ProofType,\n",
    "    \"TotalCoinsMined\": clean_crypto_df.TotalCoinsMined,\n",
    "    \"TotalCoinSupply\": clean_crypto_df.TotalCoinSupply,\n",
    "    \"PC 1\": pcs_df['PC 1'],\n",
    "    \"PC 2\": pcs_df['PC 2'],\n",
    "    \"PC 3\": pcs_df['PC 3'],\n",
    "    \"CoinName\": crypto_names,\n",
    "    \"Class\": model.labels_, \n",
    "    },\n",
    ")\n",
    "clustered_df.head()\n",
    "\n"
   ]
  },
  {
   "cell_type": "code",
   "execution_count": 98,
   "metadata": {},
   "outputs": [
    {
     "data": {
      "application/vnd.plotly.v1+json": {
       "config": {
        "plotlyServerURL": "https://plot.ly"
       },
       "data": [
        {
         "customdata": [
          [
           "Scrypt"
          ],
          [
           "Scrypt"
          ],
          [
           "X13"
          ],
          [
           "X11"
          ],
          [
           "SHA-512"
          ],
          [
           "SHA-256"
          ],
          [
           "SHA-256"
          ],
          [
           "X15"
          ],
          [
           "Scrypt"
          ],
          [
           "Scrypt"
          ],
          [
           "Scrypt"
          ],
          [
           "Scrypt"
          ],
          [
           "Scrypt"
          ],
          [
           "Scrypt"
          ],
          [
           "Groestl"
          ],
          [
           "PoS"
          ],
          [
           "Scrypt"
          ],
          [
           "Scrypt"
          ],
          [
           "X11"
          ],
          [
           "X11"
          ],
          [
           "SHA3"
          ],
          [
           "Scrypt"
          ],
          [
           "SHA-256"
          ],
          [
           "Scrypt"
          ],
          [
           "X13"
          ],
          [
           "X13"
          ],
          [
           "NeoScrypt"
          ],
          [
           "Scrypt"
          ],
          [
           "Scrypt"
          ],
          [
           "Scrypt"
          ],
          [
           "X11"
          ],
          [
           "X11"
          ],
          [
           "Multiple"
          ],
          [
           "PHI1612"
          ],
          [
           "X11"
          ],
          [
           "Scrypt"
          ],
          [
           "Scrypt"
          ],
          [
           "Scrypt"
          ],
          [
           "X11"
          ],
          [
           "Multiple"
          ],
          [
           "X13"
          ],
          [
           "Scrypt"
          ],
          [
           "Shabal256"
          ],
          [
           "Counterparty"
          ],
          [
           "SHA-256"
          ],
          [
           "Groestl"
          ],
          [
           "Scrypt"
          ],
          [
           "X13"
          ],
          [
           "Scrypt"
          ],
          [
           "Scrypt"
          ],
          [
           "X13"
          ],
          [
           "X11"
          ],
          [
           "Scrypt"
          ],
          [
           "X11"
          ],
          [
           "SHA3"
          ],
          [
           "QUAIT"
          ],
          [
           "X11"
          ],
          [
           "Scrypt"
          ],
          [
           "X13"
          ],
          [
           "SHA-256"
          ],
          [
           "X15"
          ],
          [
           "BLAKE256"
          ],
          [
           "SHA-256"
          ],
          [
           "X11"
          ],
          [
           "SHA-256"
          ],
          [
           "NIST5"
          ],
          [
           "Scrypt"
          ],
          [
           "Scrypt"
          ],
          [
           "X11"
          ],
          [
           "Scrypt"
          ],
          [
           "SHA-256"
          ],
          [
           "Scrypt"
          ],
          [
           "PoS"
          ],
          [
           "X11"
          ],
          [
           "SHA-256"
          ],
          [
           "SHA-256"
          ],
          [
           "NIST5"
          ],
          [
           "X11"
          ],
          [
           "POS 3.0"
          ],
          [
           "Scrypt"
          ],
          [
           "Scrypt"
          ],
          [
           "Scrypt"
          ],
          [
           "X13"
          ],
          [
           "X11"
          ],
          [
           "X11"
          ],
          [
           "Scrypt"
          ],
          [
           "SHA-256"
          ],
          [
           "X11"
          ],
          [
           "Scrypt"
          ],
          [
           "Scrypt"
          ],
          [
           "Scrypt"
          ],
          [
           "Scrypt"
          ],
          [
           "SHA-256D"
          ],
          [
           "PoS"
          ],
          [
           "Scrypt"
          ],
          [
           "X11"
          ],
          [
           "PoS"
          ],
          [
           "X13"
          ],
          [
           "X14"
          ],
          [
           "PoS"
          ],
          [
           "SHA-256D"
          ],
          [
           "DPoS"
          ],
          [
           "X11"
          ],
          [
           "X13"
          ],
          [
           "X11"
          ],
          [
           "PoS"
          ],
          [
           "Scrypt"
          ],
          [
           "Scrypt"
          ],
          [
           "PoS"
          ],
          [
           "X11"
          ],
          [
           "SHA-256"
          ],
          [
           "Scrypt"
          ],
          [
           "X11"
          ],
          [
           "Scrypt"
          ],
          [
           "Scrypt"
          ],
          [
           "X11"
          ],
          [
           "Scrypt"
          ],
          [
           "Scrypt"
          ],
          [
           "Scrypt"
          ],
          [
           "Scrypt"
          ],
          [
           "Quark"
          ],
          [
           "QuBit"
          ],
          [
           "Scrypt"
          ],
          [
           "SHA-256"
          ],
          [
           "X11"
          ],
          [
           "Scrypt"
          ],
          [
           "Scrypt"
          ],
          [
           "Scrypt"
          ],
          [
           "Scrypt"
          ],
          [
           "X13"
          ],
          [
           "Scrypt"
          ],
          [
           "Scrypt"
          ],
          [
           "X11"
          ],
          [
           "Blake2S"
          ],
          [
           "X11"
          ],
          [
           "PoS"
          ],
          [
           "X11"
          ],
          [
           "PoS"
          ],
          [
           "X11"
          ],
          [
           "Scrypt"
          ],
          [
           "Scrypt"
          ],
          [
           "Scrypt"
          ],
          [
           "SHA-256"
          ],
          [
           "X11"
          ],
          [
           "Scrypt"
          ],
          [
           "PoS"
          ],
          [
           "Scrypt"
          ],
          [
           "X15"
          ],
          [
           "SHA-256"
          ],
          [
           "POS 3.0"
          ],
          [
           "536"
          ],
          [
           "NIST5"
          ],
          [
           "NIST5"
          ],
          [
           "Skein"
          ],
          [
           "X13"
          ],
          [
           "Scrypt"
          ],
          [
           "X13"
          ],
          [
           "SkunkHash v2 Raptor"
          ],
          [
           "Skein"
          ],
          [
           "X11"
          ],
          [
           "Scrypt"
          ],
          [
           "VeChainThor Authority"
          ],
          [
           "PoS"
          ],
          [
           "Scrypt"
          ],
          [
           "Scrypt"
          ],
          [
           "SHA-512"
          ],
          [
           "Ouroboros"
          ],
          [
           "X11"
          ],
          [
           "NeoScrypt"
          ],
          [
           "Scrypt"
          ],
          [
           "Lyra2REv2"
          ],
          [
           "Scrypt"
          ],
          [
           "SHA-256"
          ],
          [
           "NIST5"
          ],
          [
           "PHI1612"
          ],
          [
           "Scrypt"
          ],
          [
           "Quark"
          ],
          [
           "POS 2.0"
          ],
          [
           "Scrypt"
          ],
          [
           "SHA-256"
          ],
          [
           "X11"
          ],
          [
           "DPoS"
          ],
          [
           "NIST5"
          ],
          [
           "X13"
          ],
          [
           "Scrypt"
          ],
          [
           "NIST5"
          ],
          [
           "Quark"
          ],
          [
           "Scrypt"
          ],
          [
           "Scrypt"
          ],
          [
           "X11"
          ],
          [
           "Quark"
          ],
          [
           "Scrypt"
          ],
          [
           "Scrypt"
          ],
          [
           "X11"
          ],
          [
           "POS 3.0"
          ],
          [
           "Ethash"
          ],
          [
           "Scrypt"
          ],
          [
           "Scrypt"
          ],
          [
           "X13"
          ],
          [
           "Proof-of-BibleHash"
          ],
          [
           "C11"
          ],
          [
           "Proof-of-Authority"
          ],
          [
           "X11"
          ],
          [
           "XEVAN"
          ],
          [
           "Scrypt"
          ],
          [
           "VBFT"
          ],
          [
           "NIST5"
          ],
          [
           "Scrypt"
          ],
          [
           "Scrypt"
          ],
          [
           "Scrypt"
          ],
          [
           "Green Protocol"
          ],
          [
           "PoS"
          ],
          [
           "Scrypt"
          ],
          [
           "Semux BFT consensus"
          ],
          [
           "Quark"
          ],
          [
           "PoS"
          ],
          [
           "X16R"
          ],
          [
           "Scrypt"
          ],
          [
           "XEVAN"
          ],
          [
           "Scrypt"
          ],
          [
           "Scrypt"
          ],
          [
           "Scrypt"
          ],
          [
           "SHA-256D"
          ],
          [
           "Scrypt"
          ],
          [
           "X15"
          ],
          [
           "Scrypt"
          ],
          [
           "Quark"
          ],
          [
           "SHA-256"
          ],
          [
           "DPoS"
          ],
          [
           "X16R"
          ],
          [
           "Quark"
          ],
          [
           "Quark"
          ],
          [
           "Scrypt"
          ],
          [
           "Lyra2REv2"
          ],
          [
           "Quark"
          ],
          [
           "Scrypt"
          ],
          [
           "XEVAN"
          ],
          [
           "X11"
          ],
          [
           "X11"
          ],
          [
           "Scrypt"
          ],
          [
           "PoS"
          ],
          [
           "Keccak"
          ],
          [
           "X11"
          ],
          [
           "Scrypt"
          ],
          [
           "SHA-512"
          ],
          [
           "ECC 256K1"
          ],
          [
           "XEVAN"
          ],
          [
           "XEVAN"
          ],
          [
           "X11"
          ],
          [
           "Quark"
          ],
          [
           "Equihash"
          ],
          [
           "Scrypt"
          ],
          [
           "Quark"
          ],
          [
           "Quark"
          ],
          [
           "Scrypt"
          ],
          [
           "X11"
          ],
          [
           "Scrypt"
          ],
          [
           "XEVAN"
          ],
          [
           "SHA-256D"
          ],
          [
           "X11"
          ],
          [
           "X11"
          ],
          [
           "DPoS"
          ],
          [
           "Scrypt"
          ],
          [
           "X11"
          ],
          [
           "Scrypt"
          ],
          [
           "Scrypt"
          ],
          [
           "SHA-256"
          ],
          [
           "Scrypt"
          ],
          [
           "X11"
          ],
          [
           "Scrypt"
          ],
          [
           "SHA-256"
          ],
          [
           "X11"
          ],
          [
           "Scrypt"
          ],
          [
           "Scrypt"
          ],
          [
           "X11"
          ],
          [
           "Scrypt"
          ],
          [
           "PoS"
          ],
          [
           "X11"
          ],
          [
           "SHA-256"
          ],
          [
           "DPoS"
          ],
          [
           "Scrypt"
          ],
          [
           "Scrypt"
          ],
          [
           "NeoScrypt"
          ],
          [
           "X13"
          ],
          [
           "DPoS"
          ],
          [
           "DPoS"
          ],
          [
           "SHA-256"
          ],
          [
           "Leased POS"
          ],
          [
           "PoS"
          ],
          [
           "PoS"
          ],
          [
           "SHA-256"
          ],
          [
           "Scrypt"
          ],
          [
           "Scrypt"
          ]
         ],
         "hovertemplate": "<b>%{hovertext}</b><br><br>Class=%{marker.color}<br>PC 1=%{x}<br>PC 2=%{y}<br>PC 3=%{z}<br>Algorithm=%{customdata[0]}<extra></extra>",
         "hovertext": [
          "42 Coin",
          "404Coin",
          "EliteCoin",
          "Dash",
          "Bitshares",
          "BitcoinDark",
          "PayCoin",
          "KoboCoin",
          "Aurora Coin",
          "BlueCoin",
          "EnergyCoin",
          "BitBar",
          "CryptoBullion",
          "CasinoCoin",
          "Diamond",
          "Exclusive Coin",
          "FlutterCoin",
          "HoboNickels",
          "HyperStake",
          "IOCoin",
          "MaxCoin",
          "MintCoin",
          "MazaCoin",
          "Nautilus Coin",
          "NavCoin",
          "OpalCoin",
          "Orbitcoin",
          "PotCoin",
          "PhoenixCoin",
          "Reddcoin",
          "SuperCoin",
          "SyncCoin",
          "TeslaCoin",
          "TittieCoin",
          "TorCoin",
          "UnitaryStatus Dollar",
          "UltraCoin",
          "VeriCoin",
          "X11 Coin",
          "Crypti",
          "StealthCoin",
          "ZCC Coin",
          "BurstCoin",
          "StorjCoin",
          "Neutron",
          "FairCoin",
          "RubyCoin",
          "Kore",
          "Dnotes",
          "8BIT Coin",
          "Sativa Coin",
          "Ucoin",
          "Vtorrent",
          "IslaCoin",
          "Nexus",
          "Droidz",
          "Squall Coin",
          "Diggits",
          "Paycon",
          "Emercoin",
          "EverGreenCoin",
          "Decred",
          "EDRCoin",
          "Hitcoin",
          "DubaiCoin",
          "PWR Coin",
          "BillaryCoin",
          "GPU Coin",
          "EuropeCoin",
          "ZeitCoin",
          "SwingCoin",
          "SafeExchangeCoin",
          "Nebuchadnezzar",
          "Ratecoin",
          "Revenu",
          "Clockcoin",
          "VIP Tokens",
          "BitSend",
          "Let it Ride",
          "PutinCoin",
          "iBankCoin",
          "Frankywillcoin",
          "MudraCoin",
          "Lutetium Coin",
          "GoldBlocks",
          "CarterCoin",
          "BitTokens",
          "MustangCoin",
          "ZoneCoin",
          "RootCoin",
          "BitCurrency",
          "Swiscoin",
          "BuzzCoin",
          "Opair",
          "PesoBit",
          "Halloween Coin",
          "CoffeeCoin",
          "RoyalCoin",
          "GanjaCoin V2",
          "TeamUP",
          "LanaCoin",
          "ARK",
          "InsaneCoin",
          "EmberCoin",
          "XenixCoin",
          "FreeCoin",
          "PLNCoin",
          "AquariusCoin",
          "Creatio",
          "Eternity",
          "Eurocoin",
          "BitcoinFast",
          "Stakenet",
          "BitConnect Coin",
          "MoneyCoin",
          "Enigma",
          "Russiacoin",
          "PandaCoin",
          "GameUnits",
          "GAKHcoin",
          "Allsafe",
          "LiteCreed",
          "Klingon Empire Darsek",
          "Internet of People",
          "KushCoin",
          "Printerium",
          "Impeach",
          "Zilbercoin",
          "FirstCoin",
          "FindCoin",
          "OpenChat",
          "RenosCoin",
          "VirtacoinPlus",
          "TajCoin",
          "Impact",
          "Atmos",
          "HappyCoin",
          "MacronCoin",
          "Condensate",
          "Independent Money System",
          "ArgusCoin",
          "LomoCoin",
          "ProCurrency",
          "GoldReserve",
          "GrowthCoin",
          "Phreak",
          "Degas Coin",
          "HTML5 Coin",
          "Ultimate Secure Cash",
          "QTUM",
          "Espers",
          "Denarius",
          "Virta Unique Coin",
          "Bitcoin Planet",
          "BritCoin",
          "Linda",
          "DeepOnion",
          "Signatum",
          "Cream",
          "Monoeci",
          "Draftcoin",
          "Vechain",
          "Stakecoin",
          "CoinonatX",
          "Ethereum Dark",
          "Obsidian",
          "Cardano",
          "Regalcoin",
          "TrezarCoin",
          "TerraNovaCoin",
          "Rupee",
          "WomenCoin",
          "Theresa May Coin",
          "NamoCoin",
          "LUXCoin",
          "Xios",
          "Bitcloud 2.0",
          "KekCoin",
          "BlackholeCoin",
          "Infinity Economics",
          "Magnet",
          "Lamden Tau",
          "Electra",
          "Bitcoin Diamond",
          "Cash & Back Coin",
          "Bulwark",
          "Kalkulus",
          "GermanCoin",
          "LiteCoin Ultra",
          "PhantomX",
          "Digiwage",
          "Trollcoin",
          "Litecoin Plus",
          "Monkey Project",
          "TokenPay",
          "1717 Masonic Commemorative Token",
          "My Big Coin",
          "Unified Society USDEX",
          "Tokyo Coin",
          "BiblePay",
          "Stipend",
          "Poa Network",
          "Pushi",
          "Ellerium",
          "Velox",
          "Ontology",
          "Bitspace",
          "Briacoin",
          "Ignition",
          "MedicCoin",
          "Bitcoin Green",
          "Deviant Coin",
          "Abjcoin",
          "Semux",
          "Carebit",
          "Zealium",
          "Proton",
          "iDealCash",
          "Bitcoin Incognito",
          "HollyWoodCoin",
          "Swisscoin",
          "Xt3ch",
          "TheVig",
          "EmaratCoin",
          "Dekado",
          "Lynx",
          "Poseidon Quark",
          "BitcoinWSpectrum",
          "Muse",
          "Trivechain",
          "Dystem",
          "Giant",
          "Peony Coin",
          "Absolute Coin",
          "Vitae",
          "TPCash",
          "Urals Coin",
          "ARENON",
          "EUNO",
          "MMOCoin",
          "Ketan",
          "XDNA",
          "PAXEX",
          "ThunderStake",
          "Kcash",
          "Acute Angle Cloud",
          "Bettex coin",
          "BitMoney",
          "Junson Ming Chan Coin",
          "HerbCoin",
          "PirateCash",
          "Oduwa",
          "Galilel",
          "Crypto Sports",
          "Credit",
          "Dash Platinum",
          "Nasdacoin",
          "Beetle Coin",
          "Titan Coin",
          "Award",
          "Insane Coin",
          "ALAX",
          "LiteDoge",
          "TruckCoin",
          "OrangeCoin",
          "BitstarCoin",
          "NeosCoin",
          "HyperCoin",
          "PinkCoin",
          "AudioCoin",
          "IncaKoin",
          "Piggy Coin",
          "Genstake",
          "XiaoMiCoin",
          "CapriCoin",
          " ClubCoin",
          "Radium",
          "Creditbit ",
          "OKCash",
          "Lisk",
          "HiCoin",
          "WhiteCoin",
          "FriendshipCoin",
          "Triangles Coin",
          "EOS",
          "Oxycoin",
          "TigerCash",
          "Waves",
          "Particl",
          "Nxt",
          "ZEPHYR",
          "Gapcoin",
          "BitcoinPlus"
         ],
         "legendgroup": "1",
         "marker": {
          "color": [
           1,
           1,
           1,
           1,
           1,
           1,
           1,
           1,
           1,
           1,
           1,
           1,
           1,
           1,
           1,
           1,
           1,
           1,
           1,
           1,
           1,
           1,
           1,
           1,
           1,
           1,
           1,
           1,
           1,
           1,
           1,
           1,
           1,
           1,
           1,
           1,
           1,
           1,
           1,
           1,
           1,
           1,
           1,
           1,
           1,
           1,
           1,
           1,
           1,
           1,
           1,
           1,
           1,
           1,
           1,
           1,
           1,
           1,
           1,
           1,
           1,
           1,
           1,
           1,
           1,
           1,
           1,
           1,
           1,
           1,
           1,
           1,
           1,
           1,
           1,
           1,
           1,
           1,
           1,
           1,
           1,
           1,
           1,
           1,
           1,
           1,
           1,
           1,
           1,
           1,
           1,
           1,
           1,
           1,
           1,
           1,
           1,
           1,
           1,
           1,
           1,
           1,
           1,
           1,
           1,
           1,
           1,
           1,
           1,
           1,
           1,
           1,
           1,
           1,
           1,
           1,
           1,
           1,
           1,
           1,
           1,
           1,
           1,
           1,
           1,
           1,
           1,
           1,
           1,
           1,
           1,
           1,
           1,
           1,
           1,
           1,
           1,
           1,
           1,
           1,
           1,
           1,
           1,
           1,
           1,
           1,
           1,
           1,
           1,
           1,
           1,
           1,
           1,
           1,
           1,
           1,
           1,
           1,
           1,
           1,
           1,
           1,
           1,
           1,
           1,
           1,
           1,
           1,
           1,
           1,
           1,
           1,
           1,
           1,
           1,
           1,
           1,
           1,
           1,
           1,
           1,
           1,
           1,
           1,
           1,
           1,
           1,
           1,
           1,
           1,
           1,
           1,
           1,
           1,
           1,
           1,
           1,
           1,
           1,
           1,
           1,
           1,
           1,
           1,
           1,
           1,
           1,
           1,
           1,
           1,
           1,
           1,
           1,
           1,
           1,
           1,
           1,
           1,
           1,
           1,
           1,
           1,
           1,
           1,
           1,
           1,
           1,
           1,
           1,
           1,
           1,
           1,
           1,
           1,
           1,
           1,
           1,
           1,
           1,
           1,
           1,
           1,
           1,
           1,
           1,
           1,
           1,
           1,
           1,
           1,
           1,
           1,
           1,
           1,
           1,
           1,
           1,
           1,
           1,
           1,
           1,
           1,
           1,
           1,
           1,
           1,
           1,
           1,
           1,
           1,
           1,
           1,
           1,
           1,
           1,
           1,
           1,
           1,
           1,
           1,
           1,
           1,
           1,
           1,
           1,
           1,
           1,
           1,
           1,
           1,
           1,
           1,
           1
          ],
          "coloraxis": "coloraxis",
          "symbol": "circle"
         },
         "mode": "markers",
         "name": "1",
         "scene": "scene",
         "showlegend": true,
         "type": "scatter3d",
         "x": [
          -0.3342027199739133,
          -0.3175188616069802,
          2.2990813695480274,
          -0.3896968373447498,
          -0.2369132949564092,
          -0.3123266305564026,
          -0.2671349770817877,
          -0.24737534902402916,
          -0.3338618574769783,
          -0.32642976385210315,
          -0.3326973291042555,
          -0.3341986509692124,
          -0.3341829116638009,
          0.6135197075561485,
          -0.3739626936415767,
          -0.3504990869968997,
          -0.27045575674106126,
          -0.33225899518763585,
          -0.32430250294195256,
          -0.3895913960292347,
          -0.42923113698062076,
          -0.028592170256798846,
          -0.27558570043318603,
          -0.2887618369506262,
          -0.2881506034835311,
          -0.28877362440780235,
          -0.3429976774212232,
          -0.3284976531461421,
          -0.33260240333969493,
          0.024406140310232045,
          -0.3442150619547984,
          -0.389963447045664,
          -0.249589703387497,
          -0.31835106080287673,
          -0.38987497403897325,
          -0.30940289803095555,
          -0.33287841713551913,
          -0.27100355313250746,
          -0.38983940253776694,
          -0.25005802617515127,
          -0.28855420185351666,
          -0.32529449067161964,
          -0.14144384300277868,
          -0.3505957370456484,
          -0.311537328674213,
          -0.37338350056175174,
          -0.2887420663562369,
          -0.28884911270443275,
          -0.2833892567804727,
          -0.33418476511104633,
          -0.28880123523014883,
          -0.344660492267781,
          -0.3339188054092601,
          -0.3899449518378956,
          -0.4478722964852711,
          -0.4226936199370651,
          -0.3259420967371828,
          -0.28714154444043694,
          -0.28832225890194,
          -0.3048739044880855,
          -0.24981989520684236,
          -0.08789544828027894,
          -0.3122975065529599,
          -0.0669992217219072,
          -0.31236128103224364,
          -0.23460661962289028,
          -0.3337945296116643,
          -0.287010451102149,
          -0.3871105626300051,
          0.8658767615050553,
          -0.31216109090897387,
          -0.11819284278979662,
          -0.3501819528006419,
          -0.38778515370959965,
          -0.31090304467711366,
          -0.308568317495504,
          -0.3561236431891225,
          -0.3886785313016871,
          -0.3546760922215357,
          -0.3100605805853134,
          -0.33383267764005925,
          -0.3322696588552464,
          -0.24235016820238323,
          -0.3321351372429336,
          -0.3894181847658827,
          -0.3330358779518156,
          -0.3123422110301937,
          -0.38993413014120826,
          -0.33402208021863483,
          -0.3341789906842823,
          -0.2869999555147934,
          -0.23399193135778534,
          0.036970975116561285,
          -0.3491376858093905,
          -0.33379264414082044,
          -0.37607887099988113,
          -0.3484654397471216,
          -0.24378258447245948,
          -0.4220481315032152,
          -0.34821412399857443,
          -0.2779619220596229,
          3.7188089846161314,
          -0.38952614896199705,
          0.8448423512316764,
          -0.3898889813484858,
          -0.3496020342214761,
          -0.333720115261883,
          -0.3338746436645289,
          -0.3501819528006419,
          -0.38946334782318387,
          -0.3122047045326287,
          -0.3337208505210928,
          -0.3498325906501086,
          -0.33386843207880246,
          -0.3294508840344693,
          -0.38991801336505894,
          -0.33307813789113394,
          0.35533970871183285,
          -0.3340679639805177,
          -0.3341386245309426,
          -0.3531735794789663,
          -0.3540693089486557,
          -0.3303606051652281,
          -0.3123185939531132,
          -0.38982784860959835,
          -0.3339161508375761,
          -0.3340432701347723,
          -0.2886484699224016,
          -0.2845685002542225,
          -0.2435501390432387,
          -0.31487210148027367,
          -0.2883892570807524,
          -0.3890926616057305,
          -0.42808579507673794,
          -0.3878293890654702,
          -0.34842624409238904,
          -0.38899041359874453,
          -0.34281892987688856,
          -0.38492621608155675,
          -0.3339864824780376,
          -0.33398567349274266,
          -0.32709869612871084,
          0.26620263325962606,
          -0.3894694996558654,
          -0.2712684829007996,
          -0.35021629459509174,
          -0.33319616482671904,
          0.8860097171203978,
          -0.2658237327841916,
          -0.3534528681961924,
          0.58582964710295,
          -0.35766127320581764,
          -0.3561615783896729,
          -0.4264172304413233,
          -0.2884859241604409,
          0.13133672057278156,
          -0.2885567856818599,
          -0.33399820380755274,
          -0.4259214699742336,
          -0.3897422306475822,
          -0.2887227582285147,
          4.386652033683375,
          -0.35008240343978564,
          -0.3336212103812909,
          -0.3341215321847157,
          -0.2950521595864857,
          0.6680711216383712,
          -0.3896829861519482,
          -0.33799050731766217,
          -0.3340770927503172,
          -0.32586627155150477,
          0.4360357086869898,
          -0.3106627291511673,
          -0.34240858176772554,
          -0.3991223387759866,
          -0.3340273681994131,
          -0.39674155621019663,
          -0.3611164479534209,
          -0.33389759667470015,
          -0.09339486277319656,
          -0.38847409737468136,
          3.723671224060745,
          0.2025525667001824,
          -0.28522334840332975,
          -0.3313546107511453,
          -0.3122963897883179,
          -0.3530593358398839,
          0.08077365768497198,
          -0.33303504242514226,
          -0.3890559700203822,
          -0.3522230108856829,
          -0.3205847928413335,
          -0.33414369249635556,
          -0.3446323854122928,
          -0.35495837410382813,
          -0.27343528440677867,
          -0.2653953239102799,
          -0.32968319956016356,
          -0.23533540658240845,
          -0.19739237444983146,
          -0.3675493565848441,
          -0.3977810466725587,
          -0.38975950243151275,
          -0.2912616690168643,
          -0.28788167516054786,
          -0.3293743957326955,
          -0.3572597213432212,
          -0.33417108261790796,
          -0.33415277030216317,
          -0.2822558769938411,
          -0.345215118428139,
          -0.34967633929148706,
          -0.33386891820666353,
          3.909532067735329,
          -0.3954078476324322,
          -0.34986525214001063,
          -0.32027826758609323,
          -0.28067092743914906,
          -0.22739287425753602,
          -0.2884165715410596,
          -0.13703040386944035,
          -0.28866896282057125,
          -0.34336022062517907,
          -0.33334227800837246,
          -0.20403468740161992,
          2.254513963099295,
          -0.3487618412976018,
          -0.26595159919530076,
          1.0159065646808365,
          -0.3647420804813952,
          -0.3531730160459006,
          -0.3984278506593373,
          -0.16924916760302375,
          -0.37092258658161104,
          -0.35189090015197116,
          -0.3270387093299581,
          -0.12123231605977638,
          -0.34420925082379306,
          -0.38923215883506257,
          -0.2859109059596735,
          -0.3489639083380963,
          -0.3509974990141723,
          -0.34407045934944097,
          -0.19347425941384794,
          -0.222623797419033,
          -0.34546181757448946,
          -0.24612663419358985,
          0.5923447594224731,
          -0.13431133075820867,
          -0.3977215725812169,
          -0.2856256630652329,
          -0.3338728952203815,
          -0.3981782770132039,
          -0.3532901432973491,
          0.5738028220944478,
          -0.34468677087798655,
          -0.33335515674678745,
          -0.28571016541106364,
          -0.2980221359198837,
          -0.38679371578207916,
          -0.38945968684098076,
          3.735928760560363,
          0.10161558833374636,
          -0.3869961296152307,
          -0.3327398701917542,
          -0.33356590905891775,
          -0.26716765110048074,
          -0.33408490509966227,
          -0.3810767266067686,
          -0.24767766601997268,
          -0.09169847626840527,
          -0.37681965700596504,
          -0.33336228950103886,
          -0.3264176708656856,
          -0.38602387199081994,
          -0.3317994789927076,
          -0.3504579398172072,
          -0.3559109006912456,
          -0.3108397797223101,
          3.7192013012193583,
          -0.09570270571712391,
          -0.32899063705717063,
          -0.3426230600818524,
          -0.2889564539899608,
          3.7290821674722348,
          3.7303279193632446,
          -0.2480398170950726,
          -0.45884993900331805,
          -0.3503937229138385,
          -0.339702348590957,
          2.4723332951217687,
          -0.332245596537806,
          -0.28906593867562763
         ],
         "y": [
          0.9247510619501608,
          0.9250982791910738,
          1.611626739593284,
          1.1525479736191808,
          0.9328947296434662,
          0.7601737543681092,
          0.60832376666027,
          1.7006371565594902,
          0.9247543953757347,
          0.9250708203949937,
          0.9248129896908553,
          0.924750910650836,
          0.9247512394093862,
          0.4847563173198368,
          0.8057517483501438,
          1.504090839831206,
          0.3373085517901051,
          0.9247545302141458,
          1.0015370374809571,
          1.1525523111900808,
          1.6977253763598155,
          0.7836079486356726,
          0.7601571347849827,
          0.7728949577505951,
          1.705448890992367,
          1.7054232615944853,
          0.4573634915594086,
          0.9247180332904018,
          0.924754426744569,
          0.9395032617925875,
          1.000717888592205,
          1.152551028793008,
          0.10038443620189627,
          1.5448128463547621,
          1.1525482946917776,
          0.9247513749943934,
          0.9247417974267612,
          0.161114117645486,
          1.1525526264328734,
          0.10042891345912798,
          1.7054322880456512,
          0.9244800945504319,
          1.013861754760722,
          1.5551527248172556,
          0.7601769024312707,
          0.8057783667231698,
          0.7729060846431326,
          1.7054125070748776,
          0.7728075708114698,
          0.92475180059149,
          1.705415751480673,
          1.0006868162340223,
          0.9247499928968638,
          1.1525517902733233,
          1.6486693375304182,
          1.7006267660172105,
          1.3566740725684263,
          0.7729081829996656,
          1.7054099581563134,
          0.7598569348844219,
          1.7007429312243272,
          0.7737739461352414,
          0.7601749524509389,
          1.1489131940652575,
          0.7601796593621731,
          1.3962639004853827,
          0.9247410818533115,
          0.7728364134984786,
          1.1524236170689588,
          0.7572986205563924,
          0.7601690905195408,
          0.4787838901803785,
          1.5040911373170465,
          1.152592831440401,
          0.7601043691271577,
          0.7600077349732286,
          1.3912076498726795,
          1.1525152849128508,
          1.6238987672685368,
          0.9244693485440653,
          0.9247380252148789,
          0.9247668400979961,
          1.5534904057750558,
          1.0007960339226463,
          1.1525415886519035,
          0.9247416941932876,
          0.7601737508574207,
          1.1525503231649434,
          0.9247451070222621,
          0.9247520381358091,
          0.7729777503772511,
          0.11035123579904038,
          1.7495822344548078,
          1.5040996745327353,
          0.9247679313889836,
          1.1521660615082787,
          1.5041490015340047,
          1.5535573719735116,
          1.7463114992427506,
          1.5039929712337956,
          1.7445907701704138,
          1.5030290153023613,
          1.1525498958548452,
          1.751515346909645,
          1.1525516365300077,
          1.5040958707633862,
          0.9247463485592404,
          0.9247377861775856,
          1.5040911373170465,
          1.1525333564865579,
          0.760180044931206,
          0.9247498496633202,
          0.8286675532757646,
          0.9247469656962751,
          0.9245317909298044,
          1.1525497113097452,
          0.9247055346260458,
          0.7786759533012382,
          0.9247483189115744,
          0.9247515851138436,
          1.4342461739267092,
          0.6663093258187911,
          0.9245904022433351,
          0.760174722400176,
          1.1525506450830776,
          0.9247501020987721,
          0.9247436403938418,
          0.772874876412182,
          0.22894018041832104,
          1.5535592692535873,
          0.9249088434881614,
          0.7728986539006084,
          1.152523108399562,
          1.858752785001676,
          1.1525687017402728,
          1.504105809044969,
          1.1525273146063706,
          1.5041518095823934,
          1.1524395335471511,
          0.9247464362053041,
          0.9247417602444553,
          0.9244058744115585,
          0.5824647093738593,
          1.15254585197511,
          0.7723500448326901,
          1.5040833503092235,
          0.924725539005482,
          1.690116143893289,
          0.6082581363028775,
          1.6239066984442403,
          1.8601272656320786,
          1.3911953901606573,
          1.3911869664835061,
          1.7520949078163794,
          1.7054159739680126,
          0.912030701190244,
          1.7054201355215706,
          1.5094403041711046,
          1.7521153020628164,
          1.1525540694755445,
          0.7728957839263894,
          2.090102537932245,
          1.5040687155298258,
          0.9247442265389345,
          0.924751724626021,
          0.9327399040888723,
          1.5162136939290427,
          1.152545356280259,
          0.45731690494842225,
          0.9247462010758848,
          0.7297280374191109,
          0.9405008924029321,
          0.7601924833997971,
          1.3910643054642278,
          1.6966330785188655,
          0.9247448894890169,
          1.586051086710443,
          1.8419321975387704,
          0.9247541874652896,
          0.6097420822455063,
          1.1525205076327956,
          1.5029899992302298,
          1.3951246110331705,
          1.7054354504966118,
          0.9247343656343956,
          1.2393351803494241,
          1.4342476864618368,
          0.9099506733671122,
          0.9247034828896052,
          1.1525564891880968,
          1.434218347819666,
          0.924737581588696,
          0.9247509404962443,
          1.0006873350462162,
          1.623892573091706,
          -0.08706662918473132,
          0.19214234511505549,
          0.9247890995617094,
          1.553396517369472,
          5.752573102311777,
          0.7989913358956188,
          6.758638736857609,
          1.152543483463041,
          2.0030872516417273,
          0.7728624377511302,
          1.5437040547629832,
          1.3911864118029265,
          0.9247504511685475,
          0.9247499296319185,
          0.7728541949943366,
          1.4833813150740918,
          1.504068591792694,
          0.924745670842455,
          1.479673484937459,
          1.586105951878636,
          1.5040659198517417,
          0.7401879135687788,
          0.923688340623655,
          2.2072288787452634,
          0.7729029014947516,
          0.9263604336987373,
          0.7728810450967897,
          1.7466212519752289,
          0.9247329142901266,
          1.5488706997399575,
          0.29790960791510884,
          1.4340228941912294,
          0.6083165055504227,
          1.4668565687288309,
          0.8920499650091068,
          1.434242372537324,
          1.5861059193040372,
          0.7670619164850867,
          0.8815714814545582,
          1.434244758516464,
          0.9244083421064192,
          -0.04275251760260905,
          1.000683069111028,
          1.152549241256193,
          0.7728568196758412,
          1.504020133071837,
          0.744630617320573,
          1.0006600943611264,
          0.919066548202286,
          0.04160320943882202,
          4.174133091108569,
          1.851235253509472,
          3.035503074019499,
          1.0093527610886903,
          1.586103835960034,
          -0.05056945043544331,
          0.9247512440901021,
          1.5861073354036916,
          1.4342424178135948,
          0.914424349059927,
          1.000685926431359,
          0.9247323844936167,
          2.003035157220729,
          1.7453629415189347,
          1.1524137038874005,
          1.1525526299269724,
          1.5031755272127405,
          0.920369472842545,
          1.152673096854023,
          0.9246837540821226,
          0.9247426742928885,
          0.6083170044021114,
          0.9247559085626103,
          1.1525978911456647,
          0.9216174758461319,
          0.7691427127711217,
          1.1524543015313138,
          0.9247760735976153,
          0.9248163467011737,
          1.1525805078997289,
          0.92474793635247,
          1.50408679566378,
          0.7249222466215306,
          0.7601820128779775,
          1.5030228961847072,
          0.7744672912441847,
          0.9247742446139651,
          0.457342952552747,
          1.7054156639879963,
          1.5035313047840717,
          1.503582551651766,
          0.6084798298935158,
          4.216100686035369,
          1.504089670583096,
          1.4417007754337159,
          0.6448016982796979,
          0.9246722157692568,
          0.7728921239828597
         ],
         "z": [
          -0.40267741171402033,
          -0.4028993149444455,
          -0.5537996087279059,
          -0.36370417491343027,
          0.05434468919774112,
          -0.23469477363955266,
          -0.04764848111869782,
          -0.587779153761714,
          -0.4026813976195377,
          -0.40280380781882474,
          -0.4027018908907445,
          -0.4026774314619267,
          -0.40267764097678516,
          -0.24232272951745942,
          -0.28793652484073834,
          -0.2355348112760803,
          -0.28205072315081753,
          -0.4026978773353662,
          -0.17698755889952889,
          -0.36370588949549276,
          -0.6508492301012365,
          -0.21986491090611235,
          -0.23506965202518398,
          -0.21563278768110014,
          -0.5408964818015104,
          -0.5408863508533389,
          -0.21862949444059365,
          -0.4027311872813705,
          -0.40269433574558045,
          -0.40850875322807795,
          -0.17666376062010808,
          -0.3637018820510187,
          0.037585582232810555,
          -0.2121004465330055,
          -0.3637023923619022,
          -0.40293213106300146,
          -0.4026896617946216,
          -0.1642707246839576,
          -0.3637033885893641,
          0.03758391321114424,
          -0.5408899188852274,
          -0.4027294242828213,
          -0.2221520778464835,
          -0.06983707636747126,
          -0.23470333764947512,
          -0.2879463497616783,
          -0.21563461139040618,
          -0.5408840092068852,
          -0.2156752313581258,
          -0.4026777036820873,
          -0.5408849734313168,
          -0.17665466058982657,
          -0.4026801715704559,
          -0.3637021828945825,
          -0.790986812235511,
          -0.5398238443670568,
          -0.16471144980166028,
          -0.21565135306770739,
          -0.5408890483002875,
          -0.2347251608277548,
          -0.5877694568373248,
          -0.26546559080047977,
          -0.23469524722520263,
          -0.36648859186497623,
          -0.2346952778964462,
          -0.4410132307314704,
          -0.4026801498472947,
          -0.2156422457400585,
          -0.36371262073857485,
          -0.2252182992781009,
          -0.23469579428506848,
          -0.23393873339321936,
          -0.23553811131330843,
          -0.36373034007234745,
          -0.2346992864242893,
          -0.2347091869541807,
          -0.4390288854712581,
          -0.3637098708220465,
          -0.11554204479927177,
          -0.4028842987929253,
          -0.4026793128854161,
          -0.40269956081782654,
          -0.35384063782187875,
          -0.17679919371732217,
          -0.3637061064469939,
          -0.4026880297652655,
          -0.23469461312956733,
          -0.3637020803336115,
          -0.40267839937374245,
          -0.40267779758008654,
          -0.21566293986856205,
          -0.19577457092181172,
          -0.5469121819009731,
          -0.23555007855910576,
          -0.40268407996428185,
          -0.3637883930113937,
          -0.23556416667065902,
          -0.3538356820119587,
          -0.509439510791946,
          -0.2355440209665777,
          -0.5429510512836323,
          0.12468998151013552,
          -0.36370620772479145,
          -0.5592411716001553,
          -0.3637027352720255,
          -0.2355447560472403,
          -0.4026816811406334,
          -0.4026788471120484,
          -0.23553811131330843,
          -0.36370444360794096,
          -0.23469694196803279,
          -0.40268218354156804,
          -0.24193404872083543,
          -0.40268024793780305,
          -0.40269427135358626,
          -0.36370215672019146,
          -0.4026823289880617,
          -0.22308920805515553,
          -0.40267839601130545,
          -0.40267814612257424,
          -0.21494424922485392,
          -0.3355312568352082,
          -0.4026934662660977,
          -0.23469499716704434,
          -0.36370321864624916,
          -0.4026802147364671,
          -0.40267796814977236,
          -0.21563102693053743,
          -0.2968189853396208,
          -0.35383834538244974,
          -0.4028989028358006,
          -0.21563715213035697,
          -0.36370675757056514,
          -0.46222378438788436,
          -0.3637263712131005,
          -0.2355582779988788,
          -0.3637084202262146,
          -0.23562256068281992,
          -0.3637373704852852,
          -0.4026789585346743,
          -0.40267828576771153,
          -0.40270008608362967,
          -0.04935893210468623,
          -0.3637062004573844,
          -0.21573306102469916,
          -0.23553662443889603,
          -0.4026840306757941,
          -0.5978856527595785,
          -0.04765238716344175,
          -0.11555576151403746,
          -0.6762049626999713,
          -0.4390113095951819,
          -0.43902548327999746,
          -0.4855279231200849,
          -0.5408882438226693,
          -0.40560534113048724,
          -0.5408881222820442,
          -0.07945756960136616,
          -0.4855359846849567,
          -0.36370459665027904,
          -0.2156333093235945,
          0.40464995619077304,
          -0.23553586776985896,
          -0.4026823877305923,
          -0.4026783419674686,
          0.05496427850281371,
          -0.0002841003982882616,
          -0.36370393592667294,
          -0.21867412840705874,
          -0.4026779937941312,
          -0.13628196855496993,
          -0.4128811593373977,
          -0.23471458850411972,
          -0.4391488491067853,
          -0.39877703157655403,
          -0.4026783133858451,
          -0.4020006502050709,
          -0.24145127233072444,
          -0.40268100032431775,
          -0.049639233043384495,
          -0.36371273090263795,
          0.1246457331794246,
          -0.4453365530491023,
          -0.5409245846328418,
          -0.4027042275578386,
          -0.25196530710821247,
          -0.21494564272046093,
          -0.404783134765411,
          -0.40268247269844165,
          -0.3637119964238322,
          -0.21494995778493217,
          -0.40281529313866304,
          -0.4026780001873104,
          -0.1766550247914035,
          -0.11553824378724215,
          0.07693029802650381,
          -0.11934107018505888,
          -0.40272936381553215,
          -0.3538989983827031,
          4.402014404953019,
          -0.3308381857505469,
          -5.161896808762198,
          -0.36370287738329077,
          -0.32090407418862565,
          -0.21563708953488855,
          -0.15899787773270627,
          -0.43901412546430557,
          -0.40267764764054986,
          -0.40267775972881625,
          -0.21569366125579018,
          -0.1685557533456894,
          -0.23554001969146776,
          -0.40268005434442977,
          0.21719594470895354,
          -0.40202233765079065,
          -0.23553769053192306,
          0.020395859088837634,
          -0.40307234904227573,
          -0.12191478206409706,
          -0.2156374903143912,
          -0.40493662124175894,
          -0.2156317149818024,
          -0.5425752133433179,
          -0.40268360445685814,
          -0.4007260197253785,
          -0.15719804483563918,
          -0.21495703245320322,
          -0.04765957582220065,
          -0.031168430339026446,
          -0.16665966489200812,
          -0.21494370132151086,
          -0.4019913199615553,
          -0.21601047589098377,
          -0.3233286977751187,
          -0.21495721512464042,
          -0.4027010615294386,
          0.10190574408501497,
          -0.1766587486827365,
          -0.36370913141612476,
          -0.2156565094142198,
          -0.23554027754172577,
          -0.378284560078008,
          -0.17665682758200016,
          -0.4032946023279847,
          0.4502792949801101,
          7.27275818328121,
          -0.13385690741354622,
          0.031603262774200384,
          -0.18007700685137465,
          -0.40199826940755495,
          0.08143443363752466,
          -0.40268082527217763,
          -0.4019940891386548,
          -0.2149425051157648,
          -0.4104977491933226,
          -0.17665426112640506,
          -0.40268339503559103,
          -0.32095349577486704,
          -0.5428575196083048,
          -0.36371443059567427,
          -0.36370728846586625,
          0.12449283539264677,
          -0.40651470889674923,
          -0.3637501337160415,
          -0.40268263028535267,
          -0.402682729538074,
          -0.04764716063033338,
          -0.40267932750652136,
          -0.3637999670640465,
          -0.40310953197114674,
          -0.23826681197011065,
          -0.36382276919537676,
          -0.40268968530114685,
          -0.4027668667741085,
          -0.36374663200674356,
          -0.40270163576295603,
          -0.235534644772695,
          -0.03344292161669216,
          -0.23471124526227288,
          0.12468684401843849,
          -0.21784436339954474,
          -0.4027343121727578,
          -0.21863034985420507,
          -0.5408833667187524,
          0.12451132367478226,
          0.12449106649344228,
          -0.0478673039967141,
          1.8050543096444485,
          -0.2355357229722553,
          -0.4725799914516768,
          0.10778993427283937,
          -0.4026860254620364,
          -0.2156292520558399
         ]
        },
        {
         "customdata": [
          [
           "SHA-256"
          ],
          [
           "Ethash"
          ],
          [
           "Scrypt"
          ],
          [
           "CryptoNight-V7"
          ],
          [
           "Ethash"
          ],
          [
           "Equihash"
          ],
          [
           "Multiple"
          ],
          [
           "Scrypt"
          ],
          [
           "X11"
          ],
          [
           "Scrypt"
          ],
          [
           "Multiple"
          ],
          [
           "Scrypt"
          ],
          [
           "SHA-256"
          ],
          [
           "Scrypt"
          ],
          [
           "Scrypt"
          ],
          [
           "Quark"
          ],
          [
           "Groestl"
          ],
          [
           "Scrypt"
          ],
          [
           "Scrypt"
          ],
          [
           "Scrypt"
          ],
          [
           "X11"
          ],
          [
           "Multiple"
          ],
          [
           "SHA-256"
          ],
          [
           "Scrypt"
          ],
          [
           "Scrypt"
          ],
          [
           "Scrypt"
          ],
          [
           "Scrypt"
          ],
          [
           "Scrypt"
          ],
          [
           "NeoScrypt"
          ],
          [
           "Scrypt"
          ],
          [
           "Scrypt"
          ],
          [
           "Scrypt"
          ],
          [
           "Scrypt"
          ],
          [
           "SHA-256"
          ],
          [
           "Scrypt"
          ],
          [
           "Scrypt"
          ],
          [
           "Scrypt"
          ],
          [
           "Scrypt"
          ],
          [
           "HybridScryptHash256"
          ],
          [
           "Scrypt"
          ],
          [
           "Scrypt"
          ],
          [
           "SHA-256"
          ],
          [
           "Scrypt"
          ],
          [
           "Scrypt"
          ],
          [
           "Scrypt"
          ],
          [
           "Scrypt"
          ],
          [
           "SHA-256"
          ],
          [
           "SHA-256"
          ],
          [
           "SHA-256"
          ],
          [
           "SHA-256"
          ],
          [
           "SHA-256"
          ],
          [
           "X11"
          ],
          [
           "Scrypt"
          ],
          [
           "Lyra2REv2"
          ],
          [
           "Scrypt"
          ],
          [
           "SHA-256"
          ],
          [
           "CryptoNight"
          ],
          [
           "CryptoNight"
          ],
          [
           "Scrypt"
          ],
          [
           "Scrypt"
          ],
          [
           "Scrypt"
          ],
          [
           "Scrypt"
          ],
          [
           "Scrypt"
          ],
          [
           "Scrypt"
          ],
          [
           "Stanford Folding"
          ],
          [
           "Multiple"
          ],
          [
           "QuBit"
          ],
          [
           "Scrypt"
          ],
          [
           "Scrypt"
          ],
          [
           "M7 POW"
          ],
          [
           "Scrypt"
          ],
          [
           "SHA-256"
          ],
          [
           "Scrypt"
          ],
          [
           "X11"
          ],
          [
           "Lyra2RE"
          ],
          [
           "SHA-256"
          ],
          [
           "X11"
          ],
          [
           "Scrypt"
          ],
          [
           "Scrypt"
          ],
          [
           "Ethash"
          ],
          [
           "Blake2b"
          ],
          [
           "X11"
          ],
          [
           "SHA-256"
          ],
          [
           "Scrypt"
          ],
          [
           "1GB AES Pattern Search"
          ],
          [
           "Scrypt"
          ],
          [
           "SHA-256"
          ],
          [
           "X11"
          ],
          [
           "Dagger"
          ],
          [
           "Scrypt"
          ],
          [
           "X11GOST"
          ],
          [
           "Scrypt"
          ],
          [
           "X11"
          ],
          [
           "Scrypt"
          ],
          [
           "X11"
          ],
          [
           "Equihash"
          ],
          [
           "CryptoNight"
          ],
          [
           "SHA-256"
          ],
          [
           "Multiple"
          ],
          [
           "Scrypt"
          ],
          [
           "SHA-256"
          ],
          [
           "Scrypt"
          ],
          [
           "Lyra2Z"
          ],
          [
           "Ethash"
          ],
          [
           "Equihash"
          ],
          [
           "Scrypt"
          ],
          [
           "X11"
          ],
          [
           "X11"
          ],
          [
           "CryptoNight"
          ],
          [
           "Scrypt"
          ],
          [
           "CryptoNight"
          ],
          [
           "Lyra2RE"
          ],
          [
           "X11"
          ],
          [
           "CryptoNight-V7"
          ],
          [
           "Scrypt"
          ],
          [
           "X11"
          ],
          [
           "Equihash"
          ],
          [
           "Scrypt"
          ],
          [
           "Lyra2RE"
          ],
          [
           "Dagger-Hashimoto"
          ],
          [
           "Scrypt"
          ],
          [
           "NIST5"
          ],
          [
           "Scrypt"
          ],
          [
           "SHA-256"
          ],
          [
           "Scrypt"
          ],
          [
           "CryptoNight-V7"
          ],
          [
           "Argon2d"
          ],
          [
           "Blake2b"
          ],
          [
           "Cloverhash"
          ],
          [
           "CryptoNight"
          ],
          [
           "X11"
          ],
          [
           "Scrypt"
          ],
          [
           "Scrypt"
          ],
          [
           "X11"
          ],
          [
           "X11"
          ],
          [
           "CryptoNight"
          ],
          [
           "Time Travel"
          ],
          [
           "Scrypt"
          ],
          [
           "Keccak"
          ],
          [
           "X11"
          ],
          [
           "SHA-256"
          ],
          [
           "Scrypt"
          ],
          [
           "Scrypt"
          ],
          [
           "Scrypt"
          ],
          [
           "Scrypt"
          ],
          [
           "Scrypt"
          ],
          [
           "Scrypt"
          ],
          [
           "CryptoNight"
          ],
          [
           "Equihash"
          ],
          [
           "X11"
          ],
          [
           "NeoScrypt"
          ],
          [
           "Equihash"
          ],
          [
           "Dagger"
          ],
          [
           "Scrypt"
          ],
          [
           "X11"
          ],
          [
           "NeoScrypt"
          ],
          [
           "Ethash"
          ],
          [
           "NeoScrypt"
          ],
          [
           "Multiple"
          ],
          [
           "CryptoNight"
          ],
          [
           "CryptoNight"
          ],
          [
           "Ethash"
          ],
          [
           "X11"
          ],
          [
           "CryptoNight-V7"
          ],
          [
           "Scrypt"
          ],
          [
           "BLAKE256"
          ],
          [
           "X11"
          ],
          [
           "NeoScrypt"
          ],
          [
           "NeoScrypt"
          ],
          [
           "Scrypt"
          ],
          [
           "X11"
          ],
          [
           "SHA-256"
          ],
          [
           "C11"
          ],
          [
           "CryptoNight"
          ],
          [
           "SkunkHash"
          ],
          [
           "CryptoNight"
          ],
          [
           "Scrypt"
          ],
          [
           "Dagger"
          ],
          [
           "Lyra2REv2"
          ],
          [
           "Scrypt"
          ],
          [
           "Scrypt"
          ],
          [
           "X11"
          ],
          [
           "Ethash"
          ],
          [
           "CryptoNight"
          ],
          [
           "Scrypt"
          ],
          [
           "IMesh"
          ],
          [
           "Equihash"
          ],
          [
           "Lyra2Z"
          ],
          [
           "X11"
          ],
          [
           "CryptoNight"
          ],
          [
           "NIST5"
          ],
          [
           "Lyra2RE"
          ],
          [
           "Tribus"
          ],
          [
           "Lyra2Z"
          ],
          [
           "CryptoNight"
          ],
          [
           "CryptoNight Heavy"
          ],
          [
           "CryptoNight"
          ],
          [
           "Jump Consistent Hash"
          ],
          [
           "CryptoNight"
          ],
          [
           "X16R"
          ],
          [
           "HMQ1725"
          ],
          [
           "X11"
          ],
          [
           "Scrypt"
          ],
          [
           "CryptoNight-V7"
          ],
          [
           "Cryptonight-GPU"
          ],
          [
           "CryptoNight Heavy"
          ],
          [
           "SHA-256"
          ],
          [
           "X11"
          ],
          [
           "X16R"
          ],
          [
           "Equihash"
          ],
          [
           "Lyra2Z"
          ],
          [
           "SHA-256"
          ],
          [
           "CryptoNight"
          ],
          [
           "Blake"
          ],
          [
           "Blake"
          ],
          [
           "Exosis"
          ],
          [
           "Scrypt"
          ],
          [
           "Equihash"
          ],
          [
           "Equihash"
          ],
          [
           "QuBit"
          ],
          [
           "SHA-256"
          ],
          [
           "X13"
          ],
          [
           "SHA-256"
          ],
          [
           "Scrypt"
          ],
          [
           "NeoScrypt"
          ],
          [
           "Blake"
          ],
          [
           "Scrypt"
          ],
          [
           "SHA-256"
          ],
          [
           "Scrypt"
          ],
          [
           "Groestl"
          ],
          [
           "Scrypt"
          ],
          [
           "Scrypt"
          ],
          [
           "Multiple"
          ],
          [
           "Equihash+Scrypt"
          ],
          [
           "Ethash"
          ],
          [
           "CryptoNight"
          ],
          [
           "Equihash"
          ]
         ],
         "hovertemplate": "<b>%{hovertext}</b><br><br>Class=%{marker.color}<br>PC 1=%{x}<br>PC 2=%{y}<br>PC 3=%{z}<br>Algorithm=%{customdata[0]}<extra></extra>",
         "hovertext": [
          "Bitcoin",
          "Ethereum",
          "Litecoin",
          "Monero",
          "Ethereum Classic",
          "ZCash",
          "DigiByte",
          "ProsperCoin",
          "Spreadcoin",
          "Argentum",
          "MyriadCoin",
          "MoonCoin",
          "ZetaCoin",
          "SexCoin",
          "Quatloo",
          "QuarkCoin",
          "Riecoin",
          "Digitalcoin ",
          "Catcoin",
          "CannaCoin",
          "CryptCoin",
          "Verge",
          "DevCoin",
          "EarthCoin",
          "E-Gulden",
          "Einsteinium",
          "Emerald",
          "Franko",
          "FeatherCoin",
          "GrandCoin",
          "GlobalCoin",
          "GoldCoin",
          "Infinite Coin",
          "IXcoin",
          "KrugerCoin",
          "LuckyCoin",
          "Litebar ",
          "MegaCoin",
          "MediterraneanCoin",
          "MinCoin",
          "NobleCoin",
          "Namecoin",
          "NyanCoin",
          "RonPaulCoin",
          "StableCoin",
          "SmartCoin",
          "SysCoin",
          "TigerCoin",
          "TerraCoin",
          "UnbreakableCoin",
          "Unobtanium",
          "UroCoin",
          "ViaCoin",
          "Vertcoin",
          "WorldCoin",
          "JouleCoin",
          "ByteCoin",
          "DigitalNote ",
          "MonaCoin",
          "Gulden",
          "PesetaCoin",
          "Wild Beast Coin",
          "Flo",
          "ArtByte",
          "Folding Coin",
          "Unitus",
          "CypherPunkCoin",
          "OmniCron",
          "GreenCoin",
          "Cryptonite",
          "MasterCoin",
          "SoonCoin",
          "1Credit",
          "MarsCoin ",
          "Crypto",
          "Anarchists Prime",
          "BowsCoin",
          "Song Coin",
          "BitZeny",
          "Expanse",
          "Siacoin",
          "MindCoin",
          "I0coin",
          "Revolution VR",
          "HOdlcoin",
          "Gamecredits",
          "CarpeDiemCoin",
          "Adzcoin",
          "SoilCoin",
          "YoCoin",
          "SibCoin",
          "Francs",
          "BolivarCoin",
          "Omni",
          "PizzaCoin",
          "Komodo",
          "Karbo",
          "ZayedCoin",
          "Circuits of Value",
          "DopeCoin",
          "DollarCoin",
          "Shilling",
          "ZCoin",
          "Elementrem",
          "ZClassic",
          "KiloCoin",
          "ArtexCoin",
          "Kurrent",
          "Cannabis Industry Coin",
          "OsmiumCoin",
          "Bikercoins",
          "HexxCoin",
          "PacCoin",
          "Citadel",
          "BeaverCoin",
          "VaultCoin",
          "Zero",
          "Canada eCoin",
          "Zoin",
          "DubaiCoin",
          "EB3coin",
          "Coinonat",
          "BenjiRolls",
          "ILCoin",
          "EquiTrader",
          "Quantum Resistant Ledger",
          "Dynamic",
          "Nano",
          "ChanCoin",
          "Dinastycoin",
          "DigitalPrice",
          "Unify",
          "SocialCoin",
          "ArcticCoin",
          "DAS",
          "LeviarCoin",
          "Bitcore",
          "gCn Coin",
          "SmartCash",
          "Onix",
          "Bitcoin Cash",
          "Sojourn Coin",
          "NewYorkCoin",
          "FrazCoin",
          "Kronecoin",
          "AdCoin",
          "Linx",
          "Sumokoin",
          "BitcoinZ",
          "Elements",
          "VIVO Coin",
          "Bitcoin Gold",
          "Pirl",
          "eBoost",
          "Pura",
          "Innova",
          "Ellaism",
          "GoByte",
          "SHIELD",
          "UltraNote",
          "BitCoal",
          "DaxxCoin",
          "AC3",
          "Lethean",
          "PopularCoin",
          "Photon",
          "Sucre",
          "SparksPay",
          "GunCoin",
          "IrishCoin",
          "Pioneer Coin",
          "UnitedBitcoin",
          "Interzone",
          "TurtleCoin",
          "MUNcoin",
          "Niobio Cash",
          "ShareChain",
          "Travelflex",
          "KREDS",
          "BitFlip",
          "LottoCoin",
          "Crypto Improvement Fund",
          "Callisto Network",
          "BitTube",
          "Poseidon",
          "Aidos Kuneen",
          "Bitrolium",
          "Alpenschillling",
          "FuturoCoin",
          "Monero Classic",
          "Jumpcoin",
          "Infinex",
          "KEYCO",
          "GINcoin",
          "PlatinCoin",
          "Loki",
          "Newton Coin",
          "MassGrid",
          "PluraCoin",
          "Motion",
          "PlusOneCoin",
          "Axe",
          "HexCoin",
          "Webchain",
          "Ryo",
          "Qwertycoin",
          "Project Pai",
          "Azart",
          "Xchange",
          "CrypticCoin",
          "Actinium",
          "Bitcoin SV",
          "FREDEnergy",
          "Universal Molecule",
          "Lithium",
          "Exosis",
          "Block-Logic",
          "Beam",
          "Bithereum",
          "SLICE",
          "BLAST",
          "Bitcoin Rhodium",
          "GlobalToken",
          "SolarCoin",
          "UFO Coin",
          "BlakeCoin",
          "Crypto Escudo",
          "Crown Coin",
          "SmileyCoin",
          "Groestlcoin",
          "Bata",
          "Pakcoin",
          "JoinCoin",
          "Vollar",
          "Reality Clash",
          "Beldex",
          "Horizen"
         ],
         "legendgroup": "0",
         "marker": {
          "color": [
           0,
           0,
           0,
           0,
           0,
           0,
           0,
           0,
           0,
           0,
           0,
           0,
           0,
           0,
           0,
           0,
           0,
           0,
           0,
           0,
           0,
           0,
           0,
           0,
           0,
           0,
           0,
           0,
           0,
           0,
           0,
           0,
           0,
           0,
           0,
           0,
           0,
           0,
           0,
           0,
           0,
           0,
           0,
           0,
           0,
           0,
           0,
           0,
           0,
           0,
           0,
           0,
           0,
           0,
           0,
           0,
           0,
           0,
           0,
           0,
           0,
           0,
           0,
           0,
           0,
           0,
           0,
           0,
           0,
           0,
           0,
           0,
           0,
           0,
           0,
           0,
           0,
           0,
           0,
           0,
           0,
           0,
           0,
           0,
           0,
           0,
           0,
           0,
           0,
           0,
           0,
           0,
           0,
           0,
           0,
           0,
           0,
           0,
           0,
           0,
           0,
           0,
           0,
           0,
           0,
           0,
           0,
           0,
           0,
           0,
           0,
           0,
           0,
           0,
           0,
           0,
           0,
           0,
           0,
           0,
           0,
           0,
           0,
           0,
           0,
           0,
           0,
           0,
           0,
           0,
           0,
           0,
           0,
           0,
           0,
           0,
           0,
           0,
           0,
           0,
           0,
           0,
           0,
           0,
           0,
           0,
           0,
           0,
           0,
           0,
           0,
           0,
           0,
           0,
           0,
           0,
           0,
           0,
           0,
           0,
           0,
           0,
           0,
           0,
           0,
           0,
           0,
           0,
           0,
           0,
           0,
           0,
           0,
           0,
           0,
           0,
           0,
           0,
           0,
           0,
           0,
           0,
           0,
           0,
           0,
           0,
           0,
           0,
           0,
           0,
           0,
           0,
           0,
           0,
           0,
           0,
           0,
           0,
           0,
           0,
           0,
           0,
           0,
           0,
           0,
           0,
           0,
           0,
           0,
           0,
           0,
           0,
           0,
           0,
           0,
           0,
           0,
           0,
           0,
           0,
           0,
           0,
           0,
           0,
           0,
           0,
           0,
           0,
           0,
           0,
           0,
           0,
           0,
           0,
           0,
           0,
           0
          ],
          "coloraxis": "coloraxis",
          "symbol": "diamond"
         },
         "mode": "markers",
         "name": "0",
         "scene": "scene",
         "showlegend": true,
         "type": "scatter3d",
         "x": [
          -0.14334078663302333,
          -0.14848799626856876,
          -0.1640459454861116,
          -0.14546826914200084,
          -0.14692800901475261,
          -0.16263512386165757,
          0.1609650551995654,
          -0.16519369248509666,
          -0.22089570874451978,
          -0.16480973452908831,
          -0.09277225858860262,
          2.560183478256927,
          -0.14042188603313874,
          -0.16206153616084934,
          -0.16461351402115962,
          -0.22481914209756915,
          -0.20404245734638846,
          -0.1646623343658662,
          -0.16517593491119306,
          -0.16526250291481417,
          -0.22098516934674098,
          0.18474721550330078,
          0.23500210690169654,
          0.08379460049717034,
          -0.1650084627101169,
          -0.16060801459548144,
          -0.16494767901055152,
          -0.16531958114613815,
          -0.16933693734700977,
          -0.14451469842912554,
          -0.1641131016371674,
          -0.16439091907305875,
          1.585888846356236,
          -0.14330210467235024,
          -0.1616767627966783,
          -0.16503493918575401,
          -0.16539021932862713,
          -0.16464849608983653,
          -0.14179064745292733,
          -0.16527133038462327,
          -0.030001280770269447,
          -0.1433798184614778,
          -0.15892691432978445,
          -0.16525074771566525,
          -0.1633426162332948,
          -0.1647368169337105,
          -0.13051506497876,
          -0.1428428809278721,
          -0.14313046643855404,
          -0.14311344004354903,
          -0.1437049084852912,
          -0.22115928970999305,
          -0.1649668605643305,
          -0.20144669300071177,
          -0.16206626098558927,
          -0.14291026463247603,
          3.8651474322084596,
          0.4596435042270031,
          -0.16383297275827172,
          -0.14841185303085092,
          -0.16255010433358777,
          -0.16539243196009162,
          -0.1624149622627693,
          -0.1486205231879483,
          -0.13219607919711085,
          -0.12682348932731863,
          -0.18613136645022169,
          -0.16526534095452272,
          -0.03803726292305626,
          -0.12073367850062103,
          -0.1654013357352549,
          -0.14340763295510434,
          0.4875953322014227,
          -0.22054567019748583,
          -0.15038478547526477,
          -0.14314715887223647,
          -0.22083094457043095,
          -0.16352268448365903,
          -0.1627138632270372,
          -0.1495568804860809,
          0.36745268386722957,
          -0.22086638692425617,
          -0.14330322851761448,
          -0.16135388057448083,
          -0.15353719579685465,
          -0.1639628015023657,
          0.27573100552738505,
          -0.2200260125301959,
          -0.15707837149452072,
          -0.16421058287622903,
          -0.13655566728225382,
          -0.16519097367148153,
          -0.22082958423154375,
          -0.16540139430703157,
          -0.22097975501632722,
          -0.31681295835487594,
          0.3043447995918213,
          -0.14356365633275048,
          -0.1068698005673544,
          -0.16256439506201054,
          -0.14352223119400304,
          -0.16506435541939846,
          -0.14906530919212765,
          -0.14929869694627207,
          -0.1626567697202337,
          -0.09203297126287675,
          -0.20754535036627636,
          -0.21880507726831386,
          0.3043391523893783,
          -0.16538310851382085,
          0.30447004121082216,
          -0.15092593198350207,
          0.4951855182998402,
          -0.14423138821583506,
          -0.16535135360593112,
          -0.21370445255321055,
          -0.16266915969647058,
          -0.1634821642389064,
          -0.15064394045048557,
          -0.15429117732317485,
          -0.136237608941687,
          -0.18852754699076554,
          -0.16491315842545876,
          -0.10984474556062081,
          -0.16473499840159841,
          -0.14408890774056976,
          -0.16736179924672917,
          -0.03338393136036309,
          -0.17157885755038815,
          0.34050863618455496,
          -0.22003442262800707,
          -0.16505466753588002,
          -0.16481775160791376,
          -0.22042961516897902,
          -0.22100782291098095,
          0.3047346552416195,
          -0.1344764762266046,
          3.2487742351252193,
          -0.12195992201936025,
          -0.21186815016312585,
          -0.1433399497364201,
          -0.09087933797934927,
          1.5839459519571912,
          -0.16515264572125335,
          -0.16460357965891032,
          -0.16430416177216509,
          -0.16429107527986778,
          0.3049184979465956,
          0.04993300449082342,
          -0.17533457115902418,
          -0.1740318186450211,
          -0.1625150071433029,
          -0.15583585648895007,
          -0.1634803710069295,
          -0.2165464255123061,
          -0.17387703067157745,
          -0.14766180696896183,
          -0.17397736483808202,
          -0.1170425112515822,
          1.1433692855655841,
          0.3043219020032277,
          -0.07245426461944775,
          -0.21628772386927936,
          -0.13318677102001006,
          -0.08143084088891142,
          1.0875081163580291,
          -0.2209817871696352,
          -0.1740293719838585,
          -0.1670581273771459,
          -0.16440266349918772,
          -0.22090709629312996,
          -0.14331931938933432,
          -0.1987258345385354,
          8.052130679503112,
          -0.13965713738046076,
          0.308201385311598,
          0.027892882426612503,
          -0.15533839045598552,
          -0.18698584220935688,
          -0.16497714475211755,
          0.14250213595083244,
          -0.215040361285931,
          -0.10063989070554133,
          0.3122552565488425,
          -0.16521446482536067,
          -0.15353046243356513,
          -0.16150477021962298,
          -0.1468459640812227,
          -0.22007524946995574,
          0.30450466213119065,
          -0.1885870781440895,
          -0.1507709698214801,
          -0.16087592257135788,
          -0.14914979438139647,
          0.30843791082514577,
          0.5790252066857823,
          2.11533718785614,
          -0.14256868710560264,
          0.31812740884465834,
          -0.1967341554772836,
          -0.15705800736691689,
          -0.2209639240084273,
          -0.1652390798690083,
          -0.1330667581517265,
          -0.14737622279821258,
          3.1048817946312663,
          -0.10311484011664625,
          -0.22093525284950782,
          -0.19616114245069918,
          -0.05712349653947792,
          -0.14854676955013854,
          -0.1433399873520063,
          0.38436837272013546,
          -0.13866400306366206,
          -0.13905652178338643,
          -0.1700170346398573,
          -0.16412993388440614,
          -0.16057260930915904,
          -0.16234760641861143,
          -0.18534132285318744,
          -0.142615179136193,
          -0.1201403962179958,
          -0.1414816444641357,
          0.5315712052783087,
          -0.0990965236073221,
          -0.08945836687875476,
          -0.14877131031177387,
          -0.14312983604921287,
          0.5513744961815867,
          -0.2036028790494807,
          -0.16531601463073486,
          -0.16326906151290393,
          -0.12755935671221139,
          -0.12857215264416325,
          -0.14933189912016595,
          0.32610756236169414,
          -0.16263618222052295
         ],
         "y": [
          -1.2856126904036815,
          -1.9809492014078738,
          -1.1210413952473384,
          -2.1554004373866387,
          -1.9810188876086532,
          -1.9444800054584765,
          -1.7950722910225658,
          -1.1210484524997695,
          -0.8932454324141232,
          -1.1210600669070414,
          -1.793399228286683,
          -1.253692731616771,
          -1.2855874611793707,
          -1.1210655750422513,
          -1.1210749423303836,
          -0.4596451520362058,
          -1.2400476474821447,
          -1.1210439102288623,
          -1.1210477220011468,
          -1.1210462729915491,
          -0.893247837725809,
          -1.791260590100506,
          -1.2834212860279228,
          -1.1193976375960586,
          -1.1210408326471808,
          -1.1210375201941565,
          -1.1210453438770558,
          -1.1210474072538503,
          -1.5884430507174876,
          -1.121089924783902,
          -1.1210352338791547,
          -1.121048094009882,
          -1.1067512302363027,
          -1.2856110991323144,
          -1.121059576153838,
          -1.121041284389952,
          -1.1210440116246818,
          -1.1210394105790338,
          -2.323290210010603,
          -1.1210446346061538,
          -1.125035034633733,
          -1.2856142960676737,
          -1.1209920813962946,
          -1.1210507995978343,
          -1.1211182752158988,
          -1.1210489081968051,
          -1.2856377248640998,
          -1.2856087886625174,
          -1.2856174243852627,
          -1.2856409462261937,
          -1.2856144427638323,
          -0.8932435268647109,
          -1.1210403961031148,
          -1.1642155204053661,
          -1.1210755990571937,
          -1.2856102781615333,
          -2.2076621797663587,
          -2.2365449949544165,
          -1.121046096602208,
          -1.1214155858702992,
          -1.121032375519314,
          -1.1210449172792407,
          -1.1210227455248998,
          -1.1209907190136446,
          -2.105169457684724,
          -1.7935251481049097,
          -1.3794706124576008,
          -1.1210401629223332,
          -1.1221784736495215,
          -2.2240071323268973,
          -1.121044003268506,
          -1.2856154402808073,
          -1.1528244577134088,
          -0.8932393193367592,
          -2.142692098948343,
          -1.2856256072191925,
          -0.8932434056188627,
          -1.121100338603346,
          -1.121092410015648,
          -1.981003949026657,
          -2.0681607983929786,
          -0.8932416764819775,
          -1.2856111453642736,
          -1.1210109668863295,
          -1.9935057880745617,
          -1.121037974928441,
          -1.2821450175134512,
          -0.8932504508478013,
          -2.1585739303673406,
          -1.1211019358582557,
          -2.1518401719638414,
          -1.1210477032272046,
          -0.8932458993698619,
          -1.1210440037465839,
          -0.8932520769902973,
          -1.268065825113646,
          -2.236565659274437,
          -1.2856146786730522,
          -1.7934692207493066,
          -1.1210543899032646,
          -1.2856135497046781,
          -1.1210488687735087,
          -2.2115153948391733,
          -1.980999255585961,
          -1.9444808959106261,
          -1.124399711234075,
          -0.8930022001331936,
          -0.8932920144891747,
          -2.2365729032921724,
          -1.1210445887389513,
          -2.236570068591289,
          -2.1426787987234976,
          -0.927517828151785,
          -2.1554674796110382,
          -1.121043694023949,
          -0.893574282918085,
          -1.944478855889113,
          -1.1210284016564138,
          -2.142674210061282,
          -1.9461620104694577,
          -1.1223936031206583,
          -0.654609991453707,
          -1.1210461677946713,
          -1.285814937560641,
          -1.1210620918879708,
          -2.15541062411584,
          -2.0245194490367378,
          -2.084867039459014,
          -1.951189490341378,
          -2.236346458278912,
          -0.893260995663172,
          -1.1210416349731156,
          -1.12106740841509,
          -0.8932517557001276,
          -0.8932493433173733,
          -2.236577668494434,
          -2.184449698311306,
          -1.108079231300357,
          -1.3016399397612686,
          -0.8935624851897442,
          -1.285612655976021,
          -1.1246709678353246,
          -1.049080186425366,
          -1.1210461265188665,
          -1.1210643348108913,
          -1.1210622164145012,
          -1.1210616780715579,
          -2.2365923448533467,
          -1.9491081271212585,
          -0.8925057919778548,
          -1.588439220225774,
          -1.9444750641811492,
          -2.1586033280938453,
          -1.1210283278876938,
          -0.8932768658629604,
          -1.5884443263691672,
          -1.9810936940284665,
          -1.58844003979725,
          -1.7935434875127705,
          -2.2562254569727895,
          -2.2365681947891702,
          -1.9841956582402114,
          -0.8933937091594942,
          -2.1555323071498074,
          -1.1207764286462985,
          -1.2879669561341338,
          -0.8932488459624288,
          -1.5884352950092435,
          -1.588453844809302,
          -1.1210433211044766,
          -0.8932478131508621,
          -1.2856112756843874,
          -1.246804756395184,
          -2.555264219231116,
          -2.1596212620296367,
          -2.236614811256364,
          -1.1194662855644233,
          -2.1585469722017177,
          -1.164268266829556,
          -1.1210516554414012,
          -1.1201104141078204,
          -0.8933105246364411,
          -1.9831241410527578,
          -2.2368712980808128,
          -1.1210493070177365,
          -2.2216794804742146,
          -1.9444647397309334,
          -2.2116016843938895,
          -0.8932626751691659,
          -2.236564437355897,
          -0.6545950692189642,
          -2.142682801325864,
          -2.0079181862264748,
          -2.2115119223673516,
          -2.2367733625358075,
          -2.163685985976583,
          -2.279346686749532,
          -2.316360454283409,
          -2.2366297335975838,
          -1.1537388003164781,
          -2.2150318860135827,
          -0.8932488760337295,
          -1.1210510241396316,
          -2.156005771578171,
          -2.0187455823586653,
          -2.177269782524645,
          -1.2852831162632983,
          -0.893250246291366,
          -1.1537648992326193,
          -1.9449706083044085,
          -2.211533966506587,
          -1.2856126575234246,
          -2.238417748927016,
          -2.018430372995809,
          -2.0183955952735593,
          -2.071443766769017,
          -1.1210677977081647,
          -1.944549289251396,
          -1.944474479379911,
          -1.3795018549897877,
          -1.2856102502717341,
          -0.34037966486262256,
          -1.2856299122206194,
          -1.1549037193762492,
          -1.5878890857201786,
          -2.020801175032725,
          -1.1209969219886031,
          -1.2856173984527486,
          -1.1234287826969356,
          -1.2400429504046733,
          -1.121043285655752,
          -1.1210719042750683,
          -1.7935572044995198,
          -2.191089713949197,
          -1.9809995265907048,
          -2.23655656470282,
          -1.9444800489965002
         ],
         "z": [
          0.18811799366518503,
          0.3126770828788419,
          0.020124206834542316,
          0.3234490123337856,
          0.31267121320043884,
          0.31720538851010394,
          0.2706286962199933,
          0.020137021171562478,
          0.05911150320441419,
          0.020134769929759225,
          0.2729906804630305,
          0.011469873048000375,
          0.1880843442100972,
          0.020107350479703794,
          0.020134921578527424,
          0.02076882203128158,
          0.13486853340344823,
          0.0201309029591268,
          0.02013673241551288,
          0.020137410342917637,
          0.059112772235529396,
          0.26982928175590837,
          0.18391353582113462,
          0.017339667842821167,
          0.020134009148728253,
          0.02008833769607877,
          0.020134042030952978,
          0.020138161699727156,
          0.20413819282105103,
          0.019930705551790093,
          0.02012399904213317,
          0.020128725133922845,
          7.2390972634502e-05,
          0.18811736465751497,
          0.02010252540917023,
          0.02013434683868535,
          0.020138392507152197,
          0.020130105457337295,
          0.5797753500426809,
          0.020137262355616182,
          0.019329369900360275,
          0.188118628362054,
          0.020064455816672645,
          0.02013794894711737,
          0.0201281821328827,
          0.020132395810121162,
          0.18798993044465034,
          0.18811231227751396,
          0.1881165233755046,
          0.18811977458960302,
          0.18812198813588965,
          0.05911393241213298,
          0.020133518344351137,
          0.09947911826548472,
          0.020108859042297297,
          0.18811322120486282,
          0.25319918818084286,
          0.2923778206305417,
          0.02012270455330278,
          0.020018160112181167,
          0.020107532013828925,
          0.020138547141685878,
          0.02010474156434487,
          0.01995841922818526,
          0.23854836888286912,
          0.27335869935076357,
          0.08729132385427651,
          0.020136549528385807,
          0.01899582195883139,
          0.2602357690381612,
          0.020138505446381207,
          0.1881190806537545,
          0.01806173239405541,
          0.05910701819972363,
          0.3173366864696118,
          0.18811788665935322,
          0.059110542917889856,
          0.020127418737851427,
          0.02011795797528059,
          0.3126960336748278,
          0.23773924817983202,
          0.0591106550251747,
          0.18811738293237182,
          0.020092129517736822,
          0.21031578081377564,
          0.020122854829564045,
          0.18330938935827096,
          0.05910330309762065,
          0.2178482595277018,
          0.02013471553527866,
          0.3428978307355923,
          0.020136884116690606,
          0.05911089217429709,
          0.020138506117499337,
          0.0591133341026148,
          0.41623584623795534,
          0.29397562031412244,
          0.18812057195381263,
          0.27314564532679214,
          0.02011088526116029,
          0.18811998211246017,
          0.020135753618514787,
          0.38739932959457235,
          0.3126926987218531,
          0.31720574049358,
          0.019873846598721566,
          0.05893897814799214,
          0.05909681902767254,
          0.2939767334297698,
          0.02013840354420899,
          0.2939749764224989,
          0.3173403063615699,
          0.05674986604585006,
          0.32344607558437327,
          0.020137947128214997,
          0.05908555346839194,
          0.31720557059019294,
          0.020116524690780277,
          0.3173367421815603,
          0.019296001226662272,
          0.020035593228280028,
          -0.016197302684150972,
          0.02013380754024576,
          0.1878034751034149,
          0.0201342973987771,
          0.3234363311704666,
          0.18835041750126977,
          0.24428884879841148,
          0.23135705717382007,
          0.29357231988368576,
          0.059104925361842024,
          0.0201346004966013,
          0.020135921581985156,
          0.05910763782198652,
          0.059113224165116496,
          0.29397336601409624,
          0.15647413633699964,
          -0.01681064356691485,
          0.04398203849054559,
          0.05906497776293585,
          0.18811798005640065,
          0.019901509469864145,
          -0.00830770213391059,
          0.0201362608655892,
          0.020133274528229796,
          0.020129891199162687,
          0.020129678399607925,
          0.29397361577808656,
          0.31569659543233464,
          0.058535895901640135,
          0.20418584745828086,
          0.31720343529119677,
          0.21783978183173244,
          0.02011649553102097,
          0.05907141806872795,
          0.204185001645821,
          0.3126896445903204,
          0.20418540763676254,
          0.27326092797562823,
          0.2882230669606506,
          0.293976224762547,
          0.31236913998941873,
          0.059085780163698975,
          0.3233420988797144,
          0.019237224162057524,
          0.14933593310679946,
          0.0591128843575206,
          0.20418525060777168,
          0.20411636352656234,
          0.020128150544526068,
          0.0591119669100986,
          0.18811756715408262,
          0.09197765367044025,
          0.2608321066299359,
          0.4457022126605629,
          0.29394317555968985,
          0.017923731344439833,
          0.21782646477783948,
          0.09933829998623782,
          0.0201352639273867,
          0.016840608871409465,
          0.05906085457976865,
          0.31250251190031547,
          0.29393890409098905,
          0.020137358950751534,
          0.3581075065022133,
          0.3171915571874857,
          0.3873891072064845,
          0.059105589247441574,
          0.29397380067957285,
          -0.016198864838338812,
          0.3173392980246587,
          0.11529704060123466,
          0.38739969140688113,
          0.29396384033918876,
          0.12961836237340674,
          0.28160946721663827,
          0.33593719146412465,
          0.29384341697611566,
          0.25616348283389023,
          0.3390879605139995,
          0.05911270529758168,
          0.020137861833454358,
          0.323409828654379,
          0.10172766967720966,
          0.1056584354706589,
          0.18765690236895882,
          0.05911261045252867,
          0.2561613998855589,
          0.3161933294644076,
          0.38739670966566453,
          0.1881179806680681,
          0.29342360923211497,
          0.34008685429728475,
          0.3400858196108322,
          0.1419934948049772,
          0.0201289149625468,
          0.3171942996775887,
          0.31720163104467014,
          0.0872877613713197,
          0.18811018685749753,
          -0.1180675618442852,
          0.18810141024034477,
          0.017912990129712085,
          0.20333619412831255,
          0.3399268708289025,
          0.019960871178796916,
          0.18811651312473845,
          0.01312516157397671,
          0.13486333514595464,
          0.02013752474538443,
          0.02012067265188645,
          0.27337092525994455,
          0.394570216135298,
          0.31269307915389316,
          0.2937508099936468,
          0.3172054057200849
         ]
        },
        {
         "customdata": [
          [
           "SHA-256 + Hive"
          ],
          [
           "SHA3-256"
          ]
         ],
         "hovertemplate": "<b>%{hovertext}</b><br><br>Class=%{marker.color}<br>PC 1=%{x}<br>PC 2=%{y}<br>PC 3=%{z}<br>Algorithm=%{customdata[0]}<extra></extra>",
         "hovertext": [
          "LitecoinCash",
          "Fiii"
         ],
         "legendgroup": "3",
         "marker": {
          "color": [
           3,
           3
          ],
          "coloraxis": "coloraxis",
          "symbol": "square"
         },
         "mode": "markers",
         "name": "3",
         "scene": "scene",
         "showlegend": true,
         "type": "scatter3d",
         "x": [
          -0.37018018567088656,
          -0.5608458454205689
         ],
         "y": [
          2.8552014772885017,
          3.5398222236499084
         ],
         "z": [
          21.18930904005381,
          21.78267012409369
         ]
        },
        {
         "customdata": [
          [
           "TRC10"
          ]
         ],
         "hovertemplate": "<b>%{hovertext}</b><br><br>Class=%{marker.color}<br>PC 1=%{x}<br>PC 2=%{y}<br>PC 3=%{z}<br>Algorithm=%{customdata[0]}<extra></extra>",
         "hovertext": [
          "BitTorrent"
         ],
         "legendgroup": "2",
         "marker": {
          "color": [
           2
          ],
          "coloraxis": "coloraxis",
          "symbol": "x"
         },
         "mode": "markers",
         "name": "2",
         "scene": "scene",
         "showlegend": true,
         "type": "scatter3d",
         "x": [
          34.102388570190165
         ],
         "y": [
          1.9237610432005445
         ],
         "z": [
          -0.24128780439574615
         ]
        }
       ],
       "layout": {
        "autosize": true,
        "coloraxis": {
         "colorbar": {
          "title": {
           "text": "Class"
          }
         },
         "colorscale": [
          [
           0,
           "#0d0887"
          ],
          [
           0.1111111111111111,
           "#46039f"
          ],
          [
           0.2222222222222222,
           "#7201a8"
          ],
          [
           0.3333333333333333,
           "#9c179e"
          ],
          [
           0.4444444444444444,
           "#bd3786"
          ],
          [
           0.5555555555555556,
           "#d8576b"
          ],
          [
           0.6666666666666666,
           "#ed7953"
          ],
          [
           0.7777777777777778,
           "#fb9f3a"
          ],
          [
           0.8888888888888888,
           "#fdca26"
          ],
          [
           1,
           "#f0f921"
          ]
         ]
        },
        "legend": {
         "title": {
          "text": "Class"
         },
         "tracegroupgap": 0,
         "x": 0,
         "y": 1
        },
        "margin": {
         "t": 60
        },
        "scene": {
         "aspectmode": "auto",
         "aspectratio": {
          "x": 1.6854340000502794,
          "y": 0.45287085813005074,
          "z": 1.310128439855391
         },
         "camera": {
          "center": {
           "x": 0,
           "y": 0,
           "z": 0
          },
          "eye": {
           "x": 0.8864631237925609,
           "y": 0.9111110927971565,
           "z": 0.8796846515690925
          },
          "projection": {
           "type": "perspective"
          },
          "up": {
           "x": 0,
           "y": 0,
           "z": 1
          }
         },
         "domain": {
          "x": [
           0,
           1
          ],
          "y": [
           0,
           1
          ]
         },
         "xaxis": {
          "title": {
           "text": "PC 1"
          },
          "type": "linear"
         },
         "yaxis": {
          "title": {
           "text": "PC 2"
          },
          "type": "linear"
         },
         "zaxis": {
          "title": {
           "text": "PC 3"
          },
          "type": "linear"
         }
        },
        "template": {
         "data": {
          "bar": [
           {
            "error_x": {
             "color": "#2a3f5f"
            },
            "error_y": {
             "color": "#2a3f5f"
            },
            "marker": {
             "line": {
              "color": "#E5ECF6",
              "width": 0.5
             }
            },
            "type": "bar"
           }
          ],
          "barpolar": [
           {
            "marker": {
             "line": {
              "color": "#E5ECF6",
              "width": 0.5
             }
            },
            "type": "barpolar"
           }
          ],
          "carpet": [
           {
            "aaxis": {
             "endlinecolor": "#2a3f5f",
             "gridcolor": "white",
             "linecolor": "white",
             "minorgridcolor": "white",
             "startlinecolor": "#2a3f5f"
            },
            "baxis": {
             "endlinecolor": "#2a3f5f",
             "gridcolor": "white",
             "linecolor": "white",
             "minorgridcolor": "white",
             "startlinecolor": "#2a3f5f"
            },
            "type": "carpet"
           }
          ],
          "choropleth": [
           {
            "colorbar": {
             "outlinewidth": 0,
             "ticks": ""
            },
            "type": "choropleth"
           }
          ],
          "contour": [
           {
            "colorbar": {
             "outlinewidth": 0,
             "ticks": ""
            },
            "colorscale": [
             [
              0,
              "#0d0887"
             ],
             [
              0.1111111111111111,
              "#46039f"
             ],
             [
              0.2222222222222222,
              "#7201a8"
             ],
             [
              0.3333333333333333,
              "#9c179e"
             ],
             [
              0.4444444444444444,
              "#bd3786"
             ],
             [
              0.5555555555555556,
              "#d8576b"
             ],
             [
              0.6666666666666666,
              "#ed7953"
             ],
             [
              0.7777777777777778,
              "#fb9f3a"
             ],
             [
              0.8888888888888888,
              "#fdca26"
             ],
             [
              1,
              "#f0f921"
             ]
            ],
            "type": "contour"
           }
          ],
          "contourcarpet": [
           {
            "colorbar": {
             "outlinewidth": 0,
             "ticks": ""
            },
            "type": "contourcarpet"
           }
          ],
          "heatmap": [
           {
            "colorbar": {
             "outlinewidth": 0,
             "ticks": ""
            },
            "colorscale": [
             [
              0,
              "#0d0887"
             ],
             [
              0.1111111111111111,
              "#46039f"
             ],
             [
              0.2222222222222222,
              "#7201a8"
             ],
             [
              0.3333333333333333,
              "#9c179e"
             ],
             [
              0.4444444444444444,
              "#bd3786"
             ],
             [
              0.5555555555555556,
              "#d8576b"
             ],
             [
              0.6666666666666666,
              "#ed7953"
             ],
             [
              0.7777777777777778,
              "#fb9f3a"
             ],
             [
              0.8888888888888888,
              "#fdca26"
             ],
             [
              1,
              "#f0f921"
             ]
            ],
            "type": "heatmap"
           }
          ],
          "heatmapgl": [
           {
            "colorbar": {
             "outlinewidth": 0,
             "ticks": ""
            },
            "colorscale": [
             [
              0,
              "#0d0887"
             ],
             [
              0.1111111111111111,
              "#46039f"
             ],
             [
              0.2222222222222222,
              "#7201a8"
             ],
             [
              0.3333333333333333,
              "#9c179e"
             ],
             [
              0.4444444444444444,
              "#bd3786"
             ],
             [
              0.5555555555555556,
              "#d8576b"
             ],
             [
              0.6666666666666666,
              "#ed7953"
             ],
             [
              0.7777777777777778,
              "#fb9f3a"
             ],
             [
              0.8888888888888888,
              "#fdca26"
             ],
             [
              1,
              "#f0f921"
             ]
            ],
            "type": "heatmapgl"
           }
          ],
          "histogram": [
           {
            "marker": {
             "colorbar": {
              "outlinewidth": 0,
              "ticks": ""
             }
            },
            "type": "histogram"
           }
          ],
          "histogram2d": [
           {
            "colorbar": {
             "outlinewidth": 0,
             "ticks": ""
            },
            "colorscale": [
             [
              0,
              "#0d0887"
             ],
             [
              0.1111111111111111,
              "#46039f"
             ],
             [
              0.2222222222222222,
              "#7201a8"
             ],
             [
              0.3333333333333333,
              "#9c179e"
             ],
             [
              0.4444444444444444,
              "#bd3786"
             ],
             [
              0.5555555555555556,
              "#d8576b"
             ],
             [
              0.6666666666666666,
              "#ed7953"
             ],
             [
              0.7777777777777778,
              "#fb9f3a"
             ],
             [
              0.8888888888888888,
              "#fdca26"
             ],
             [
              1,
              "#f0f921"
             ]
            ],
            "type": "histogram2d"
           }
          ],
          "histogram2dcontour": [
           {
            "colorbar": {
             "outlinewidth": 0,
             "ticks": ""
            },
            "colorscale": [
             [
              0,
              "#0d0887"
             ],
             [
              0.1111111111111111,
              "#46039f"
             ],
             [
              0.2222222222222222,
              "#7201a8"
             ],
             [
              0.3333333333333333,
              "#9c179e"
             ],
             [
              0.4444444444444444,
              "#bd3786"
             ],
             [
              0.5555555555555556,
              "#d8576b"
             ],
             [
              0.6666666666666666,
              "#ed7953"
             ],
             [
              0.7777777777777778,
              "#fb9f3a"
             ],
             [
              0.8888888888888888,
              "#fdca26"
             ],
             [
              1,
              "#f0f921"
             ]
            ],
            "type": "histogram2dcontour"
           }
          ],
          "mesh3d": [
           {
            "colorbar": {
             "outlinewidth": 0,
             "ticks": ""
            },
            "type": "mesh3d"
           }
          ],
          "parcoords": [
           {
            "line": {
             "colorbar": {
              "outlinewidth": 0,
              "ticks": ""
             }
            },
            "type": "parcoords"
           }
          ],
          "pie": [
           {
            "automargin": true,
            "type": "pie"
           }
          ],
          "scatter": [
           {
            "marker": {
             "colorbar": {
              "outlinewidth": 0,
              "ticks": ""
             }
            },
            "type": "scatter"
           }
          ],
          "scatter3d": [
           {
            "line": {
             "colorbar": {
              "outlinewidth": 0,
              "ticks": ""
             }
            },
            "marker": {
             "colorbar": {
              "outlinewidth": 0,
              "ticks": ""
             }
            },
            "type": "scatter3d"
           }
          ],
          "scattercarpet": [
           {
            "marker": {
             "colorbar": {
              "outlinewidth": 0,
              "ticks": ""
             }
            },
            "type": "scattercarpet"
           }
          ],
          "scattergeo": [
           {
            "marker": {
             "colorbar": {
              "outlinewidth": 0,
              "ticks": ""
             }
            },
            "type": "scattergeo"
           }
          ],
          "scattergl": [
           {
            "marker": {
             "colorbar": {
              "outlinewidth": 0,
              "ticks": ""
             }
            },
            "type": "scattergl"
           }
          ],
          "scattermapbox": [
           {
            "marker": {
             "colorbar": {
              "outlinewidth": 0,
              "ticks": ""
             }
            },
            "type": "scattermapbox"
           }
          ],
          "scatterpolar": [
           {
            "marker": {
             "colorbar": {
              "outlinewidth": 0,
              "ticks": ""
             }
            },
            "type": "scatterpolar"
           }
          ],
          "scatterpolargl": [
           {
            "marker": {
             "colorbar": {
              "outlinewidth": 0,
              "ticks": ""
             }
            },
            "type": "scatterpolargl"
           }
          ],
          "scatterternary": [
           {
            "marker": {
             "colorbar": {
              "outlinewidth": 0,
              "ticks": ""
             }
            },
            "type": "scatterternary"
           }
          ],
          "surface": [
           {
            "colorbar": {
             "outlinewidth": 0,
             "ticks": ""
            },
            "colorscale": [
             [
              0,
              "#0d0887"
             ],
             [
              0.1111111111111111,
              "#46039f"
             ],
             [
              0.2222222222222222,
              "#7201a8"
             ],
             [
              0.3333333333333333,
              "#9c179e"
             ],
             [
              0.4444444444444444,
              "#bd3786"
             ],
             [
              0.5555555555555556,
              "#d8576b"
             ],
             [
              0.6666666666666666,
              "#ed7953"
             ],
             [
              0.7777777777777778,
              "#fb9f3a"
             ],
             [
              0.8888888888888888,
              "#fdca26"
             ],
             [
              1,
              "#f0f921"
             ]
            ],
            "type": "surface"
           }
          ],
          "table": [
           {
            "cells": {
             "fill": {
              "color": "#EBF0F8"
             },
             "line": {
              "color": "white"
             }
            },
            "header": {
             "fill": {
              "color": "#C8D4E3"
             },
             "line": {
              "color": "white"
             }
            },
            "type": "table"
           }
          ]
         },
         "layout": {
          "annotationdefaults": {
           "arrowcolor": "#2a3f5f",
           "arrowhead": 0,
           "arrowwidth": 1
          },
          "coloraxis": {
           "colorbar": {
            "outlinewidth": 0,
            "ticks": ""
           }
          },
          "colorscale": {
           "diverging": [
            [
             0,
             "#8e0152"
            ],
            [
             0.1,
             "#c51b7d"
            ],
            [
             0.2,
             "#de77ae"
            ],
            [
             0.3,
             "#f1b6da"
            ],
            [
             0.4,
             "#fde0ef"
            ],
            [
             0.5,
             "#f7f7f7"
            ],
            [
             0.6,
             "#e6f5d0"
            ],
            [
             0.7,
             "#b8e186"
            ],
            [
             0.8,
             "#7fbc41"
            ],
            [
             0.9,
             "#4d9221"
            ],
            [
             1,
             "#276419"
            ]
           ],
           "sequential": [
            [
             0,
             "#0d0887"
            ],
            [
             0.1111111111111111,
             "#46039f"
            ],
            [
             0.2222222222222222,
             "#7201a8"
            ],
            [
             0.3333333333333333,
             "#9c179e"
            ],
            [
             0.4444444444444444,
             "#bd3786"
            ],
            [
             0.5555555555555556,
             "#d8576b"
            ],
            [
             0.6666666666666666,
             "#ed7953"
            ],
            [
             0.7777777777777778,
             "#fb9f3a"
            ],
            [
             0.8888888888888888,
             "#fdca26"
            ],
            [
             1,
             "#f0f921"
            ]
           ],
           "sequentialminus": [
            [
             0,
             "#0d0887"
            ],
            [
             0.1111111111111111,
             "#46039f"
            ],
            [
             0.2222222222222222,
             "#7201a8"
            ],
            [
             0.3333333333333333,
             "#9c179e"
            ],
            [
             0.4444444444444444,
             "#bd3786"
            ],
            [
             0.5555555555555556,
             "#d8576b"
            ],
            [
             0.6666666666666666,
             "#ed7953"
            ],
            [
             0.7777777777777778,
             "#fb9f3a"
            ],
            [
             0.8888888888888888,
             "#fdca26"
            ],
            [
             1,
             "#f0f921"
            ]
           ]
          },
          "colorway": [
           "#636efa",
           "#EF553B",
           "#00cc96",
           "#ab63fa",
           "#FFA15A",
           "#19d3f3",
           "#FF6692",
           "#B6E880",
           "#FF97FF",
           "#FECB52"
          ],
          "font": {
           "color": "#2a3f5f"
          },
          "geo": {
           "bgcolor": "white",
           "lakecolor": "white",
           "landcolor": "#E5ECF6",
           "showlakes": true,
           "showland": true,
           "subunitcolor": "white"
          },
          "hoverlabel": {
           "align": "left"
          },
          "hovermode": "closest",
          "mapbox": {
           "style": "light"
          },
          "paper_bgcolor": "white",
          "plot_bgcolor": "#E5ECF6",
          "polar": {
           "angularaxis": {
            "gridcolor": "white",
            "linecolor": "white",
            "ticks": ""
           },
           "bgcolor": "#E5ECF6",
           "radialaxis": {
            "gridcolor": "white",
            "linecolor": "white",
            "ticks": ""
           }
          },
          "scene": {
           "xaxis": {
            "backgroundcolor": "#E5ECF6",
            "gridcolor": "white",
            "gridwidth": 2,
            "linecolor": "white",
            "showbackground": true,
            "ticks": "",
            "zerolinecolor": "white"
           },
           "yaxis": {
            "backgroundcolor": "#E5ECF6",
            "gridcolor": "white",
            "gridwidth": 2,
            "linecolor": "white",
            "showbackground": true,
            "ticks": "",
            "zerolinecolor": "white"
           },
           "zaxis": {
            "backgroundcolor": "#E5ECF6",
            "gridcolor": "white",
            "gridwidth": 2,
            "linecolor": "white",
            "showbackground": true,
            "ticks": "",
            "zerolinecolor": "white"
           }
          },
          "shapedefaults": {
           "line": {
            "color": "#2a3f5f"
           }
          },
          "ternary": {
           "aaxis": {
            "gridcolor": "white",
            "linecolor": "white",
            "ticks": ""
           },
           "baxis": {
            "gridcolor": "white",
            "linecolor": "white",
            "ticks": ""
           },
           "bgcolor": "#E5ECF6",
           "caxis": {
            "gridcolor": "white",
            "linecolor": "white",
            "ticks": ""
           }
          },
          "title": {
           "x": 0.05
          },
          "xaxis": {
           "automargin": true,
           "gridcolor": "white",
           "linecolor": "white",
           "ticks": "",
           "title": {
            "standoff": 15
           },
           "zerolinecolor": "white",
           "zerolinewidth": 2
          },
          "yaxis": {
           "automargin": true,
           "gridcolor": "white",
           "linecolor": "white",
           "ticks": "",
           "title": {
            "standoff": 15
           },
           "zerolinecolor": "white",
           "zerolinewidth": 2
          }
         }
        }
       }
      },
      "image/png": "[encoded data removed]",
      "text/html": [
       "<div>\n",
       "        \n",
       "        \n",
       "            <div id=\"b21e84ba-388f-4311-8750-98072dcd560a\" class=\"plotly-graph-div\" style=\"height:525px; width:100%;\"></div>\n",
       "            <script type=\"text/javascript\">\n",
       "                require([\"plotly\"], function(Plotly) {\n",
       "                    window.PLOTLYENV=window.PLOTLYENV || {};\n",
       "                    \n",
       "                if (document.getElementById(\"b21e84ba-388f-4311-8750-98072dcd560a\")) {\n",
       "                    Plotly.newPlot(\n",
       "                        'b21e84ba-388f-4311-8750-98072dcd560a',\n",
       "                        [{\"customdata\": [[\"Scrypt\"], [\"Scrypt\"], [\"X13\"], [\"X11\"], [\"SHA-512\"], [\"SHA-256\"], [\"SHA-256\"], [\"X15\"], [\"Scrypt\"], [\"Scrypt\"], [\"Scrypt\"], [\"Scrypt\"], [\"Scrypt\"], [\"Scrypt\"], [\"Groestl\"], [\"PoS\"], [\"Scrypt\"], [\"Scrypt\"], [\"X11\"], [\"X11\"], [\"SHA3\"], [\"Scrypt\"], [\"SHA-256\"], [\"Scrypt\"], [\"X13\"], [\"X13\"], [\"NeoScrypt\"], [\"Scrypt\"], [\"Scrypt\"], [\"Scrypt\"], [\"X11\"], [\"X11\"], [\"Multiple\"], [\"PHI1612\"], [\"X11\"], [\"Scrypt\"], [\"Scrypt\"], [\"Scrypt\"], [\"X11\"], [\"Multiple\"], [\"X13\"], [\"Scrypt\"], [\"Shabal256\"], [\"Counterparty\"], [\"SHA-256\"], [\"Groestl\"], [\"Scrypt\"], [\"X13\"], [\"Scrypt\"], [\"Scrypt\"], [\"X13\"], [\"X11\"], [\"Scrypt\"], [\"X11\"], [\"SHA3\"], [\"QUAIT\"], [\"X11\"], [\"Scrypt\"], [\"X13\"], [\"SHA-256\"], [\"X15\"], [\"BLAKE256\"], [\"SHA-256\"], [\"X11\"], [\"SHA-256\"], [\"NIST5\"], [\"Scrypt\"], [\"Scrypt\"], [\"X11\"], [\"Scrypt\"], [\"SHA-256\"], [\"Scrypt\"], [\"PoS\"], [\"X11\"], [\"SHA-256\"], [\"SHA-256\"], [\"NIST5\"], [\"X11\"], [\"POS 3.0\"], [\"Scrypt\"], [\"Scrypt\"], [\"Scrypt\"], [\"X13\"], [\"X11\"], [\"X11\"], [\"Scrypt\"], [\"SHA-256\"], [\"X11\"], [\"Scrypt\"], [\"Scrypt\"], [\"Scrypt\"], [\"Scrypt\"], [\"SHA-256D\"], [\"PoS\"], [\"Scrypt\"], [\"X11\"], [\"PoS\"], [\"X13\"], [\"X14\"], [\"PoS\"], [\"SHA-256D\"], [\"DPoS\"], [\"X11\"], [\"X13\"], [\"X11\"], [\"PoS\"], [\"Scrypt\"], [\"Scrypt\"], [\"PoS\"], [\"X11\"], [\"SHA-256\"], [\"Scrypt\"], [\"X11\"], [\"Scrypt\"], [\"Scrypt\"], [\"X11\"], [\"Scrypt\"], [\"Scrypt\"], [\"Scrypt\"], [\"Scrypt\"], [\"Quark\"], [\"QuBit\"], [\"Scrypt\"], [\"SHA-256\"], [\"X11\"], [\"Scrypt\"], [\"Scrypt\"], [\"Scrypt\"], [\"Scrypt\"], [\"X13\"], [\"Scrypt\"], [\"Scrypt\"], [\"X11\"], [\"Blake2S\"], [\"X11\"], [\"PoS\"], [\"X11\"], [\"PoS\"], [\"X11\"], [\"Scrypt\"], [\"Scrypt\"], [\"Scrypt\"], [\"SHA-256\"], [\"X11\"], [\"Scrypt\"], [\"PoS\"], [\"Scrypt\"], [\"X15\"], [\"SHA-256\"], [\"POS 3.0\"], [\"536\"], [\"NIST5\"], [\"NIST5\"], [\"Skein\"], [\"X13\"], [\"Scrypt\"], [\"X13\"], [\"SkunkHash v2 Raptor\"], [\"Skein\"], [\"X11\"], [\"Scrypt\"], [\"VeChainThor Authority\"], [\"PoS\"], [\"Scrypt\"], [\"Scrypt\"], [\"SHA-512\"], [\"Ouroboros\"], [\"X11\"], [\"NeoScrypt\"], [\"Scrypt\"], [\"Lyra2REv2\"], [\"Scrypt\"], [\"SHA-256\"], [\"NIST5\"], [\"PHI1612\"], [\"Scrypt\"], [\"Quark\"], [\"POS 2.0\"], [\"Scrypt\"], [\"SHA-256\"], [\"X11\"], [\"DPoS\"], [\"NIST5\"], [\"X13\"], [\"Scrypt\"], [\"NIST5\"], [\"Quark\"], [\"Scrypt\"], [\"Scrypt\"], [\"X11\"], [\"Quark\"], [\"Scrypt\"], [\"Scrypt\"], [\"X11\"], [\"POS 3.0\"], [\"Ethash\"], [\"Scrypt\"], [\"Scrypt\"], [\"X13\"], [\"Proof-of-BibleHash\"], [\"C11\"], [\"Proof-of-Authority\"], [\"X11\"], [\"XEVAN\"], [\"Scrypt\"], [\"VBFT\"], [\"NIST5\"], [\"Scrypt\"], [\"Scrypt\"], [\"Scrypt\"], [\"Green Protocol\"], [\"PoS\"], [\"Scrypt\"], [\"Semux BFT consensus\"], [\"Quark\"], [\"PoS\"], [\"X16R\"], [\"Scrypt\"], [\"XEVAN\"], [\"Scrypt\"], [\"Scrypt\"], [\"Scrypt\"], [\"SHA-256D\"], [\"Scrypt\"], [\"X15\"], [\"Scrypt\"], [\"Quark\"], [\"SHA-256\"], [\"DPoS\"], [\"X16R\"], [\"Quark\"], [\"Quark\"], [\"Scrypt\"], [\"Lyra2REv2\"], [\"Quark\"], [\"Scrypt\"], [\"XEVAN\"], [\"X11\"], [\"X11\"], [\"Scrypt\"], [\"PoS\"], [\"Keccak\"], [\"X11\"], [\"Scrypt\"], [\"SHA-512\"], [\"ECC 256K1\"], [\"XEVAN\"], [\"XEVAN\"], [\"X11\"], [\"Quark\"], [\"Equihash\"], [\"Scrypt\"], [\"Quark\"], [\"Quark\"], [\"Scrypt\"], [\"X11\"], [\"Scrypt\"], [\"XEVAN\"], [\"SHA-256D\"], [\"X11\"], [\"X11\"], [\"DPoS\"], [\"Scrypt\"], [\"X11\"], [\"Scrypt\"], [\"Scrypt\"], [\"SHA-256\"], [\"Scrypt\"], [\"X11\"], [\"Scrypt\"], [\"SHA-256\"], [\"X11\"], [\"Scrypt\"], [\"Scrypt\"], [\"X11\"], [\"Scrypt\"], [\"PoS\"], [\"X11\"], [\"SHA-256\"], [\"DPoS\"], [\"Scrypt\"], [\"Scrypt\"], [\"NeoScrypt\"], [\"X13\"], [\"DPoS\"], [\"DPoS\"], [\"SHA-256\"], [\"Leased POS\"], [\"PoS\"], [\"PoS\"], [\"SHA-256\"], [\"Scrypt\"], [\"Scrypt\"]], \"hovertemplate\": \"<b>%{hovertext}</b><br><br>Class=%{marker.color}<br>PC 1=%{x}<br>PC 2=%{y}<br>PC 3=%{z}<br>Algorithm=%{customdata[0]}<extra></extra>\", \"hovertext\": [\"42 Coin\", \"404Coin\", \"EliteCoin\", \"Dash\", \"Bitshares\", \"BitcoinDark\", \"PayCoin\", \"KoboCoin\", \"Aurora Coin\", \"BlueCoin\", \"EnergyCoin\", \"BitBar\", \"CryptoBullion\", \"CasinoCoin\", \"Diamond\", \"Exclusive Coin\", \"FlutterCoin\", \"HoboNickels\", \"HyperStake\", \"IOCoin\", \"MaxCoin\", \"MintCoin\", \"MazaCoin\", \"Nautilus Coin\", \"NavCoin\", \"OpalCoin\", \"Orbitcoin\", \"PotCoin\", \"PhoenixCoin\", \"Reddcoin\", \"SuperCoin\", \"SyncCoin\", \"TeslaCoin\", \"TittieCoin\", \"TorCoin\", \"UnitaryStatus Dollar\", \"UltraCoin\", \"VeriCoin\", \"X11 Coin\", \"Crypti\", \"StealthCoin\", \"ZCC Coin\", \"BurstCoin\", \"StorjCoin\", \"Neutron\", \"FairCoin\", \"RubyCoin\", \"Kore\", \"Dnotes\", \"8BIT Coin\", \"Sativa Coin\", \"Ucoin\", \"Vtorrent\", \"IslaCoin\", \"Nexus\", \"Droidz\", \"Squall Coin\", \"Diggits\", \"Paycon\", \"Emercoin\", \"EverGreenCoin\", \"Decred\", \"EDRCoin\", \"Hitcoin\", \"DubaiCoin\", \"PWR Coin\", \"BillaryCoin\", \"GPU Coin\", \"EuropeCoin\", \"ZeitCoin\", \"SwingCoin\", \"SafeExchangeCoin\", \"Nebuchadnezzar\", \"Ratecoin\", \"Revenu\", \"Clockcoin\", \"VIP Tokens\", \"BitSend\", \"Let it Ride\", \"PutinCoin\", \"iBankCoin\", \"Frankywillcoin\", \"MudraCoin\", \"Lutetium Coin\", \"GoldBlocks\", \"CarterCoin\", \"BitTokens\", \"MustangCoin\", \"ZoneCoin\", \"RootCoin\", \"BitCurrency\", \"Swiscoin\", \"BuzzCoin\", \"Opair\", \"PesoBit\", \"Halloween Coin\", \"CoffeeCoin\", \"RoyalCoin\", \"GanjaCoin V2\", \"TeamUP\", \"LanaCoin\", \"ARK\", \"InsaneCoin\", \"EmberCoin\", \"XenixCoin\", \"FreeCoin\", \"PLNCoin\", \"AquariusCoin\", \"Creatio\", \"Eternity\", \"Eurocoin\", \"BitcoinFast\", \"Stakenet\", \"BitConnect Coin\", \"MoneyCoin\", \"Enigma\", \"Russiacoin\", \"PandaCoin\", \"GameUnits\", \"GAKHcoin\", \"Allsafe\", \"LiteCreed\", \"Klingon Empire Darsek\", \"Internet of People\", \"KushCoin\", \"Printerium\", \"Impeach\", \"Zilbercoin\", \"FirstCoin\", \"FindCoin\", \"OpenChat\", \"RenosCoin\", \"VirtacoinPlus\", \"TajCoin\", \"Impact\", \"Atmos\", \"HappyCoin\", \"MacronCoin\", \"Condensate\", \"Independent Money System\", \"ArgusCoin\", \"LomoCoin\", \"ProCurrency\", \"GoldReserve\", \"GrowthCoin\", \"Phreak\", \"Degas Coin\", \"HTML5 Coin\", \"Ultimate Secure Cash\", \"QTUM\", \"Espers\", \"Denarius\", \"Virta Unique Coin\", \"Bitcoin Planet\", \"BritCoin\", \"Linda\", \"DeepOnion\", \"Signatum\", \"Cream\", \"Monoeci\", \"Draftcoin\", \"Vechain\", \"Stakecoin\", \"CoinonatX\", \"Ethereum Dark\", \"Obsidian\", \"Cardano\", \"Regalcoin\", \"TrezarCoin\", \"TerraNovaCoin\", \"Rupee\", \"WomenCoin\", \"Theresa May Coin\", \"NamoCoin\", \"LUXCoin\", \"Xios\", \"Bitcloud 2.0\", \"KekCoin\", \"BlackholeCoin\", \"Infinity Economics\", \"Magnet\", \"Lamden Tau\", \"Electra\", \"Bitcoin Diamond\", \"Cash & Back Coin\", \"Bulwark\", \"Kalkulus\", \"GermanCoin\", \"LiteCoin Ultra\", \"PhantomX\", \"Digiwage\", \"Trollcoin\", \"Litecoin Plus\", \"Monkey Project\", \"TokenPay\", \"1717 Masonic Commemorative Token\", \"My Big Coin\", \"Unified Society USDEX\", \"Tokyo Coin\", \"BiblePay\", \"Stipend\", \"Poa Network\", \"Pushi\", \"Ellerium\", \"Velox\", \"Ontology\", \"Bitspace\", \"Briacoin\", \"Ignition\", \"MedicCoin\", \"Bitcoin Green\", \"Deviant Coin\", \"Abjcoin\", \"Semux\", \"Carebit\", \"Zealium\", \"Proton\", \"iDealCash\", \"Bitcoin Incognito\", \"HollyWoodCoin\", \"Swisscoin\", \"Xt3ch\", \"TheVig\", \"EmaratCoin\", \"Dekado\", \"Lynx\", \"Poseidon Quark\", \"BitcoinWSpectrum\", \"Muse\", \"Trivechain\", \"Dystem\", \"Giant\", \"Peony Coin\", \"Absolute Coin\", \"Vitae\", \"TPCash\", \"Urals Coin\", \"ARENON\", \"EUNO\", \"MMOCoin\", \"Ketan\", \"XDNA\", \"PAXEX\", \"ThunderStake\", \"Kcash\", \"Acute Angle Cloud\", \"Bettex coin\", \"BitMoney\", \"Junson Ming Chan Coin\", \"HerbCoin\", \"PirateCash\", \"Oduwa\", \"Galilel\", \"Crypto Sports\", \"Credit\", \"Dash Platinum\", \"Nasdacoin\", \"Beetle Coin\", \"Titan Coin\", \"Award\", \"Insane Coin\", \"ALAX\", \"LiteDoge\", \"TruckCoin\", \"OrangeCoin\", \"BitstarCoin\", \"NeosCoin\", \"HyperCoin\", \"PinkCoin\", \"AudioCoin\", \"IncaKoin\", \"Piggy Coin\", \"Genstake\", \"XiaoMiCoin\", \"CapriCoin\", \" ClubCoin\", \"Radium\", \"Creditbit \", \"OKCash\", \"Lisk\", \"HiCoin\", \"WhiteCoin\", \"FriendshipCoin\", \"Triangles Coin\", \"EOS\", \"Oxycoin\", \"TigerCash\", \"Waves\", \"Particl\", \"Nxt\", \"ZEPHYR\", \"Gapcoin\", \"BitcoinPlus\"], \"legendgroup\": \"1\", \"marker\": {\"color\": [1, 1, 1, 1, 1, 1, 1, 1, 1, 1, 1, 1, 1, 1, 1, 1, 1, 1, 1, 1, 1, 1, 1, 1, 1, 1, 1, 1, 1, 1, 1, 1, 1, 1, 1, 1, 1, 1, 1, 1, 1, 1, 1, 1, 1, 1, 1, 1, 1, 1, 1, 1, 1, 1, 1, 1, 1, 1, 1, 1, 1, 1, 1, 1, 1, 1, 1, 1, 1, 1, 1, 1, 1, 1, 1, 1, 1, 1, 1, 1, 1, 1, 1, 1, 1, 1, 1, 1, 1, 1, 1, 1, 1, 1, 1, 1, 1, 1, 1, 1, 1, 1, 1, 1, 1, 1, 1, 1, 1, 1, 1, 1, 1, 1, 1, 1, 1, 1, 1, 1, 1, 1, 1, 1, 1, 1, 1, 1, 1, 1, 1, 1, 1, 1, 1, 1, 1, 1, 1, 1, 1, 1, 1, 1, 1, 1, 1, 1, 1, 1, 1, 1, 1, 1, 1, 1, 1, 1, 1, 1, 1, 1, 1, 1, 1, 1, 1, 1, 1, 1, 1, 1, 1, 1, 1, 1, 1, 1, 1, 1, 1, 1, 1, 1, 1, 1, 1, 1, 1, 1, 1, 1, 1, 1, 1, 1, 1, 1, 1, 1, 1, 1, 1, 1, 1, 1, 1, 1, 1, 1, 1, 1, 1, 1, 1, 1, 1, 1, 1, 1, 1, 1, 1, 1, 1, 1, 1, 1, 1, 1, 1, 1, 1, 1, 1, 1, 1, 1, 1, 1, 1, 1, 1, 1, 1, 1, 1, 1, 1, 1, 1, 1, 1, 1, 1, 1, 1, 1, 1, 1, 1, 1, 1, 1, 1, 1, 1, 1, 1, 1, 1, 1, 1, 1, 1, 1, 1, 1, 1, 1, 1, 1, 1, 1, 1, 1, 1, 1, 1, 1, 1, 1, 1], \"coloraxis\": \"coloraxis\", \"symbol\": \"circle\"}, \"mode\": \"markers\", \"name\": \"1\", \"scene\": \"scene\", \"showlegend\": true, \"type\": \"scatter3d\", \"x\": [-0.3342027199739133, -0.3175188616069802, 2.2990813695480274, -0.3896968373447498, -0.2369132949564092, -0.3123266305564026, -0.2671349770817877, -0.24737534902402916, -0.3338618574769783, -0.32642976385210315, -0.3326973291042555, -0.3341986509692124, -0.3341829116638009, 0.6135197075561485, -0.3739626936415767, -0.3504990869968997, -0.27045575674106126, -0.33225899518763585, -0.32430250294195256, -0.3895913960292347, -0.42923113698062076, -0.028592170256798846, -0.27558570043318603, -0.2887618369506262, -0.2881506034835311, -0.28877362440780235, -0.3429976774212232, -0.3284976531461421, -0.33260240333969493, 0.024406140310232045, -0.3442150619547984, -0.389963447045664, -0.249589703387497, -0.31835106080287673, -0.38987497403897325, -0.30940289803095555, -0.33287841713551913, -0.27100355313250746, -0.38983940253776694, -0.25005802617515127, -0.28855420185351666, -0.32529449067161964, -0.14144384300277868, -0.3505957370456484, -0.311537328674213, -0.37338350056175174, -0.2887420663562369, -0.28884911270443275, -0.2833892567804727, -0.33418476511104633, -0.28880123523014883, -0.344660492267781, -0.3339188054092601, -0.3899449518378956, -0.4478722964852711, -0.4226936199370651, -0.3259420967371828, -0.28714154444043694, -0.28832225890194, -0.3048739044880855, -0.24981989520684236, -0.08789544828027894, -0.3122975065529599, -0.0669992217219072, -0.31236128103224364, -0.23460661962289028, -0.3337945296116643, -0.287010451102149, -0.3871105626300051, 0.8658767615050553, -0.31216109090897387, -0.11819284278979662, -0.3501819528006419, -0.38778515370959965, -0.31090304467711366, -0.308568317495504, -0.3561236431891225, -0.3886785313016871, -0.3546760922215357, -0.3100605805853134, -0.33383267764005925, -0.3322696588552464, -0.24235016820238323, -0.3321351372429336, -0.3894181847658827, -0.3330358779518156, -0.3123422110301937, -0.38993413014120826, -0.33402208021863483, -0.3341789906842823, -0.2869999555147934, -0.23399193135778534, 0.036970975116561285, -0.3491376858093905, -0.33379264414082044, -0.37607887099988113, -0.3484654397471216, -0.24378258447245948, -0.4220481315032152, -0.34821412399857443, -0.2779619220596229, 3.7188089846161314, -0.38952614896199705, 0.8448423512316764, -0.3898889813484858, -0.3496020342214761, -0.333720115261883, -0.3338746436645289, -0.3501819528006419, -0.38946334782318387, -0.3122047045326287, -0.3337208505210928, -0.3498325906501086, -0.33386843207880246, -0.3294508840344693, -0.38991801336505894, -0.33307813789113394, 0.35533970871183285, -0.3340679639805177, -0.3341386245309426, -0.3531735794789663, -0.3540693089486557, -0.3303606051652281, -0.3123185939531132, -0.38982784860959835, -0.3339161508375761, -0.3340432701347723, -0.2886484699224016, -0.2845685002542225, -0.2435501390432387, -0.31487210148027367, -0.2883892570807524, -0.3890926616057305, -0.42808579507673794, -0.3878293890654702, -0.34842624409238904, -0.38899041359874453, -0.34281892987688856, -0.38492621608155675, -0.3339864824780376, -0.33398567349274266, -0.32709869612871084, 0.26620263325962606, -0.3894694996558654, -0.2712684829007996, -0.35021629459509174, -0.33319616482671904, 0.8860097171203978, -0.2658237327841916, -0.3534528681961924, 0.58582964710295, -0.35766127320581764, -0.3561615783896729, -0.4264172304413233, -0.2884859241604409, 0.13133672057278156, -0.2885567856818599, -0.33399820380755274, -0.4259214699742336, -0.3897422306475822, -0.2887227582285147, 4.386652033683375, -0.35008240343978564, -0.3336212103812909, -0.3341215321847157, -0.2950521595864857, 0.6680711216383712, -0.3896829861519482, -0.33799050731766217, -0.3340770927503172, -0.32586627155150477, 0.4360357086869898, -0.3106627291511673, -0.34240858176772554, -0.3991223387759866, -0.3340273681994131, -0.39674155621019663, -0.3611164479534209, -0.33389759667470015, -0.09339486277319656, -0.38847409737468136, 3.723671224060745, 0.2025525667001824, -0.28522334840332975, -0.3313546107511453, -0.3122963897883179, -0.3530593358398839, 0.08077365768497198, -0.33303504242514226, -0.3890559700203822, -0.3522230108856829, -0.3205847928413335, -0.33414369249635556, -0.3446323854122928, -0.35495837410382813, -0.27343528440677867, -0.2653953239102799, -0.32968319956016356, -0.23533540658240845, -0.19739237444983146, -0.3675493565848441, -0.3977810466725587, -0.38975950243151275, -0.2912616690168643, -0.28788167516054786, -0.3293743957326955, -0.3572597213432212, -0.33417108261790796, -0.33415277030216317, -0.2822558769938411, -0.345215118428139, -0.34967633929148706, -0.33386891820666353, 3.909532067735329, -0.3954078476324322, -0.34986525214001063, -0.32027826758609323, -0.28067092743914906, -0.22739287425753602, -0.2884165715410596, -0.13703040386944035, -0.28866896282057125, -0.34336022062517907, -0.33334227800837246, -0.20403468740161992, 2.254513963099295, -0.3487618412976018, -0.26595159919530076, 1.0159065646808365, -0.3647420804813952, -0.3531730160459006, -0.3984278506593373, -0.16924916760302375, -0.37092258658161104, -0.35189090015197116, -0.3270387093299581, -0.12123231605977638, -0.34420925082379306, -0.38923215883506257, -0.2859109059596735, -0.3489639083380963, -0.3509974990141723, -0.34407045934944097, -0.19347425941384794, -0.222623797419033, -0.34546181757448946, -0.24612663419358985, 0.5923447594224731, -0.13431133075820867, -0.3977215725812169, -0.2856256630652329, -0.3338728952203815, -0.3981782770132039, -0.3532901432973491, 0.5738028220944478, -0.34468677087798655, -0.33335515674678745, -0.28571016541106364, -0.2980221359198837, -0.38679371578207916, -0.38945968684098076, 3.735928760560363, 0.10161558833374636, -0.3869961296152307, -0.3327398701917542, -0.33356590905891775, -0.26716765110048074, -0.33408490509966227, -0.3810767266067686, -0.24767766601997268, -0.09169847626840527, -0.37681965700596504, -0.33336228950103886, -0.3264176708656856, -0.38602387199081994, -0.3317994789927076, -0.3504579398172072, -0.3559109006912456, -0.3108397797223101, 3.7192013012193583, -0.09570270571712391, -0.32899063705717063, -0.3426230600818524, -0.2889564539899608, 3.7290821674722348, 3.7303279193632446, -0.2480398170950726, -0.45884993900331805, -0.3503937229138385, -0.339702348590957, 2.4723332951217687, -0.332245596537806, -0.28906593867562763], \"y\": [0.9247510619501608, 0.9250982791910738, 1.611626739593284, 1.1525479736191808, 0.9328947296434662, 0.7601737543681092, 0.60832376666027, 1.7006371565594902, 0.9247543953757347, 0.9250708203949937, 0.9248129896908553, 0.924750910650836, 0.9247512394093862, 0.4847563173198368, 0.8057517483501438, 1.504090839831206, 0.3373085517901051, 0.9247545302141458, 1.0015370374809571, 1.1525523111900808, 1.6977253763598155, 0.7836079486356726, 0.7601571347849827, 0.7728949577505951, 1.705448890992367, 1.7054232615944853, 0.4573634915594086, 0.9247180332904018, 0.924754426744569, 0.9395032617925875, 1.000717888592205, 1.152551028793008, 0.10038443620189627, 1.5448128463547621, 1.1525482946917776, 0.9247513749943934, 0.9247417974267612, 0.161114117645486, 1.1525526264328734, 0.10042891345912798, 1.7054322880456512, 0.9244800945504319, 1.013861754760722, 1.5551527248172556, 0.7601769024312707, 0.8057783667231698, 0.7729060846431326, 1.7054125070748776, 0.7728075708114698, 0.92475180059149, 1.705415751480673, 1.0006868162340223, 0.9247499928968638, 1.1525517902733233, 1.6486693375304182, 1.7006267660172105, 1.3566740725684263, 0.7729081829996656, 1.7054099581563134, 0.7598569348844219, 1.7007429312243272, 0.7737739461352414, 0.7601749524509389, 1.1489131940652575, 0.7601796593621731, 1.3962639004853827, 0.9247410818533115, 0.7728364134984786, 1.1524236170689588, 0.7572986205563924, 0.7601690905195408, 0.4787838901803785, 1.5040911373170465, 1.152592831440401, 0.7601043691271577, 0.7600077349732286, 1.3912076498726795, 1.1525152849128508, 1.6238987672685368, 0.9244693485440653, 0.9247380252148789, 0.9247668400979961, 1.5534904057750558, 1.0007960339226463, 1.1525415886519035, 0.9247416941932876, 0.7601737508574207, 1.1525503231649434, 0.9247451070222621, 0.9247520381358091, 0.7729777503772511, 0.11035123579904038, 1.7495822344548078, 1.5040996745327353, 0.9247679313889836, 1.1521660615082787, 1.5041490015340047, 1.5535573719735116, 1.7463114992427506, 1.5039929712337956, 1.7445907701704138, 1.5030290153023613, 1.1525498958548452, 1.751515346909645, 1.1525516365300077, 1.5040958707633862, 0.9247463485592404, 0.9247377861775856, 1.5040911373170465, 1.1525333564865579, 0.760180044931206, 0.9247498496633202, 0.8286675532757646, 0.9247469656962751, 0.9245317909298044, 1.1525497113097452, 0.9247055346260458, 0.7786759533012382, 0.9247483189115744, 0.9247515851138436, 1.4342461739267092, 0.6663093258187911, 0.9245904022433351, 0.760174722400176, 1.1525506450830776, 0.9247501020987721, 0.9247436403938418, 0.772874876412182, 0.22894018041832104, 1.5535592692535873, 0.9249088434881614, 0.7728986539006084, 1.152523108399562, 1.858752785001676, 1.1525687017402728, 1.504105809044969, 1.1525273146063706, 1.5041518095823934, 1.1524395335471511, 0.9247464362053041, 0.9247417602444553, 0.9244058744115585, 0.5824647093738593, 1.15254585197511, 0.7723500448326901, 1.5040833503092235, 0.924725539005482, 1.690116143893289, 0.6082581363028775, 1.6239066984442403, 1.8601272656320786, 1.3911953901606573, 1.3911869664835061, 1.7520949078163794, 1.7054159739680126, 0.912030701190244, 1.7054201355215706, 1.5094403041711046, 1.7521153020628164, 1.1525540694755445, 0.7728957839263894, 2.090102537932245, 1.5040687155298258, 0.9247442265389345, 0.924751724626021, 0.9327399040888723, 1.5162136939290427, 1.152545356280259, 0.45731690494842225, 0.9247462010758848, 0.7297280374191109, 0.9405008924029321, 0.7601924833997971, 1.3910643054642278, 1.6966330785188655, 0.9247448894890169, 1.586051086710443, 1.8419321975387704, 0.9247541874652896, 0.6097420822455063, 1.1525205076327956, 1.5029899992302298, 1.3951246110331705, 1.7054354504966118, 0.9247343656343956, 1.2393351803494241, 1.4342476864618368, 0.9099506733671122, 0.9247034828896052, 1.1525564891880968, 1.434218347819666, 0.924737581588696, 0.9247509404962443, 1.0006873350462162, 1.623892573091706, -0.08706662918473132, 0.19214234511505549, 0.9247890995617094, 1.553396517369472, 5.752573102311777, 0.7989913358956188, 6.758638736857609, 1.152543483463041, 2.0030872516417273, 0.7728624377511302, 1.5437040547629832, 1.3911864118029265, 0.9247504511685475, 0.9247499296319185, 0.7728541949943366, 1.4833813150740918, 1.504068591792694, 0.924745670842455, 1.479673484937459, 1.586105951878636, 1.5040659198517417, 0.7401879135687788, 0.923688340623655, 2.2072288787452634, 0.7729029014947516, 0.9263604336987373, 0.7728810450967897, 1.7466212519752289, 0.9247329142901266, 1.5488706997399575, 0.29790960791510884, 1.4340228941912294, 0.6083165055504227, 1.4668565687288309, 0.8920499650091068, 1.434242372537324, 1.5861059193040372, 0.7670619164850867, 0.8815714814545582, 1.434244758516464, 0.9244083421064192, -0.04275251760260905, 1.000683069111028, 1.152549241256193, 0.7728568196758412, 1.504020133071837, 0.744630617320573, 1.0006600943611264, 0.919066548202286, 0.04160320943882202, 4.174133091108569, 1.851235253509472, 3.035503074019499, 1.0093527610886903, 1.586103835960034, -0.05056945043544331, 0.9247512440901021, 1.5861073354036916, 1.4342424178135948, 0.914424349059927, 1.000685926431359, 0.9247323844936167, 2.003035157220729, 1.7453629415189347, 1.1524137038874005, 1.1525526299269724, 1.5031755272127405, 0.920369472842545, 1.152673096854023, 0.9246837540821226, 0.9247426742928885, 0.6083170044021114, 0.9247559085626103, 1.1525978911456647, 0.9216174758461319, 0.7691427127711217, 1.1524543015313138, 0.9247760735976153, 0.9248163467011737, 1.1525805078997289, 0.92474793635247, 1.50408679566378, 0.7249222466215306, 0.7601820128779775, 1.5030228961847072, 0.7744672912441847, 0.9247742446139651, 0.457342952552747, 1.7054156639879963, 1.5035313047840717, 1.503582551651766, 0.6084798298935158, 4.216100686035369, 1.504089670583096, 1.4417007754337159, 0.6448016982796979, 0.9246722157692568, 0.7728921239828597], \"z\": [-0.40267741171402033, -0.4028993149444455, -0.5537996087279059, -0.36370417491343027, 0.05434468919774112, -0.23469477363955266, -0.04764848111869782, -0.587779153761714, -0.4026813976195377, -0.40280380781882474, -0.4027018908907445, -0.4026774314619267, -0.40267764097678516, -0.24232272951745942, -0.28793652484073834, -0.2355348112760803, -0.28205072315081753, -0.4026978773353662, -0.17698755889952889, -0.36370588949549276, -0.6508492301012365, -0.21986491090611235, -0.23506965202518398, -0.21563278768110014, -0.5408964818015104, -0.5408863508533389, -0.21862949444059365, -0.4027311872813705, -0.40269433574558045, -0.40850875322807795, -0.17666376062010808, -0.3637018820510187, 0.037585582232810555, -0.2121004465330055, -0.3637023923619022, -0.40293213106300146, -0.4026896617946216, -0.1642707246839576, -0.3637033885893641, 0.03758391321114424, -0.5408899188852274, -0.4027294242828213, -0.2221520778464835, -0.06983707636747126, -0.23470333764947512, -0.2879463497616783, -0.21563461139040618, -0.5408840092068852, -0.2156752313581258, -0.4026777036820873, -0.5408849734313168, -0.17665466058982657, -0.4026801715704559, -0.3637021828945825, -0.790986812235511, -0.5398238443670568, -0.16471144980166028, -0.21565135306770739, -0.5408890483002875, -0.2347251608277548, -0.5877694568373248, -0.26546559080047977, -0.23469524722520263, -0.36648859186497623, -0.2346952778964462, -0.4410132307314704, -0.4026801498472947, -0.2156422457400585, -0.36371262073857485, -0.2252182992781009, -0.23469579428506848, -0.23393873339321936, -0.23553811131330843, -0.36373034007234745, -0.2346992864242893, -0.2347091869541807, -0.4390288854712581, -0.3637098708220465, -0.11554204479927177, -0.4028842987929253, -0.4026793128854161, -0.40269956081782654, -0.35384063782187875, -0.17679919371732217, -0.3637061064469939, -0.4026880297652655, -0.23469461312956733, -0.3637020803336115, -0.40267839937374245, -0.40267779758008654, -0.21566293986856205, -0.19577457092181172, -0.5469121819009731, -0.23555007855910576, -0.40268407996428185, -0.3637883930113937, -0.23556416667065902, -0.3538356820119587, -0.509439510791946, -0.2355440209665777, -0.5429510512836323, 0.12468998151013552, -0.36370620772479145, -0.5592411716001553, -0.3637027352720255, -0.2355447560472403, -0.4026816811406334, -0.4026788471120484, -0.23553811131330843, -0.36370444360794096, -0.23469694196803279, -0.40268218354156804, -0.24193404872083543, -0.40268024793780305, -0.40269427135358626, -0.36370215672019146, -0.4026823289880617, -0.22308920805515553, -0.40267839601130545, -0.40267814612257424, -0.21494424922485392, -0.3355312568352082, -0.4026934662660977, -0.23469499716704434, -0.36370321864624916, -0.4026802147364671, -0.40267796814977236, -0.21563102693053743, -0.2968189853396208, -0.35383834538244974, -0.4028989028358006, -0.21563715213035697, -0.36370675757056514, -0.46222378438788436, -0.3637263712131005, -0.2355582779988788, -0.3637084202262146, -0.23562256068281992, -0.3637373704852852, -0.4026789585346743, -0.40267828576771153, -0.40270008608362967, -0.04935893210468623, -0.3637062004573844, -0.21573306102469916, -0.23553662443889603, -0.4026840306757941, -0.5978856527595785, -0.04765238716344175, -0.11555576151403746, -0.6762049626999713, -0.4390113095951819, -0.43902548327999746, -0.4855279231200849, -0.5408882438226693, -0.40560534113048724, -0.5408881222820442, -0.07945756960136616, -0.4855359846849567, -0.36370459665027904, -0.2156333093235945, 0.40464995619077304, -0.23553586776985896, -0.4026823877305923, -0.4026783419674686, 0.05496427850281371, -0.0002841003982882616, -0.36370393592667294, -0.21867412840705874, -0.4026779937941312, -0.13628196855496993, -0.4128811593373977, -0.23471458850411972, -0.4391488491067853, -0.39877703157655403, -0.4026783133858451, -0.4020006502050709, -0.24145127233072444, -0.40268100032431775, -0.049639233043384495, -0.36371273090263795, 0.1246457331794246, -0.4453365530491023, -0.5409245846328418, -0.4027042275578386, -0.25196530710821247, -0.21494564272046093, -0.404783134765411, -0.40268247269844165, -0.3637119964238322, -0.21494995778493217, -0.40281529313866304, -0.4026780001873104, -0.1766550247914035, -0.11553824378724215, 0.07693029802650381, -0.11934107018505888, -0.40272936381553215, -0.3538989983827031, 4.402014404953019, -0.3308381857505469, -5.161896808762198, -0.36370287738329077, -0.32090407418862565, -0.21563708953488855, -0.15899787773270627, -0.43901412546430557, -0.40267764764054986, -0.40267775972881625, -0.21569366125579018, -0.1685557533456894, -0.23554001969146776, -0.40268005434442977, 0.21719594470895354, -0.40202233765079065, -0.23553769053192306, 0.020395859088837634, -0.40307234904227573, -0.12191478206409706, -0.2156374903143912, -0.40493662124175894, -0.2156317149818024, -0.5425752133433179, -0.40268360445685814, -0.4007260197253785, -0.15719804483563918, -0.21495703245320322, -0.04765957582220065, -0.031168430339026446, -0.16665966489200812, -0.21494370132151086, -0.4019913199615553, -0.21601047589098377, -0.3233286977751187, -0.21495721512464042, -0.4027010615294386, 0.10190574408501497, -0.1766587486827365, -0.36370913141612476, -0.2156565094142198, -0.23554027754172577, -0.378284560078008, -0.17665682758200016, -0.4032946023279847, 0.4502792949801101, 7.27275818328121, -0.13385690741354622, 0.031603262774200384, -0.18007700685137465, -0.40199826940755495, 0.08143443363752466, -0.40268082527217763, -0.4019940891386548, -0.2149425051157648, -0.4104977491933226, -0.17665426112640506, -0.40268339503559103, -0.32095349577486704, -0.5428575196083048, -0.36371443059567427, -0.36370728846586625, 0.12449283539264677, -0.40651470889674923, -0.3637501337160415, -0.40268263028535267, -0.402682729538074, -0.04764716063033338, -0.40267932750652136, -0.3637999670640465, -0.40310953197114674, -0.23826681197011065, -0.36382276919537676, -0.40268968530114685, -0.4027668667741085, -0.36374663200674356, -0.40270163576295603, -0.235534644772695, -0.03344292161669216, -0.23471124526227288, 0.12468684401843849, -0.21784436339954474, -0.4027343121727578, -0.21863034985420507, -0.5408833667187524, 0.12451132367478226, 0.12449106649344228, -0.0478673039967141, 1.8050543096444485, -0.2355357229722553, -0.4725799914516768, 0.10778993427283937, -0.4026860254620364, -0.2156292520558399]}, {\"customdata\": [[\"SHA-256\"], [\"Ethash\"], [\"Scrypt\"], [\"CryptoNight-V7\"], [\"Ethash\"], [\"Equihash\"], [\"Multiple\"], [\"Scrypt\"], [\"X11\"], [\"Scrypt\"], [\"Multiple\"], [\"Scrypt\"], [\"SHA-256\"], [\"Scrypt\"], [\"Scrypt\"], [\"Quark\"], [\"Groestl\"], [\"Scrypt\"], [\"Scrypt\"], [\"Scrypt\"], [\"X11\"], [\"Multiple\"], [\"SHA-256\"], [\"Scrypt\"], [\"Scrypt\"], [\"Scrypt\"], [\"Scrypt\"], [\"Scrypt\"], [\"NeoScrypt\"], [\"Scrypt\"], [\"Scrypt\"], [\"Scrypt\"], [\"Scrypt\"], [\"SHA-256\"], [\"Scrypt\"], [\"Scrypt\"], [\"Scrypt\"], [\"Scrypt\"], [\"HybridScryptHash256\"], [\"Scrypt\"], [\"Scrypt\"], [\"SHA-256\"], [\"Scrypt\"], [\"Scrypt\"], [\"Scrypt\"], [\"Scrypt\"], [\"SHA-256\"], [\"SHA-256\"], [\"SHA-256\"], [\"SHA-256\"], [\"SHA-256\"], [\"X11\"], [\"Scrypt\"], [\"Lyra2REv2\"], [\"Scrypt\"], [\"SHA-256\"], [\"CryptoNight\"], [\"CryptoNight\"], [\"Scrypt\"], [\"Scrypt\"], [\"Scrypt\"], [\"Scrypt\"], [\"Scrypt\"], [\"Scrypt\"], [\"Stanford Folding\"], [\"Multiple\"], [\"QuBit\"], [\"Scrypt\"], [\"Scrypt\"], [\"M7 POW\"], [\"Scrypt\"], [\"SHA-256\"], [\"Scrypt\"], [\"X11\"], [\"Lyra2RE\"], [\"SHA-256\"], [\"X11\"], [\"Scrypt\"], [\"Scrypt\"], [\"Ethash\"], [\"Blake2b\"], [\"X11\"], [\"SHA-256\"], [\"Scrypt\"], [\"1GB AES Pattern Search\"], [\"Scrypt\"], [\"SHA-256\"], [\"X11\"], [\"Dagger\"], [\"Scrypt\"], [\"X11GOST\"], [\"Scrypt\"], [\"X11\"], [\"Scrypt\"], [\"X11\"], [\"Equihash\"], [\"CryptoNight\"], [\"SHA-256\"], [\"Multiple\"], [\"Scrypt\"], [\"SHA-256\"], [\"Scrypt\"], [\"Lyra2Z\"], [\"Ethash\"], [\"Equihash\"], [\"Scrypt\"], [\"X11\"], [\"X11\"], [\"CryptoNight\"], [\"Scrypt\"], [\"CryptoNight\"], [\"Lyra2RE\"], [\"X11\"], [\"CryptoNight-V7\"], [\"Scrypt\"], [\"X11\"], [\"Equihash\"], [\"Scrypt\"], [\"Lyra2RE\"], [\"Dagger-Hashimoto\"], [\"Scrypt\"], [\"NIST5\"], [\"Scrypt\"], [\"SHA-256\"], [\"Scrypt\"], [\"CryptoNight-V7\"], [\"Argon2d\"], [\"Blake2b\"], [\"Cloverhash\"], [\"CryptoNight\"], [\"X11\"], [\"Scrypt\"], [\"Scrypt\"], [\"X11\"], [\"X11\"], [\"CryptoNight\"], [\"Time Travel\"], [\"Scrypt\"], [\"Keccak\"], [\"X11\"], [\"SHA-256\"], [\"Scrypt\"], [\"Scrypt\"], [\"Scrypt\"], [\"Scrypt\"], [\"Scrypt\"], [\"Scrypt\"], [\"CryptoNight\"], [\"Equihash\"], [\"X11\"], [\"NeoScrypt\"], [\"Equihash\"], [\"Dagger\"], [\"Scrypt\"], [\"X11\"], [\"NeoScrypt\"], [\"Ethash\"], [\"NeoScrypt\"], [\"Multiple\"], [\"CryptoNight\"], [\"CryptoNight\"], [\"Ethash\"], [\"X11\"], [\"CryptoNight-V7\"], [\"Scrypt\"], [\"BLAKE256\"], [\"X11\"], [\"NeoScrypt\"], [\"NeoScrypt\"], [\"Scrypt\"], [\"X11\"], [\"SHA-256\"], [\"C11\"], [\"CryptoNight\"], [\"SkunkHash\"], [\"CryptoNight\"], [\"Scrypt\"], [\"Dagger\"], [\"Lyra2REv2\"], [\"Scrypt\"], [\"Scrypt\"], [\"X11\"], [\"Ethash\"], [\"CryptoNight\"], [\"Scrypt\"], [\"IMesh\"], [\"Equihash\"], [\"Lyra2Z\"], [\"X11\"], [\"CryptoNight\"], [\"NIST5\"], [\"Lyra2RE\"], [\"Tribus\"], [\"Lyra2Z\"], [\"CryptoNight\"], [\"CryptoNight Heavy\"], [\"CryptoNight\"], [\"Jump Consistent Hash\"], [\"CryptoNight\"], [\"X16R\"], [\"HMQ1725\"], [\"X11\"], [\"Scrypt\"], [\"CryptoNight-V7\"], [\"Cryptonight-GPU\"], [\"CryptoNight Heavy\"], [\"SHA-256\"], [\"X11\"], [\"X16R\"], [\"Equihash\"], [\"Lyra2Z\"], [\"SHA-256\"], [\"CryptoNight\"], [\"Blake\"], [\"Blake\"], [\"Exosis\"], [\"Scrypt\"], [\"Equihash\"], [\"Equihash\"], [\"QuBit\"], [\"SHA-256\"], [\"X13\"], [\"SHA-256\"], [\"Scrypt\"], [\"NeoScrypt\"], [\"Blake\"], [\"Scrypt\"], [\"SHA-256\"], [\"Scrypt\"], [\"Groestl\"], [\"Scrypt\"], [\"Scrypt\"], [\"Multiple\"], [\"Equihash+Scrypt\"], [\"Ethash\"], [\"CryptoNight\"], [\"Equihash\"]], \"hovertemplate\": \"<b>%{hovertext}</b><br><br>Class=%{marker.color}<br>PC 1=%{x}<br>PC 2=%{y}<br>PC 3=%{z}<br>Algorithm=%{customdata[0]}<extra></extra>\", \"hovertext\": [\"Bitcoin\", \"Ethereum\", \"Litecoin\", \"Monero\", \"Ethereum Classic\", \"ZCash\", \"DigiByte\", \"ProsperCoin\", \"Spreadcoin\", \"Argentum\", \"MyriadCoin\", \"MoonCoin\", \"ZetaCoin\", \"SexCoin\", \"Quatloo\", \"QuarkCoin\", \"Riecoin\", \"Digitalcoin \", \"Catcoin\", \"CannaCoin\", \"CryptCoin\", \"Verge\", \"DevCoin\", \"EarthCoin\", \"E-Gulden\", \"Einsteinium\", \"Emerald\", \"Franko\", \"FeatherCoin\", \"GrandCoin\", \"GlobalCoin\", \"GoldCoin\", \"Infinite Coin\", \"IXcoin\", \"KrugerCoin\", \"LuckyCoin\", \"Litebar \", \"MegaCoin\", \"MediterraneanCoin\", \"MinCoin\", \"NobleCoin\", \"Namecoin\", \"NyanCoin\", \"RonPaulCoin\", \"StableCoin\", \"SmartCoin\", \"SysCoin\", \"TigerCoin\", \"TerraCoin\", \"UnbreakableCoin\", \"Unobtanium\", \"UroCoin\", \"ViaCoin\", \"Vertcoin\", \"WorldCoin\", \"JouleCoin\", \"ByteCoin\", \"DigitalNote \", \"MonaCoin\", \"Gulden\", \"PesetaCoin\", \"Wild Beast Coin\", \"Flo\", \"ArtByte\", \"Folding Coin\", \"Unitus\", \"CypherPunkCoin\", \"OmniCron\", \"GreenCoin\", \"Cryptonite\", \"MasterCoin\", \"SoonCoin\", \"1Credit\", \"MarsCoin \", \"Crypto\", \"Anarchists Prime\", \"BowsCoin\", \"Song Coin\", \"BitZeny\", \"Expanse\", \"Siacoin\", \"MindCoin\", \"I0coin\", \"Revolution VR\", \"HOdlcoin\", \"Gamecredits\", \"CarpeDiemCoin\", \"Adzcoin\", \"SoilCoin\", \"YoCoin\", \"SibCoin\", \"Francs\", \"BolivarCoin\", \"Omni\", \"PizzaCoin\", \"Komodo\", \"Karbo\", \"ZayedCoin\", \"Circuits of Value\", \"DopeCoin\", \"DollarCoin\", \"Shilling\", \"ZCoin\", \"Elementrem\", \"ZClassic\", \"KiloCoin\", \"ArtexCoin\", \"Kurrent\", \"Cannabis Industry Coin\", \"OsmiumCoin\", \"Bikercoins\", \"HexxCoin\", \"PacCoin\", \"Citadel\", \"BeaverCoin\", \"VaultCoin\", \"Zero\", \"Canada eCoin\", \"Zoin\", \"DubaiCoin\", \"EB3coin\", \"Coinonat\", \"BenjiRolls\", \"ILCoin\", \"EquiTrader\", \"Quantum Resistant Ledger\", \"Dynamic\", \"Nano\", \"ChanCoin\", \"Dinastycoin\", \"DigitalPrice\", \"Unify\", \"SocialCoin\", \"ArcticCoin\", \"DAS\", \"LeviarCoin\", \"Bitcore\", \"gCn Coin\", \"SmartCash\", \"Onix\", \"Bitcoin Cash\", \"Sojourn Coin\", \"NewYorkCoin\", \"FrazCoin\", \"Kronecoin\", \"AdCoin\", \"Linx\", \"Sumokoin\", \"BitcoinZ\", \"Elements\", \"VIVO Coin\", \"Bitcoin Gold\", \"Pirl\", \"eBoost\", \"Pura\", \"Innova\", \"Ellaism\", \"GoByte\", \"SHIELD\", \"UltraNote\", \"BitCoal\", \"DaxxCoin\", \"AC3\", \"Lethean\", \"PopularCoin\", \"Photon\", \"Sucre\", \"SparksPay\", \"GunCoin\", \"IrishCoin\", \"Pioneer Coin\", \"UnitedBitcoin\", \"Interzone\", \"TurtleCoin\", \"MUNcoin\", \"Niobio Cash\", \"ShareChain\", \"Travelflex\", \"KREDS\", \"BitFlip\", \"LottoCoin\", \"Crypto Improvement Fund\", \"Callisto Network\", \"BitTube\", \"Poseidon\", \"Aidos Kuneen\", \"Bitrolium\", \"Alpenschillling\", \"FuturoCoin\", \"Monero Classic\", \"Jumpcoin\", \"Infinex\", \"KEYCO\", \"GINcoin\", \"PlatinCoin\", \"Loki\", \"Newton Coin\", \"MassGrid\", \"PluraCoin\", \"Motion\", \"PlusOneCoin\", \"Axe\", \"HexCoin\", \"Webchain\", \"Ryo\", \"Qwertycoin\", \"Project Pai\", \"Azart\", \"Xchange\", \"CrypticCoin\", \"Actinium\", \"Bitcoin SV\", \"FREDEnergy\", \"Universal Molecule\", \"Lithium\", \"Exosis\", \"Block-Logic\", \"Beam\", \"Bithereum\", \"SLICE\", \"BLAST\", \"Bitcoin Rhodium\", \"GlobalToken\", \"SolarCoin\", \"UFO Coin\", \"BlakeCoin\", \"Crypto Escudo\", \"Crown Coin\", \"SmileyCoin\", \"Groestlcoin\", \"Bata\", \"Pakcoin\", \"JoinCoin\", \"Vollar\", \"Reality Clash\", \"Beldex\", \"Horizen\"], \"legendgroup\": \"0\", \"marker\": {\"color\": [0, 0, 0, 0, 0, 0, 0, 0, 0, 0, 0, 0, 0, 0, 0, 0, 0, 0, 0, 0, 0, 0, 0, 0, 0, 0, 0, 0, 0, 0, 0, 0, 0, 0, 0, 0, 0, 0, 0, 0, 0, 0, 0, 0, 0, 0, 0, 0, 0, 0, 0, 0, 0, 0, 0, 0, 0, 0, 0, 0, 0, 0, 0, 0, 0, 0, 0, 0, 0, 0, 0, 0, 0, 0, 0, 0, 0, 0, 0, 0, 0, 0, 0, 0, 0, 0, 0, 0, 0, 0, 0, 0, 0, 0, 0, 0, 0, 0, 0, 0, 0, 0, 0, 0, 0, 0, 0, 0, 0, 0, 0, 0, 0, 0, 0, 0, 0, 0, 0, 0, 0, 0, 0, 0, 0, 0, 0, 0, 0, 0, 0, 0, 0, 0, 0, 0, 0, 0, 0, 0, 0, 0, 0, 0, 0, 0, 0, 0, 0, 0, 0, 0, 0, 0, 0, 0, 0, 0, 0, 0, 0, 0, 0, 0, 0, 0, 0, 0, 0, 0, 0, 0, 0, 0, 0, 0, 0, 0, 0, 0, 0, 0, 0, 0, 0, 0, 0, 0, 0, 0, 0, 0, 0, 0, 0, 0, 0, 0, 0, 0, 0, 0, 0, 0, 0, 0, 0, 0, 0, 0, 0, 0, 0, 0, 0, 0, 0, 0, 0, 0, 0, 0, 0, 0, 0, 0, 0, 0, 0, 0, 0, 0, 0, 0, 0, 0, 0], \"coloraxis\": \"coloraxis\", \"symbol\": \"diamond\"}, \"mode\": \"markers\", \"name\": \"0\", \"scene\": \"scene\", \"showlegend\": true, \"type\": \"scatter3d\", \"x\": [-0.14334078663302333, -0.14848799626856876, -0.1640459454861116, -0.14546826914200084, -0.14692800901475261, -0.16263512386165757, 0.1609650551995654, -0.16519369248509666, -0.22089570874451978, -0.16480973452908831, -0.09277225858860262, 2.560183478256927, -0.14042188603313874, -0.16206153616084934, -0.16461351402115962, -0.22481914209756915, -0.20404245734638846, -0.1646623343658662, -0.16517593491119306, -0.16526250291481417, -0.22098516934674098, 0.18474721550330078, 0.23500210690169654, 0.08379460049717034, -0.1650084627101169, -0.16060801459548144, -0.16494767901055152, -0.16531958114613815, -0.16933693734700977, -0.14451469842912554, -0.1641131016371674, -0.16439091907305875, 1.585888846356236, -0.14330210467235024, -0.1616767627966783, -0.16503493918575401, -0.16539021932862713, -0.16464849608983653, -0.14179064745292733, -0.16527133038462327, -0.030001280770269447, -0.1433798184614778, -0.15892691432978445, -0.16525074771566525, -0.1633426162332948, -0.1647368169337105, -0.13051506497876, -0.1428428809278721, -0.14313046643855404, -0.14311344004354903, -0.1437049084852912, -0.22115928970999305, -0.1649668605643305, -0.20144669300071177, -0.16206626098558927, -0.14291026463247603, 3.8651474322084596, 0.4596435042270031, -0.16383297275827172, -0.14841185303085092, -0.16255010433358777, -0.16539243196009162, -0.1624149622627693, -0.1486205231879483, -0.13219607919711085, -0.12682348932731863, -0.18613136645022169, -0.16526534095452272, -0.03803726292305626, -0.12073367850062103, -0.1654013357352549, -0.14340763295510434, 0.4875953322014227, -0.22054567019748583, -0.15038478547526477, -0.14314715887223647, -0.22083094457043095, -0.16352268448365903, -0.1627138632270372, -0.1495568804860809, 0.36745268386722957, -0.22086638692425617, -0.14330322851761448, -0.16135388057448083, -0.15353719579685465, -0.1639628015023657, 0.27573100552738505, -0.2200260125301959, -0.15707837149452072, -0.16421058287622903, -0.13655566728225382, -0.16519097367148153, -0.22082958423154375, -0.16540139430703157, -0.22097975501632722, -0.31681295835487594, 0.3043447995918213, -0.14356365633275048, -0.1068698005673544, -0.16256439506201054, -0.14352223119400304, -0.16506435541939846, -0.14906530919212765, -0.14929869694627207, -0.1626567697202337, -0.09203297126287675, -0.20754535036627636, -0.21880507726831386, 0.3043391523893783, -0.16538310851382085, 0.30447004121082216, -0.15092593198350207, 0.4951855182998402, -0.14423138821583506, -0.16535135360593112, -0.21370445255321055, -0.16266915969647058, -0.1634821642389064, -0.15064394045048557, -0.15429117732317485, -0.136237608941687, -0.18852754699076554, -0.16491315842545876, -0.10984474556062081, -0.16473499840159841, -0.14408890774056976, -0.16736179924672917, -0.03338393136036309, -0.17157885755038815, 0.34050863618455496, -0.22003442262800707, -0.16505466753588002, -0.16481775160791376, -0.22042961516897902, -0.22100782291098095, 0.3047346552416195, -0.1344764762266046, 3.2487742351252193, -0.12195992201936025, -0.21186815016312585, -0.1433399497364201, -0.09087933797934927, 1.5839459519571912, -0.16515264572125335, -0.16460357965891032, -0.16430416177216509, -0.16429107527986778, 0.3049184979465956, 0.04993300449082342, -0.17533457115902418, -0.1740318186450211, -0.1625150071433029, -0.15583585648895007, -0.1634803710069295, -0.2165464255123061, -0.17387703067157745, -0.14766180696896183, -0.17397736483808202, -0.1170425112515822, 1.1433692855655841, 0.3043219020032277, -0.07245426461944775, -0.21628772386927936, -0.13318677102001006, -0.08143084088891142, 1.0875081163580291, -0.2209817871696352, -0.1740293719838585, -0.1670581273771459, -0.16440266349918772, -0.22090709629312996, -0.14331931938933432, -0.1987258345385354, 8.052130679503112, -0.13965713738046076, 0.308201385311598, 0.027892882426612503, -0.15533839045598552, -0.18698584220935688, -0.16497714475211755, 0.14250213595083244, -0.215040361285931, -0.10063989070554133, 0.3122552565488425, -0.16521446482536067, -0.15353046243356513, -0.16150477021962298, -0.1468459640812227, -0.22007524946995574, 0.30450466213119065, -0.1885870781440895, -0.1507709698214801, -0.16087592257135788, -0.14914979438139647, 0.30843791082514577, 0.5790252066857823, 2.11533718785614, -0.14256868710560264, 0.31812740884465834, -0.1967341554772836, -0.15705800736691689, -0.2209639240084273, -0.1652390798690083, -0.1330667581517265, -0.14737622279821258, 3.1048817946312663, -0.10311484011664625, -0.22093525284950782, -0.19616114245069918, -0.05712349653947792, -0.14854676955013854, -0.1433399873520063, 0.38436837272013546, -0.13866400306366206, -0.13905652178338643, -0.1700170346398573, -0.16412993388440614, -0.16057260930915904, -0.16234760641861143, -0.18534132285318744, -0.142615179136193, -0.1201403962179958, -0.1414816444641357, 0.5315712052783087, -0.0990965236073221, -0.08945836687875476, -0.14877131031177387, -0.14312983604921287, 0.5513744961815867, -0.2036028790494807, -0.16531601463073486, -0.16326906151290393, -0.12755935671221139, -0.12857215264416325, -0.14933189912016595, 0.32610756236169414, -0.16263618222052295], \"y\": [-1.2856126904036815, -1.9809492014078738, -1.1210413952473384, -2.1554004373866387, -1.9810188876086532, -1.9444800054584765, -1.7950722910225658, -1.1210484524997695, -0.8932454324141232, -1.1210600669070414, -1.793399228286683, -1.253692731616771, -1.2855874611793707, -1.1210655750422513, -1.1210749423303836, -0.4596451520362058, -1.2400476474821447, -1.1210439102288623, -1.1210477220011468, -1.1210462729915491, -0.893247837725809, -1.791260590100506, -1.2834212860279228, -1.1193976375960586, -1.1210408326471808, -1.1210375201941565, -1.1210453438770558, -1.1210474072538503, -1.5884430507174876, -1.121089924783902, -1.1210352338791547, -1.121048094009882, -1.1067512302363027, -1.2856110991323144, -1.121059576153838, -1.121041284389952, -1.1210440116246818, -1.1210394105790338, -2.323290210010603, -1.1210446346061538, -1.125035034633733, -1.2856142960676737, -1.1209920813962946, -1.1210507995978343, -1.1211182752158988, -1.1210489081968051, -1.2856377248640998, -1.2856087886625174, -1.2856174243852627, -1.2856409462261937, -1.2856144427638323, -0.8932435268647109, -1.1210403961031148, -1.1642155204053661, -1.1210755990571937, -1.2856102781615333, -2.2076621797663587, -2.2365449949544165, -1.121046096602208, -1.1214155858702992, -1.121032375519314, -1.1210449172792407, -1.1210227455248998, -1.1209907190136446, -2.105169457684724, -1.7935251481049097, -1.3794706124576008, -1.1210401629223332, -1.1221784736495215, -2.2240071323268973, -1.121044003268506, -1.2856154402808073, -1.1528244577134088, -0.8932393193367592, -2.142692098948343, -1.2856256072191925, -0.8932434056188627, -1.121100338603346, -1.121092410015648, -1.981003949026657, -2.0681607983929786, -0.8932416764819775, -1.2856111453642736, -1.1210109668863295, -1.9935057880745617, -1.121037974928441, -1.2821450175134512, -0.8932504508478013, -2.1585739303673406, -1.1211019358582557, -2.1518401719638414, -1.1210477032272046, -0.8932458993698619, -1.1210440037465839, -0.8932520769902973, -1.268065825113646, -2.236565659274437, -1.2856146786730522, -1.7934692207493066, -1.1210543899032646, -1.2856135497046781, -1.1210488687735087, -2.2115153948391733, -1.980999255585961, -1.9444808959106261, -1.124399711234075, -0.8930022001331936, -0.8932920144891747, -2.2365729032921724, -1.1210445887389513, -2.236570068591289, -2.1426787987234976, -0.927517828151785, -2.1554674796110382, -1.121043694023949, -0.893574282918085, -1.944478855889113, -1.1210284016564138, -2.142674210061282, -1.9461620104694577, -1.1223936031206583, -0.654609991453707, -1.1210461677946713, -1.285814937560641, -1.1210620918879708, -2.15541062411584, -2.0245194490367378, -2.084867039459014, -1.951189490341378, -2.236346458278912, -0.893260995663172, -1.1210416349731156, -1.12106740841509, -0.8932517557001276, -0.8932493433173733, -2.236577668494434, -2.184449698311306, -1.108079231300357, -1.3016399397612686, -0.8935624851897442, -1.285612655976021, -1.1246709678353246, -1.049080186425366, -1.1210461265188665, -1.1210643348108913, -1.1210622164145012, -1.1210616780715579, -2.2365923448533467, -1.9491081271212585, -0.8925057919778548, -1.588439220225774, -1.9444750641811492, -2.1586033280938453, -1.1210283278876938, -0.8932768658629604, -1.5884443263691672, -1.9810936940284665, -1.58844003979725, -1.7935434875127705, -2.2562254569727895, -2.2365681947891702, -1.9841956582402114, -0.8933937091594942, -2.1555323071498074, -1.1207764286462985, -1.2879669561341338, -0.8932488459624288, -1.5884352950092435, -1.588453844809302, -1.1210433211044766, -0.8932478131508621, -1.2856112756843874, -1.246804756395184, -2.555264219231116, -2.1596212620296367, -2.236614811256364, -1.1194662855644233, -2.1585469722017177, -1.164268266829556, -1.1210516554414012, -1.1201104141078204, -0.8933105246364411, -1.9831241410527578, -2.2368712980808128, -1.1210493070177365, -2.2216794804742146, -1.9444647397309334, -2.2116016843938895, -0.8932626751691659, -2.236564437355897, -0.6545950692189642, -2.142682801325864, -2.0079181862264748, -2.2115119223673516, -2.2367733625358075, -2.163685985976583, -2.279346686749532, -2.316360454283409, -2.2366297335975838, -1.1537388003164781, -2.2150318860135827, -0.8932488760337295, -1.1210510241396316, -2.156005771578171, -2.0187455823586653, -2.177269782524645, -1.2852831162632983, -0.893250246291366, -1.1537648992326193, -1.9449706083044085, -2.211533966506587, -1.2856126575234246, -2.238417748927016, -2.018430372995809, -2.0183955952735593, -2.071443766769017, -1.1210677977081647, -1.944549289251396, -1.944474479379911, -1.3795018549897877, -1.2856102502717341, -0.34037966486262256, -1.2856299122206194, -1.1549037193762492, -1.5878890857201786, -2.020801175032725, -1.1209969219886031, -1.2856173984527486, -1.1234287826969356, -1.2400429504046733, -1.121043285655752, -1.1210719042750683, -1.7935572044995198, -2.191089713949197, -1.9809995265907048, -2.23655656470282, -1.9444800489965002], \"z\": [0.18811799366518503, 0.3126770828788419, 0.020124206834542316, 0.3234490123337856, 0.31267121320043884, 0.31720538851010394, 0.2706286962199933, 0.020137021171562478, 0.05911150320441419, 0.020134769929759225, 0.2729906804630305, 0.011469873048000375, 0.1880843442100972, 0.020107350479703794, 0.020134921578527424, 0.02076882203128158, 0.13486853340344823, 0.0201309029591268, 0.02013673241551288, 0.020137410342917637, 0.059112772235529396, 0.26982928175590837, 0.18391353582113462, 0.017339667842821167, 0.020134009148728253, 0.02008833769607877, 0.020134042030952978, 0.020138161699727156, 0.20413819282105103, 0.019930705551790093, 0.02012399904213317, 0.020128725133922845, 7.2390972634502e-05, 0.18811736465751497, 0.02010252540917023, 0.02013434683868535, 0.020138392507152197, 0.020130105457337295, 0.5797753500426809, 0.020137262355616182, 0.019329369900360275, 0.188118628362054, 0.020064455816672645, 0.02013794894711737, 0.0201281821328827, 0.020132395810121162, 0.18798993044465034, 0.18811231227751396, 0.1881165233755046, 0.18811977458960302, 0.18812198813588965, 0.05911393241213298, 0.020133518344351137, 0.09947911826548472, 0.020108859042297297, 0.18811322120486282, 0.25319918818084286, 0.2923778206305417, 0.02012270455330278, 0.020018160112181167, 0.020107532013828925, 0.020138547141685878, 0.02010474156434487, 0.01995841922818526, 0.23854836888286912, 0.27335869935076357, 0.08729132385427651, 0.020136549528385807, 0.01899582195883139, 0.2602357690381612, 0.020138505446381207, 0.1881190806537545, 0.01806173239405541, 0.05910701819972363, 0.3173366864696118, 0.18811788665935322, 0.059110542917889856, 0.020127418737851427, 0.02011795797528059, 0.3126960336748278, 0.23773924817983202, 0.0591106550251747, 0.18811738293237182, 0.020092129517736822, 0.21031578081377564, 0.020122854829564045, 0.18330938935827096, 0.05910330309762065, 0.2178482595277018, 0.02013471553527866, 0.3428978307355923, 0.020136884116690606, 0.05911089217429709, 0.020138506117499337, 0.0591133341026148, 0.41623584623795534, 0.29397562031412244, 0.18812057195381263, 0.27314564532679214, 0.02011088526116029, 0.18811998211246017, 0.020135753618514787, 0.38739932959457235, 0.3126926987218531, 0.31720574049358, 0.019873846598721566, 0.05893897814799214, 0.05909681902767254, 0.2939767334297698, 0.02013840354420899, 0.2939749764224989, 0.3173403063615699, 0.05674986604585006, 0.32344607558437327, 0.020137947128214997, 0.05908555346839194, 0.31720557059019294, 0.020116524690780277, 0.3173367421815603, 0.019296001226662272, 0.020035593228280028, -0.016197302684150972, 0.02013380754024576, 0.1878034751034149, 0.0201342973987771, 0.3234363311704666, 0.18835041750126977, 0.24428884879841148, 0.23135705717382007, 0.29357231988368576, 0.059104925361842024, 0.0201346004966013, 0.020135921581985156, 0.05910763782198652, 0.059113224165116496, 0.29397336601409624, 0.15647413633699964, -0.01681064356691485, 0.04398203849054559, 0.05906497776293585, 0.18811798005640065, 0.019901509469864145, -0.00830770213391059, 0.0201362608655892, 0.020133274528229796, 0.020129891199162687, 0.020129678399607925, 0.29397361577808656, 0.31569659543233464, 0.058535895901640135, 0.20418584745828086, 0.31720343529119677, 0.21783978183173244, 0.02011649553102097, 0.05907141806872795, 0.204185001645821, 0.3126896445903204, 0.20418540763676254, 0.27326092797562823, 0.2882230669606506, 0.293976224762547, 0.31236913998941873, 0.059085780163698975, 0.3233420988797144, 0.019237224162057524, 0.14933593310679946, 0.0591128843575206, 0.20418525060777168, 0.20411636352656234, 0.020128150544526068, 0.0591119669100986, 0.18811756715408262, 0.09197765367044025, 0.2608321066299359, 0.4457022126605629, 0.29394317555968985, 0.017923731344439833, 0.21782646477783948, 0.09933829998623782, 0.0201352639273867, 0.016840608871409465, 0.05906085457976865, 0.31250251190031547, 0.29393890409098905, 0.020137358950751534, 0.3581075065022133, 0.3171915571874857, 0.3873891072064845, 0.059105589247441574, 0.29397380067957285, -0.016198864838338812, 0.3173392980246587, 0.11529704060123466, 0.38739969140688113, 0.29396384033918876, 0.12961836237340674, 0.28160946721663827, 0.33593719146412465, 0.29384341697611566, 0.25616348283389023, 0.3390879605139995, 0.05911270529758168, 0.020137861833454358, 0.323409828654379, 0.10172766967720966, 0.1056584354706589, 0.18765690236895882, 0.05911261045252867, 0.2561613998855589, 0.3161933294644076, 0.38739670966566453, 0.1881179806680681, 0.29342360923211497, 0.34008685429728475, 0.3400858196108322, 0.1419934948049772, 0.0201289149625468, 0.3171942996775887, 0.31720163104467014, 0.0872877613713197, 0.18811018685749753, -0.1180675618442852, 0.18810141024034477, 0.017912990129712085, 0.20333619412831255, 0.3399268708289025, 0.019960871178796916, 0.18811651312473845, 0.01312516157397671, 0.13486333514595464, 0.02013752474538443, 0.02012067265188645, 0.27337092525994455, 0.394570216135298, 0.31269307915389316, 0.2937508099936468, 0.3172054057200849]}, {\"customdata\": [[\"SHA-256 + Hive\"], [\"SHA3-256\"]], \"hovertemplate\": \"<b>%{hovertext}</b><br><br>Class=%{marker.color}<br>PC 1=%{x}<br>PC 2=%{y}<br>PC 3=%{z}<br>Algorithm=%{customdata[0]}<extra></extra>\", \"hovertext\": [\"LitecoinCash\", \"Fiii\"], \"legendgroup\": \"3\", \"marker\": {\"color\": [3, 3], \"coloraxis\": \"coloraxis\", \"symbol\": \"square\"}, \"mode\": \"markers\", \"name\": \"3\", \"scene\": \"scene\", \"showlegend\": true, \"type\": \"scatter3d\", \"x\": [-0.37018018567088656, -0.5608458454205689], \"y\": [2.8552014772885017, 3.5398222236499084], \"z\": [21.18930904005381, 21.78267012409369]}, {\"customdata\": [[\"TRC10\"]], \"hovertemplate\": \"<b>%{hovertext}</b><br><br>Class=%{marker.color}<br>PC 1=%{x}<br>PC 2=%{y}<br>PC 3=%{z}<br>Algorithm=%{customdata[0]}<extra></extra>\", \"hovertext\": [\"BitTorrent\"], \"legendgroup\": \"2\", \"marker\": {\"color\": [2], \"coloraxis\": \"coloraxis\", \"symbol\": \"x\"}, \"mode\": \"markers\", \"name\": \"2\", \"scene\": \"scene\", \"showlegend\": true, \"type\": \"scatter3d\", \"x\": [34.102388570190165], \"y\": [1.9237610432005445], \"z\": [-0.24128780439574615]}],\n",
       "                        {\"coloraxis\": {\"colorbar\": {\"title\": {\"text\": \"Class\"}}, \"colorscale\": [[0.0, \"#0d0887\"], [0.1111111111111111, \"#46039f\"], [0.2222222222222222, \"#7201a8\"], [0.3333333333333333, \"#9c179e\"], [0.4444444444444444, \"#bd3786\"], [0.5555555555555556, \"#d8576b\"], [0.6666666666666666, \"#ed7953\"], [0.7777777777777778, \"#fb9f3a\"], [0.8888888888888888, \"#fdca26\"], [1.0, \"#f0f921\"]]}, \"legend\": {\"title\": {\"text\": \"Class\"}, \"tracegroupgap\": 0, \"x\": 0, \"y\": 1}, \"margin\": {\"t\": 60}, \"scene\": {\"domain\": {\"x\": [0.0, 1.0], \"y\": [0.0, 1.0]}, \"xaxis\": {\"title\": {\"text\": \"PC 1\"}}, \"yaxis\": {\"title\": {\"text\": \"PC 2\"}}, \"zaxis\": {\"title\": {\"text\": \"PC 3\"}}}, \"template\": {\"data\": {\"bar\": [{\"error_x\": {\"color\": \"#2a3f5f\"}, \"error_y\": {\"color\": \"#2a3f5f\"}, \"marker\": {\"line\": {\"color\": \"#E5ECF6\", \"width\": 0.5}}, \"type\": \"bar\"}], \"barpolar\": [{\"marker\": {\"line\": {\"color\": \"#E5ECF6\", \"width\": 0.5}}, \"type\": \"barpolar\"}], \"carpet\": [{\"aaxis\": {\"endlinecolor\": \"#2a3f5f\", \"gridcolor\": \"white\", \"linecolor\": \"white\", \"minorgridcolor\": \"white\", \"startlinecolor\": \"#2a3f5f\"}, \"baxis\": {\"endlinecolor\": \"#2a3f5f\", \"gridcolor\": \"white\", \"linecolor\": \"white\", \"minorgridcolor\": \"white\", \"startlinecolor\": \"#2a3f5f\"}, \"type\": \"carpet\"}], \"choropleth\": [{\"colorbar\": {\"outlinewidth\": 0, \"ticks\": \"\"}, \"type\": \"choropleth\"}], \"contour\": [{\"colorbar\": {\"outlinewidth\": 0, \"ticks\": \"\"}, \"colorscale\": [[0.0, \"#0d0887\"], [0.1111111111111111, \"#46039f\"], [0.2222222222222222, \"#7201a8\"], [0.3333333333333333, \"#9c179e\"], [0.4444444444444444, \"#bd3786\"], [0.5555555555555556, \"#d8576b\"], [0.6666666666666666, \"#ed7953\"], [0.7777777777777778, \"#fb9f3a\"], [0.8888888888888888, \"#fdca26\"], [1.0, \"#f0f921\"]], \"type\": \"contour\"}], \"contourcarpet\": [{\"colorbar\": {\"outlinewidth\": 0, \"ticks\": \"\"}, \"type\": \"contourcarpet\"}], \"heatmap\": [{\"colorbar\": {\"outlinewidth\": 0, \"ticks\": \"\"}, \"colorscale\": [[0.0, \"#0d0887\"], [0.1111111111111111, \"#46039f\"], [0.2222222222222222, \"#7201a8\"], [0.3333333333333333, \"#9c179e\"], [0.4444444444444444, \"#bd3786\"], [0.5555555555555556, \"#d8576b\"], [0.6666666666666666, \"#ed7953\"], [0.7777777777777778, \"#fb9f3a\"], [0.8888888888888888, \"#fdca26\"], [1.0, \"#f0f921\"]], \"type\": \"heatmap\"}], \"heatmapgl\": [{\"colorbar\": {\"outlinewidth\": 0, \"ticks\": \"\"}, \"colorscale\": [[0.0, \"#0d0887\"], [0.1111111111111111, \"#46039f\"], [0.2222222222222222, \"#7201a8\"], [0.3333333333333333, \"#9c179e\"], [0.4444444444444444, \"#bd3786\"], [0.5555555555555556, \"#d8576b\"], [0.6666666666666666, \"#ed7953\"], [0.7777777777777778, \"#fb9f3a\"], [0.8888888888888888, \"#fdca26\"], [1.0, \"#f0f921\"]], \"type\": \"heatmapgl\"}], \"histogram\": [{\"marker\": {\"colorbar\": {\"outlinewidth\": 0, \"ticks\": \"\"}}, \"type\": \"histogram\"}], \"histogram2d\": [{\"colorbar\": {\"outlinewidth\": 0, \"ticks\": \"\"}, \"colorscale\": [[0.0, \"#0d0887\"], [0.1111111111111111, \"#46039f\"], [0.2222222222222222, \"#7201a8\"], [0.3333333333333333, \"#9c179e\"], [0.4444444444444444, \"#bd3786\"], [0.5555555555555556, \"#d8576b\"], [0.6666666666666666, \"#ed7953\"], [0.7777777777777778, \"#fb9f3a\"], [0.8888888888888888, \"#fdca26\"], [1.0, \"#f0f921\"]], \"type\": \"histogram2d\"}], \"histogram2dcontour\": [{\"colorbar\": {\"outlinewidth\": 0, \"ticks\": \"\"}, \"colorscale\": [[0.0, \"#0d0887\"], [0.1111111111111111, \"#46039f\"], [0.2222222222222222, \"#7201a8\"], [0.3333333333333333, \"#9c179e\"], [0.4444444444444444, \"#bd3786\"], [0.5555555555555556, \"#d8576b\"], [0.6666666666666666, \"#ed7953\"], [0.7777777777777778, \"#fb9f3a\"], [0.8888888888888888, \"#fdca26\"], [1.0, \"#f0f921\"]], \"type\": \"histogram2dcontour\"}], \"mesh3d\": [{\"colorbar\": {\"outlinewidth\": 0, \"ticks\": \"\"}, \"type\": \"mesh3d\"}], \"parcoords\": [{\"line\": {\"colorbar\": {\"outlinewidth\": 0, \"ticks\": \"\"}}, \"type\": \"parcoords\"}], \"pie\": [{\"automargin\": true, \"type\": \"pie\"}], \"scatter\": [{\"marker\": {\"colorbar\": {\"outlinewidth\": 0, \"ticks\": \"\"}}, \"type\": \"scatter\"}], \"scatter3d\": [{\"line\": {\"colorbar\": {\"outlinewidth\": 0, \"ticks\": \"\"}}, \"marker\": {\"colorbar\": {\"outlinewidth\": 0, \"ticks\": \"\"}}, \"type\": \"scatter3d\"}], \"scattercarpet\": [{\"marker\": {\"colorbar\": {\"outlinewidth\": 0, \"ticks\": \"\"}}, \"type\": \"scattercarpet\"}], \"scattergeo\": [{\"marker\": {\"colorbar\": {\"outlinewidth\": 0, \"ticks\": \"\"}}, \"type\": \"scattergeo\"}], \"scattergl\": [{\"marker\": {\"colorbar\": {\"outlinewidth\": 0, \"ticks\": \"\"}}, \"type\": \"scattergl\"}], \"scattermapbox\": [{\"marker\": {\"colorbar\": {\"outlinewidth\": 0, \"ticks\": \"\"}}, \"type\": \"scattermapbox\"}], \"scatterpolar\": [{\"marker\": {\"colorbar\": {\"outlinewidth\": 0, \"ticks\": \"\"}}, \"type\": \"scatterpolar\"}], \"scatterpolargl\": [{\"marker\": {\"colorbar\": {\"outlinewidth\": 0, \"ticks\": \"\"}}, \"type\": \"scatterpolargl\"}], \"scatterternary\": [{\"marker\": {\"colorbar\": {\"outlinewidth\": 0, \"ticks\": \"\"}}, \"type\": \"scatterternary\"}], \"surface\": [{\"colorbar\": {\"outlinewidth\": 0, \"ticks\": \"\"}, \"colorscale\": [[0.0, \"#0d0887\"], [0.1111111111111111, \"#46039f\"], [0.2222222222222222, \"#7201a8\"], [0.3333333333333333, \"#9c179e\"], [0.4444444444444444, \"#bd3786\"], [0.5555555555555556, \"#d8576b\"], [0.6666666666666666, \"#ed7953\"], [0.7777777777777778, \"#fb9f3a\"], [0.8888888888888888, \"#fdca26\"], [1.0, \"#f0f921\"]], \"type\": \"surface\"}], \"table\": [{\"cells\": {\"fill\": {\"color\": \"#EBF0F8\"}, \"line\": {\"color\": \"white\"}}, \"header\": {\"fill\": {\"color\": \"#C8D4E3\"}, \"line\": {\"color\": \"white\"}}, \"type\": \"table\"}]}, \"layout\": {\"annotationdefaults\": {\"arrowcolor\": \"#2a3f5f\", \"arrowhead\": 0, \"arrowwidth\": 1}, \"coloraxis\": {\"colorbar\": {\"outlinewidth\": 0, \"ticks\": \"\"}}, \"colorscale\": {\"diverging\": [[0, \"#8e0152\"], [0.1, \"#c51b7d\"], [0.2, \"#de77ae\"], [0.3, \"#f1b6da\"], [0.4, \"#fde0ef\"], [0.5, \"#f7f7f7\"], [0.6, \"#e6f5d0\"], [0.7, \"#b8e186\"], [0.8, \"#7fbc41\"], [0.9, \"#4d9221\"], [1, \"#276419\"]], \"sequential\": [[0.0, \"#0d0887\"], [0.1111111111111111, \"#46039f\"], [0.2222222222222222, \"#7201a8\"], [0.3333333333333333, \"#9c179e\"], [0.4444444444444444, \"#bd3786\"], [0.5555555555555556, \"#d8576b\"], [0.6666666666666666, \"#ed7953\"], [0.7777777777777778, \"#fb9f3a\"], [0.8888888888888888, \"#fdca26\"], [1.0, \"#f0f921\"]], \"sequentialminus\": [[0.0, \"#0d0887\"], [0.1111111111111111, \"#46039f\"], [0.2222222222222222, \"#7201a8\"], [0.3333333333333333, \"#9c179e\"], [0.4444444444444444, \"#bd3786\"], [0.5555555555555556, \"#d8576b\"], [0.6666666666666666, \"#ed7953\"], [0.7777777777777778, \"#fb9f3a\"], [0.8888888888888888, \"#fdca26\"], [1.0, \"#f0f921\"]]}, \"colorway\": [\"#636efa\", \"#EF553B\", \"#00cc96\", \"#ab63fa\", \"#FFA15A\", \"#19d3f3\", \"#FF6692\", \"#B6E880\", \"#FF97FF\", \"#FECB52\"], \"font\": {\"color\": \"#2a3f5f\"}, \"geo\": {\"bgcolor\": \"white\", \"lakecolor\": \"white\", \"landcolor\": \"#E5ECF6\", \"showlakes\": true, \"showland\": true, \"subunitcolor\": \"white\"}, \"hoverlabel\": {\"align\": \"left\"}, \"hovermode\": \"closest\", \"mapbox\": {\"style\": \"light\"}, \"paper_bgcolor\": \"white\", \"plot_bgcolor\": \"#E5ECF6\", \"polar\": {\"angularaxis\": {\"gridcolor\": \"white\", \"linecolor\": \"white\", \"ticks\": \"\"}, \"bgcolor\": \"#E5ECF6\", \"radialaxis\": {\"gridcolor\": \"white\", \"linecolor\": \"white\", \"ticks\": \"\"}}, \"scene\": {\"xaxis\": {\"backgroundcolor\": \"#E5ECF6\", \"gridcolor\": \"white\", \"gridwidth\": 2, \"linecolor\": \"white\", \"showbackground\": true, \"ticks\": \"\", \"zerolinecolor\": \"white\"}, \"yaxis\": {\"backgroundcolor\": \"#E5ECF6\", \"gridcolor\": \"white\", \"gridwidth\": 2, \"linecolor\": \"white\", \"showbackground\": true, \"ticks\": \"\", \"zerolinecolor\": \"white\"}, \"zaxis\": {\"backgroundcolor\": \"#E5ECF6\", \"gridcolor\": \"white\", \"gridwidth\": 2, \"linecolor\": \"white\", \"showbackground\": true, \"ticks\": \"\", \"zerolinecolor\": \"white\"}}, \"shapedefaults\": {\"line\": {\"color\": \"#2a3f5f\"}}, \"ternary\": {\"aaxis\": {\"gridcolor\": \"white\", \"linecolor\": \"white\", \"ticks\": \"\"}, \"baxis\": {\"gridcolor\": \"white\", \"linecolor\": \"white\", \"ticks\": \"\"}, \"bgcolor\": \"#E5ECF6\", \"caxis\": {\"gridcolor\": \"white\", \"linecolor\": \"white\", \"ticks\": \"\"}}, \"title\": {\"x\": 0.05}, \"xaxis\": {\"automargin\": true, \"gridcolor\": \"white\", \"linecolor\": \"white\", \"ticks\": \"\", \"title\": {\"standoff\": 15}, \"zerolinecolor\": \"white\", \"zerolinewidth\": 2}, \"yaxis\": {\"automargin\": true, \"gridcolor\": \"white\", \"linecolor\": \"white\", \"ticks\": \"\", \"title\": {\"standoff\": 15}, \"zerolinecolor\": \"white\", \"zerolinewidth\": 2}}}},\n",
       "                        {\"responsive\": true}\n",
       "                    ).then(function(){\n",
       "                            \n",
       "var gd = document.getElementById('b21e84ba-388f-4311-8750-98072dcd560a');\n",
       "var x = new MutationObserver(function (mutations, observer) {{\n",
       "        var display = window.getComputedStyle(gd).display;\n",
       "        if (!display || display === 'none') {{\n",
       "            console.log([gd, 'removed!']);\n",
       "            Plotly.purge(gd);\n",
       "            observer.disconnect();\n",
       "        }}\n",
       "}});\n",
       "\n",
       "// Listen for the removal of the full notebook cells\n",
       "var notebookContainer = gd.closest('#notebook-container');\n",
       "if (notebookContainer) {{\n",
       "    x.observe(notebookContainer, {childList: true});\n",
       "}}\n",
       "\n",
       "// Listen for the clearing of the current output cell\n",
       "var outputEl = gd.closest('.output');\n",
       "if (outputEl) {{\n",
       "    x.observe(outputEl, {childList: true});\n",
       "}}\n",
       "\n",
       "                        })\n",
       "                };\n",
       "                });\n",
       "            </script>\n",
       "        </div>"
      ]
     },
     "metadata": {},
     "output_type": "display_data"
    }
   ],
   "source": [
    "### Visualizing Results\n",
    "\n",
    "#### 3D-Scatter with Clusters\n",
    "fig = px.scatter_3d(\n",
    "    clustered_df,\n",
    "    x=\"PC 1\",\n",
    "    y=\"PC 2\",\n",
    "    z=\"PC 3\",\n",
    "    hover_name='CoinName',\n",
    "    hover_data= ['Algorithm'],\n",
    "    color=\"Class\",\n",
    "    symbol=\"Class\",\n",
    ")\n",
    "fig.update_layout(legend=dict(x=0, y=1))\n",
    "fig.show()"
   ]
  },
  {
   "cell_type": "code",
   "execution_count": null,
   "metadata": {},
   "outputs": [],
   "source": [
    "#### Table of Tradable Cryptocurrencies"
   ]
  },
  {
   "cell_type": "code",
   "execution_count": 101,
   "metadata": {},
   "outputs": [
    {
     "data": {},
     "metadata": {},
     "output_type": "display_data"
    },
    {
     "data": {
      "application/vnd.holoviews_exec.v0+json": "",
      "text/html": [
       "<div id='1239'>\n",
       "\n",
       "\n",
       "\n",
       "\n",
       "\n",
       "  <div class=\"bk-root\" id=\"373dcdde-936e-4533-8e6a-a566b638242c\" data-root-id=\"1239\"></div>\n",
       "</div>\n",
       "<script type=\"application/javascript\">(function(root) {\n",
       "  function embed_document(root) {\n",
       "  var docs_json = {\"00e4ccb0-68b2-42df-89b6-cb0e667e255d\":{\"roots\":{\"references\":[{\"attributes\":{\"children\":[{\"id\":\"1240\"},{\"id\":\"1273\"},{\"id\":\"1277\"}],\"margin\":[0,0,0,0],\"name\":\"Row01931\",\"tags\":[\"embedded\"]},\"id\":\"1239\",\"type\":\"Row\"},{\"attributes\":{},\"id\":\"1244\",\"type\":\"StringEditor\"},{\"attributes\":{},\"id\":\"1253\",\"type\":\"StringFormatter\"},{\"attributes\":{\"editor\":{\"id\":\"1259\"},\"field\":\"TotalCoinSupply\",\"formatter\":{\"id\":\"1258\"},\"title\":\"TotalCoinSupply\"},\"id\":\"1260\",\"type\":\"TableColumn\"},{\"attributes\":{},\"id\":\"1268\",\"type\":\"NumberFormatter\"},{\"attributes\":{\"data\":{\"Algorithm\":[\"Scrypt\",\"Scrypt\",\"X13\",\"SHA-256\",\"Ethash\",\"Scrypt\",\"X11\",\"CryptoNight-V7\",\"Ethash\",\"Equihash\",\"SHA-512\",\"Multiple\",\"SHA-256\",\"SHA-256\",\"Scrypt\",\"X15\",\"X11\",\"Scrypt\",\"Scrypt\",\"Scrypt\",\"Multiple\",\"Scrypt\",\"SHA-256\",\"Scrypt\",\"Scrypt\",\"Scrypt\",\"Quark\",\"Groestl\",\"Scrypt\",\"Scrypt\",\"Scrypt\",\"Scrypt\",\"Scrypt\",\"X11\",\"Scrypt\",\"Groestl\",\"Multiple\",\"SHA-256\",\"Scrypt\",\"Scrypt\",\"Scrypt\",\"Scrypt\",\"PoS\",\"Scrypt\",\"Scrypt\",\"NeoScrypt\",\"Scrypt\",\"Scrypt\",\"Scrypt\",\"Scrypt\",\"X11\",\"Scrypt\",\"X11\",\"SHA-256\",\"Scrypt\",\"Scrypt\",\"Scrypt\",\"SHA3\",\"Scrypt\",\"HybridScryptHash256\",\"Scrypt\",\"Scrypt\",\"SHA-256\",\"Scrypt\",\"X13\",\"Scrypt\",\"SHA-256\",\"Scrypt\",\"X13\",\"NeoScrypt\",\"Scrypt\",\"Scrypt\",\"Scrypt\",\"Scrypt\",\"Scrypt\",\"Scrypt\",\"X11\",\"X11\",\"SHA-256\",\"Multiple\",\"SHA-256\",\"PHI1612\",\"X11\",\"SHA-256\",\"SHA-256\",\"SHA-256\",\"X11\",\"Scrypt\",\"Scrypt\",\"Scrypt\",\"Scrypt\",\"Lyra2REv2\",\"Scrypt\",\"X11\",\"Multiple\",\"SHA-256\",\"X13\",\"Scrypt\",\"CryptoNight\",\"CryptoNight\",\"Shabal256\",\"Counterparty\",\"Scrypt\",\"SHA-256\",\"Groestl\",\"Scrypt\",\"Scrypt\",\"Scrypt\",\"X13\",\"Scrypt\",\"Scrypt\",\"Scrypt\",\"Scrypt\",\"X13\",\"Scrypt\",\"Stanford Folding\",\"X11\",\"Multiple\",\"QuBit\",\"Scrypt\",\"Scrypt\",\"Scrypt\",\"M7 POW\",\"Scrypt\",\"SHA-256\",\"Scrypt\",\"X11\",\"SHA3\",\"X11\",\"Lyra2RE\",\"SHA-256\",\"QUAIT\",\"X11\",\"X11\",\"Scrypt\",\"Scrypt\",\"Scrypt\",\"Ethash\",\"X13\",\"Blake2b\",\"SHA-256\",\"X15\",\"X11\",\"SHA-256\",\"BLAKE256\",\"Scrypt\",\"1GB AES Pattern Search\",\"SHA-256\",\"X11\",\"Scrypt\",\"SHA-256\",\"SHA-256\",\"NIST5\",\"Scrypt\",\"Scrypt\",\"X11\",\"Dagger\",\"Scrypt\",\"X11GOST\",\"X11\",\"Scrypt\",\"SHA-256\",\"Scrypt\",\"PoS\",\"Scrypt\",\"X11\",\"X11\",\"SHA-256\",\"SHA-256\",\"NIST5\",\"X11\",\"Scrypt\",\"POS 3.0\",\"Scrypt\",\"Scrypt\",\"Scrypt\",\"X13\",\"X11\",\"X11\",\"Equihash\",\"X11\",\"Scrypt\",\"CryptoNight\",\"SHA-256\",\"SHA-256\",\"X11\",\"Scrypt\",\"Multiple\",\"Scrypt\",\"Scrypt\",\"Scrypt\",\"SHA-256\",\"Scrypt\",\"Scrypt\",\"SHA-256D\",\"PoS\",\"Scrypt\",\"X11\",\"Lyra2Z\",\"PoS\",\"X13\",\"X14\",\"PoS\",\"SHA-256D\",\"Ethash\",\"Equihash\",\"DPoS\",\"X11\",\"Scrypt\",\"X11\",\"X13\",\"X11\",\"PoS\",\"Scrypt\",\"Scrypt\",\"X11\",\"PoS\",\"X11\",\"SHA-256\",\"Scrypt\",\"X11\",\"Scrypt\",\"Scrypt\",\"X11\",\"CryptoNight\",\"Scrypt\",\"Scrypt\",\"Scrypt\",\"Scrypt\",\"Quark\",\"QuBit\",\"Scrypt\",\"CryptoNight\",\"Lyra2RE\",\"Scrypt\",\"SHA-256\",\"X11\",\"Scrypt\",\"X11\",\"Scrypt\",\"CryptoNight-V7\",\"Scrypt\",\"Scrypt\",\"Scrypt\",\"X13\",\"X11\",\"Equihash\",\"Scrypt\",\"Scrypt\",\"Lyra2RE\",\"Scrypt\",\"Dagger-Hashimoto\",\"X11\",\"Blake2S\",\"X11\",\"Scrypt\",\"PoS\",\"X11\",\"NIST5\",\"PoS\",\"X11\",\"Scrypt\",\"Scrypt\",\"Scrypt\",\"SHA-256\",\"X11\",\"Scrypt\",\"Scrypt\",\"SHA-256\",\"PoS\",\"Scrypt\",\"X15\",\"SHA-256\",\"Scrypt\",\"POS 3.0\",\"CryptoNight-V7\",\"536\",\"Argon2d\",\"Blake2b\",\"Cloverhash\",\"CryptoNight\",\"NIST5\",\"X11\",\"NIST5\",\"Skein\",\"Scrypt\",\"X13\",\"Scrypt\",\"X11\",\"X11\",\"Scrypt\",\"CryptoNight\",\"X13\",\"Time Travel\",\"Scrypt\",\"Keccak\",\"SkunkHash v2 Raptor\",\"X11\",\"Skein\",\"SHA-256\",\"X11\",\"Scrypt\",\"VeChainThor Authority\",\"Scrypt\",\"PoS\",\"Scrypt\",\"Scrypt\",\"Scrypt\",\"Scrypt\",\"Scrypt\",\"Scrypt\",\"Scrypt\",\"CryptoNight\",\"SHA-512\",\"Ouroboros\",\"X11\",\"Equihash\",\"NeoScrypt\",\"X11\",\"Scrypt\",\"NeoScrypt\",\"Lyra2REv2\",\"Equihash\",\"Scrypt\",\"SHA-256\",\"NIST5\",\"PHI1612\",\"Dagger\",\"Scrypt\",\"Quark\",\"Scrypt\",\"POS 2.0\",\"Scrypt\",\"SHA-256\",\"X11\",\"NeoScrypt\",\"Ethash\",\"NeoScrypt\",\"X11\",\"DPoS\",\"NIST5\",\"X13\",\"Multiple\",\"Scrypt\",\"CryptoNight\",\"CryptoNight\",\"Ethash\",\"NIST5\",\"Quark\",\"X11\",\"CryptoNight-V7\",\"Scrypt\",\"Scrypt\",\"Scrypt\",\"X11\",\"BLAKE256\",\"X11\",\"NeoScrypt\",\"Quark\",\"NeoScrypt\",\"Scrypt\",\"Scrypt\",\"Scrypt\",\"X11\",\"X11\",\"SHA-256\",\"C11\",\"POS 3.0\",\"Ethash\",\"Scrypt\",\"CryptoNight\",\"SkunkHash\",\"Scrypt\",\"CryptoNight\",\"Scrypt\",\"Dagger\",\"Lyra2REv2\",\"X13\",\"Proof-of-BibleHash\",\"SHA-256 + Hive\",\"Scrypt\",\"Scrypt\",\"X11\",\"C11\",\"Proof-of-Authority\",\"X11\",\"XEVAN\",\"Scrypt\",\"VBFT\",\"Ethash\",\"CryptoNight\",\"Scrypt\",\"IMesh\",\"NIST5\",\"Scrypt\",\"Scrypt\",\"Equihash\",\"Scrypt\",\"Lyra2Z\",\"Green Protocol\",\"PoS\",\"Scrypt\",\"Semux BFT consensus\",\"X11\",\"Quark\",\"PoS\",\"CryptoNight\",\"X16R\",\"Scrypt\",\"NIST5\",\"Lyra2RE\",\"XEVAN\",\"Tribus\",\"Scrypt\",\"Lyra2Z\",\"CryptoNight\",\"CryptoNight Heavy\",\"CryptoNight\",\"Scrypt\",\"Scrypt\",\"Jump Consistent Hash\",\"SHA-256D\",\"CryptoNight\",\"Scrypt\",\"X15\",\"Scrypt\",\"Quark\",\"SHA-256\",\"DPoS\",\"X16R\",\"HMQ1725\",\"X11\",\"X16R\",\"Quark\",\"Quark\",\"Scrypt\",\"Lyra2REv2\",\"Quark\",\"Scrypt\",\"Scrypt\",\"CryptoNight-V7\",\"Cryptonight-GPU\",\"XEVAN\",\"CryptoNight Heavy\",\"X11\",\"X11\",\"Scrypt\",\"PoS\",\"SHA-256\",\"Keccak\",\"X11\",\"X11\",\"Scrypt\",\"SHA-512\",\"X16R\",\"ECC 256K1\",\"Equihash\",\"XEVAN\",\"Lyra2Z\",\"SHA-256\",\"XEVAN\",\"X11\",\"CryptoNight\",\"Quark\",\"Blake\",\"Blake\",\"Equihash\",\"Exosis\",\"Scrypt\",\"Scrypt\",\"Equihash\",\"Quark\",\"Equihash\",\"Quark\",\"Scrypt\",\"QuBit\",\"X11\",\"Scrypt\",\"XEVAN\",\"SHA-256D\",\"X11\",\"SHA-256\",\"X13\",\"SHA-256\",\"X11\",\"DPoS\",\"Scrypt\",\"Scrypt\",\"X11\",\"NeoScrypt\",\"Scrypt\",\"Blake\",\"Scrypt\",\"SHA-256\",\"Scrypt\",\"X11\",\"Scrypt\",\"Scrypt\",\"SHA-256\",\"X11\",\"SHA-256\",\"Scrypt\",\"Scrypt\",\"Scrypt\",\"Groestl\",\"X11\",\"Scrypt\",\"PoS\",\"Scrypt\",\"Scrypt\",\"X11\",\"SHA-256\",\"DPoS\",\"Scrypt\",\"Scrypt\",\"NeoScrypt\",\"SHA3-256\",\"Multiple\",\"X13\",\"Equihash+Scrypt\",\"DPoS\",\"Ethash\",\"DPoS\",\"SHA-256\",\"Leased POS\",\"PoS\",\"TRC10\",\"PoS\",\"SHA-256\",\"Scrypt\",\"CryptoNight\",\"Equihash\",\"Scrypt\"],\"Class\":{\"__ndarray__\":\"AQAAAAEAAAABAAAAAAAAAAAAAAAAAAAAAQAAAAAAAAAAAAAAAAAAAAEAAAAAAAAAAQAAAAEAAAAAAAAAAQAAAAAAAAAAAAAAAQAAAAEAAAAAAAAAAAAAAAAAAAAAAAAAAAAAAAEAAAAAAAAAAAAAAAAAAAABAAAAAAAAAAEAAAAAAAAAAAAAAAEAAAABAAAAAAAAAAAAAAAAAAAAAAAAAAAAAAAAAAAAAQAAAAEAAAAAAAAAAAAAAAAAAAAAAAAAAAAAAAEAAAABAAAAAAAAAAEAAAAAAAAAAAAAAAAAAAAAAAAAAQAAAAAAAAAAAAAAAQAAAAAAAAABAAAAAQAAAAEAAAAAAAAAAAAAAAAAAAABAAAAAQAAAAEAAAABAAAAAQAAAAAAAAAAAAAAAAAAAAEAAAABAAAAAAAAAAEAAAAAAAAAAQAAAAEAAAAAAAAAAAAAAAAAAAAAAAAAAQAAAAEAAAAAAAAAAQAAAAAAAAAAAAAAAQAAAAEAAAAAAAAAAQAAAAEAAAAAAAAAAAAAAAEAAAABAAAAAAAAAAEAAAABAAAAAAAAAAEAAAAAAAAAAQAAAAAAAAABAAAAAAAAAAEAAAABAAAAAAAAAAAAAAABAAAAAAAAAAAAAAAAAAAAAQAAAAAAAAAAAAAAAAAAAAAAAAAAAAAAAQAAAAEAAAAAAAAAAAAAAAAAAAABAAAAAAAAAAEAAAAAAAAAAAAAAAEAAAAAAAAAAQAAAAAAAAABAAAAAQAAAAAAAAAAAAAAAQAAAAAAAAAAAAAAAQAAAAEAAAAAAAAAAQAAAAAAAAABAAAAAQAAAAEAAAAAAAAAAAAAAAAAAAAAAAAAAQAAAAEAAAABAAAAAQAAAAEAAAAAAAAAAAAAAAEAAAABAAAAAQAAAAEAAAABAAAAAAAAAAEAAAABAAAAAQAAAAEAAAABAAAAAAAAAAEAAAAAAAAAAQAAAAEAAAAAAAAAAQAAAAAAAAABAAAAAQAAAAAAAAABAAAAAAAAAAEAAAAAAAAAAQAAAAAAAAABAAAAAQAAAAEAAAABAAAAAAAAAAEAAAABAAAAAQAAAAEAAAABAAAAAAAAAAAAAAABAAAAAQAAAAAAAAAAAAAAAQAAAAEAAAABAAAAAQAAAAEAAAAAAAAAAQAAAAEAAAABAAAAAQAAAAEAAAABAAAAAQAAAAEAAAAAAAAAAQAAAAEAAAABAAAAAQAAAAEAAAABAAAAAAAAAAAAAAAAAAAAAQAAAAEAAAABAAAAAQAAAAAAAAABAAAAAAAAAAEAAAABAAAAAAAAAAEAAAAAAAAAAAAAAAEAAAAAAAAAAAAAAAEAAAAAAAAAAQAAAAEAAAABAAAAAAAAAAEAAAABAAAAAAAAAAEAAAABAAAAAQAAAAEAAAABAAAAAQAAAAEAAAAAAAAAAQAAAAAAAAABAAAAAQAAAAEAAAABAAAAAAAAAAEAAAAAAAAAAQAAAAAAAAAAAAAAAAAAAAAAAAABAAAAAAAAAAEAAAABAAAAAAAAAAEAAAAAAAAAAAAAAAAAAAABAAAAAAAAAAEAAAAAAAAAAAAAAAAAAAABAAAAAAAAAAEAAAAAAAAAAQAAAAEAAAABAAAAAAAAAAEAAAAAAAAAAAAAAAAAAAAAAAAAAAAAAAEAAAABAAAAAAAAAAEAAAABAAAAAQAAAAAAAAABAAAAAAAAAAEAAAAAAAAAAQAAAAAAAAABAAAAAQAAAAEAAAABAAAAAAAAAAEAAAABAAAAAAAAAAEAAAABAAAAAQAAAAAAAAAAAAAAAAAAAAAAAAABAAAAAQAAAAEAAAABAAAAAAAAAAEAAAAAAAAAAAAAAAAAAAABAAAAAQAAAAAAAAAAAAAAAQAAAAEAAAAAAAAAAQAAAAAAAAAAAAAAAAAAAAEAAAAAAAAAAAAAAAEAAAABAAAAAQAAAAAAAAAAAAAAAAAAAAEAAAABAAAAAQAAAAAAAAAAAAAAAQAAAAAAAAAAAAAAAAAAAAAAAAABAAAAAQAAAAMAAAAAAAAAAAAAAAAAAAABAAAAAQAAAAEAAAABAAAAAQAAAAEAAAAAAAAAAAAAAAAAAAAAAAAAAQAAAAEAAAABAAAAAAAAAAEAAAAAAAAAAQAAAAEAAAABAAAAAQAAAAAAAAABAAAAAQAAAAAAAAABAAAAAQAAAAAAAAAAAAAAAQAAAAAAAAABAAAAAAAAAAAAAAAAAAAAAAAAAAEAAAABAAAAAAAAAAEAAAAAAAAAAQAAAAEAAAABAAAAAQAAAAEAAAABAAAAAAAAAAAAAAAAAAAAAQAAAAEAAAABAAAAAQAAAAEAAAABAAAAAAAAAAEAAAAAAAAAAAAAAAEAAAAAAAAAAQAAAAEAAAABAAAAAQAAAAAAAAABAAAAAQAAAAAAAAABAAAAAQAAAAAAAAABAAAAAAAAAAEAAAAAAAAAAAAAAAEAAAABAAAAAAAAAAEAAAAAAAAAAAAAAAEAAAAAAAAAAAAAAAEAAAAAAAAAAQAAAAAAAAABAAAAAQAAAAAAAAABAAAAAQAAAAEAAAABAAAAAQAAAAAAAAAAAAAAAAAAAAEAAAABAAAAAQAAAAAAAAABAAAAAAAAAAEAAAAAAAAAAQAAAAEAAAABAAAAAQAAAAAAAAABAAAAAQAAAAEAAAAAAAAAAQAAAAAAAAABAAAAAAAAAAEAAAABAAAAAQAAAAAAAAAAAAAAAQAAAAEAAAABAAAAAQAAAAEAAAABAAAAAwAAAAAAAAABAAAAAAAAAAEAAAAAAAAAAQAAAAEAAAABAAAAAQAAAAIAAAABAAAAAQAAAAEAAAAAAAAAAAAAAAEAAAA=\",\"dtype\":\"int32\",\"shape\":[533]},\"CoinName\":[\"42 Coin\",\"404Coin\",\"EliteCoin\",\"Bitcoin\",\"Ethereum\",\"Litecoin\",\"Dash\",\"Monero\",\"Ethereum Classic\",\"ZCash\",\"Bitshares\",\"DigiByte\",\"BitcoinDark\",\"PayCoin\",\"ProsperCoin\",\"KoboCoin\",\"Spreadcoin\",\"Argentum\",\"Aurora Coin\",\"BlueCoin\",\"MyriadCoin\",\"MoonCoin\",\"ZetaCoin\",\"SexCoin\",\"Quatloo\",\"EnergyCoin\",\"QuarkCoin\",\"Riecoin\",\"Digitalcoin \",\"BitBar\",\"Catcoin\",\"CryptoBullion\",\"CannaCoin\",\"CryptCoin\",\"CasinoCoin\",\"Diamond\",\"Verge\",\"DevCoin\",\"EarthCoin\",\"E-Gulden\",\"Einsteinium\",\"Emerald\",\"Exclusive Coin\",\"FlutterCoin\",\"Franko\",\"FeatherCoin\",\"GrandCoin\",\"GlobalCoin\",\"GoldCoin\",\"HoboNickels\",\"HyperStake\",\"Infinite Coin\",\"IOCoin\",\"IXcoin\",\"KrugerCoin\",\"LuckyCoin\",\"Litebar \",\"MaxCoin\",\"MegaCoin\",\"MediterraneanCoin\",\"MintCoin\",\"MinCoin\",\"MazaCoin\",\"Nautilus Coin\",\"NavCoin\",\"NobleCoin\",\"Namecoin\",\"NyanCoin\",\"OpalCoin\",\"Orbitcoin\",\"PotCoin\",\"PhoenixCoin\",\"Reddcoin\",\"RonPaulCoin\",\"StableCoin\",\"SmartCoin\",\"SuperCoin\",\"SyncCoin\",\"SysCoin\",\"TeslaCoin\",\"TigerCoin\",\"TittieCoin\",\"TorCoin\",\"TerraCoin\",\"UnbreakableCoin\",\"Unobtanium\",\"UroCoin\",\"UnitaryStatus Dollar\",\"UltraCoin\",\"ViaCoin\",\"VeriCoin\",\"Vertcoin\",\"WorldCoin\",\"X11 Coin\",\"Crypti\",\"JouleCoin\",\"StealthCoin\",\"ZCC Coin\",\"ByteCoin\",\"DigitalNote \",\"BurstCoin\",\"StorjCoin\",\"MonaCoin\",\"Neutron\",\"FairCoin\",\"Gulden\",\"RubyCoin\",\"PesetaCoin\",\"Kore\",\"Wild Beast Coin\",\"Dnotes\",\"Flo\",\"8BIT Coin\",\"Sativa Coin\",\"ArtByte\",\"Folding Coin\",\"Ucoin\",\"Unitus\",\"CypherPunkCoin\",\"OmniCron\",\"Vtorrent\",\"GreenCoin\",\"Cryptonite\",\"MasterCoin\",\"SoonCoin\",\"1Credit\",\"IslaCoin\",\"Nexus\",\"MarsCoin \",\"Crypto\",\"Anarchists Prime\",\"Droidz\",\"BowsCoin\",\"Squall Coin\",\"Song Coin\",\"BitZeny\",\"Diggits\",\"Expanse\",\"Paycon\",\"Siacoin\",\"Emercoin\",\"EverGreenCoin\",\"MindCoin\",\"I0coin\",\"Decred\",\"Revolution VR\",\"HOdlcoin\",\"EDRCoin\",\"Hitcoin\",\"Gamecredits\",\"DubaiCoin\",\"CarpeDiemCoin\",\"PWR Coin\",\"BillaryCoin\",\"GPU Coin\",\"Adzcoin\",\"SoilCoin\",\"YoCoin\",\"SibCoin\",\"EuropeCoin\",\"ZeitCoin\",\"SwingCoin\",\"SafeExchangeCoin\",\"Nebuchadnezzar\",\"Francs\",\"BolivarCoin\",\"Ratecoin\",\"Revenu\",\"Clockcoin\",\"VIP Tokens\",\"BitSend\",\"Omni\",\"Let it Ride\",\"PutinCoin\",\"iBankCoin\",\"Frankywillcoin\",\"MudraCoin\",\"PizzaCoin\",\"Lutetium Coin\",\"Komodo\",\"GoldBlocks\",\"CarterCoin\",\"Karbo\",\"BitTokens\",\"ZayedCoin\",\"MustangCoin\",\"ZoneCoin\",\"Circuits of Value\",\"RootCoin\",\"DopeCoin\",\"BitCurrency\",\"DollarCoin\",\"Swiscoin\",\"Shilling\",\"BuzzCoin\",\"Opair\",\"PesoBit\",\"Halloween Coin\",\"ZCoin\",\"CoffeeCoin\",\"RoyalCoin\",\"GanjaCoin V2\",\"TeamUP\",\"LanaCoin\",\"Elementrem\",\"ZClassic\",\"ARK\",\"InsaneCoin\",\"KiloCoin\",\"ArtexCoin\",\"EmberCoin\",\"XenixCoin\",\"FreeCoin\",\"PLNCoin\",\"AquariusCoin\",\"Kurrent\",\"Creatio\",\"Eternity\",\"Eurocoin\",\"BitcoinFast\",\"Stakenet\",\"BitConnect Coin\",\"MoneyCoin\",\"Enigma\",\"Cannabis Industry Coin\",\"Russiacoin\",\"PandaCoin\",\"GameUnits\",\"GAKHcoin\",\"Allsafe\",\"LiteCreed\",\"OsmiumCoin\",\"Bikercoins\",\"HexxCoin\",\"Klingon Empire Darsek\",\"Internet of People\",\"KushCoin\",\"Printerium\",\"PacCoin\",\"Impeach\",\"Citadel\",\"Zilbercoin\",\"FirstCoin\",\"BeaverCoin\",\"FindCoin\",\"VaultCoin\",\"Zero\",\"OpenChat\",\"Canada eCoin\",\"Zoin\",\"RenosCoin\",\"DubaiCoin\",\"VirtacoinPlus\",\"TajCoin\",\"Impact\",\"EB3coin\",\"Atmos\",\"HappyCoin\",\"Coinonat\",\"MacronCoin\",\"Condensate\",\"Independent Money System\",\"ArgusCoin\",\"LomoCoin\",\"ProCurrency\",\"GoldReserve\",\"BenjiRolls\",\"GrowthCoin\",\"ILCoin\",\"Phreak\",\"Degas Coin\",\"HTML5 Coin\",\"Ultimate Secure Cash\",\"EquiTrader\",\"QTUM\",\"Quantum Resistant Ledger\",\"Espers\",\"Dynamic\",\"Nano\",\"ChanCoin\",\"Dinastycoin\",\"Denarius\",\"DigitalPrice\",\"Virta Unique Coin\",\"Bitcoin Planet\",\"Unify\",\"BritCoin\",\"SocialCoin\",\"ArcticCoin\",\"DAS\",\"Linda\",\"LeviarCoin\",\"DeepOnion\",\"Bitcore\",\"gCn Coin\",\"SmartCash\",\"Signatum\",\"Onix\",\"Cream\",\"Bitcoin Cash\",\"Monoeci\",\"Draftcoin\",\"Vechain\",\"Sojourn Coin\",\"Stakecoin\",\"NewYorkCoin\",\"FrazCoin\",\"Kronecoin\",\"AdCoin\",\"Linx\",\"CoinonatX\",\"Ethereum Dark\",\"Sumokoin\",\"Obsidian\",\"Cardano\",\"Regalcoin\",\"BitcoinZ\",\"TrezarCoin\",\"Elements\",\"TerraNovaCoin\",\"VIVO Coin\",\"Rupee\",\"Bitcoin Gold\",\"WomenCoin\",\"Theresa May Coin\",\"NamoCoin\",\"LUXCoin\",\"Pirl\",\"Xios\",\"Bitcloud 2.0\",\"eBoost\",\"KekCoin\",\"BlackholeCoin\",\"Infinity Economics\",\"Pura\",\"Innova\",\"Ellaism\",\"GoByte\",\"Magnet\",\"Lamden Tau\",\"Electra\",\"Bitcoin Diamond\",\"SHIELD\",\"Cash & Back Coin\",\"UltraNote\",\"BitCoal\",\"DaxxCoin\",\"Bulwark\",\"Kalkulus\",\"AC3\",\"Lethean\",\"GermanCoin\",\"LiteCoin Ultra\",\"PopularCoin\",\"PhantomX\",\"Photon\",\"Sucre\",\"SparksPay\",\"Digiwage\",\"GunCoin\",\"IrishCoin\",\"Trollcoin\",\"Litecoin Plus\",\"Monkey Project\",\"Pioneer Coin\",\"UnitedBitcoin\",\"Interzone\",\"TokenPay\",\"1717 Masonic Commemorative Token\",\"My Big Coin\",\"TurtleCoin\",\"MUNcoin\",\"Unified Society USDEX\",\"Niobio Cash\",\"ShareChain\",\"Travelflex\",\"KREDS\",\"Tokyo Coin\",\"BiblePay\",\"LitecoinCash\",\"BitFlip\",\"LottoCoin\",\"Crypto Improvement Fund\",\"Stipend\",\"Poa Network\",\"Pushi\",\"Ellerium\",\"Velox\",\"Ontology\",\"Callisto Network\",\"BitTube\",\"Poseidon\",\"Aidos Kuneen\",\"Bitspace\",\"Briacoin\",\"Ignition\",\"Bitrolium\",\"MedicCoin\",\"Alpenschillling\",\"Bitcoin Green\",\"Deviant Coin\",\"Abjcoin\",\"Semux\",\"FuturoCoin\",\"Carebit\",\"Zealium\",\"Monero Classic\",\"Proton\",\"iDealCash\",\"Jumpcoin\",\"Infinex\",\"Bitcoin Incognito\",\"KEYCO\",\"HollyWoodCoin\",\"GINcoin\",\"PlatinCoin\",\"Loki\",\"Newton Coin\",\"Swisscoin\",\"Xt3ch\",\"MassGrid\",\"TheVig\",\"PluraCoin\",\"EmaratCoin\",\"Dekado\",\"Lynx\",\"Poseidon Quark\",\"BitcoinWSpectrum\",\"Muse\",\"Motion\",\"PlusOneCoin\",\"Axe\",\"Trivechain\",\"Dystem\",\"Giant\",\"Peony Coin\",\"Absolute Coin\",\"Vitae\",\"HexCoin\",\"TPCash\",\"Webchain\",\"Ryo\",\"Urals Coin\",\"Qwertycoin\",\"ARENON\",\"EUNO\",\"MMOCoin\",\"Ketan\",\"Project Pai\",\"XDNA\",\"PAXEX\",\"Azart\",\"ThunderStake\",\"Kcash\",\"Xchange\",\"Acute Angle Cloud\",\"CrypticCoin\",\"Bettex coin\",\"Actinium\",\"Bitcoin SV\",\"BitMoney\",\"Junson Ming Chan Coin\",\"FREDEnergy\",\"HerbCoin\",\"Universal Molecule\",\"Lithium\",\"PirateCash\",\"Exosis\",\"Block-Logic\",\"Oduwa\",\"Beam\",\"Galilel\",\"Bithereum\",\"Crypto Sports\",\"Credit\",\"SLICE\",\"Dash Platinum\",\"Nasdacoin\",\"Beetle Coin\",\"Titan Coin\",\"Award\",\"BLAST\",\"Bitcoin Rhodium\",\"GlobalToken\",\"Insane Coin\",\"ALAX\",\"LiteDoge\",\"SolarCoin\",\"TruckCoin\",\"UFO Coin\",\"OrangeCoin\",\"BlakeCoin\",\"BitstarCoin\",\"NeosCoin\",\"HyperCoin\",\"PinkCoin\",\"Crypto Escudo\",\"AudioCoin\",\"IncaKoin\",\"Piggy Coin\",\"Crown Coin\",\"Genstake\",\"SmileyCoin\",\"XiaoMiCoin\",\"Groestlcoin\",\"CapriCoin\",\" ClubCoin\",\"Radium\",\"Bata\",\"Pakcoin\",\"Creditbit \",\"OKCash\",\"Lisk\",\"HiCoin\",\"WhiteCoin\",\"FriendshipCoin\",\"Fiii\",\"JoinCoin\",\"Triangles Coin\",\"Vollar\",\"EOS\",\"Reality Clash\",\"Oxycoin\",\"TigerCash\",\"Waves\",\"Particl\",\"BitTorrent\",\"Nxt\",\"ZEPHYR\",\"Gapcoin\",\"Beldex\",\"Horizen\",\"BitcoinPlus\"],\"ProofType\":[\"PoW/PoS\",\"PoW/PoS\",\"PoW/PoS\",\"PoW\",\"PoW\",\"PoW\",\"PoW/PoS\",\"PoW\",\"PoW\",\"PoW\",\"PoS\",\"PoW\",\"PoW/PoS\",\"PoS\",\"PoW\",\"PoW/PoS\",\"PoW\",\"PoW\",\"PoW/PoS\",\"PoW/PoS\",\"PoW\",\"PoW\",\"PoW\",\"PoW\",\"PoW\",\"PoW/PoS\",\"PoW\",\"PoW\",\"PoW\",\"PoW/PoS\",\"PoW\",\"PoW/PoS\",\"PoW\",\"PoW\",\"PoC\",\"PoW/PoS\",\"PoW\",\"PoW\",\"PoW\",\"PoW\",\"PoW\",\"PoW\",\"PoS\",\"PoS/PoW/PoT\",\"PoW\",\"PoW\",\"PoW\",\"PoW\",\"PoW\",\"PoW/PoS\",\"PoS\",\"PoW\",\"PoW/PoS\",\"PoW\",\"PoW\",\"PoW\",\"PoW\",\"PoW/PoS\",\"PoW\",\"PoW\",\"PoS\",\"PoW\",\"PoW/PoS\",\"PoS\",\"PoW/PoS\",\"PoW\",\"PoW\",\"PoW\",\"PoW/PoS\",\"PoW/PoS\",\"PoW/PoS\",\"PoW/PoS\",\"PoW/PoS\",\"PoW\",\"PoW\",\"PoW\",\"PoS\",\"PoW/PoS\",\"PoW\",\"PoS\",\"PoW\",\"PoS\",\"PoW/PoS\",\"PoW\",\"PoW\",\"PoW\",\"PoW\",\"PoW/PoS\",\"PoW/PoS\",\"PoW\",\"PoST\",\"PoW\",\"PoW\",\"PoW/PoS\",\"PoS\",\"PoW\",\"PoW/PoS\",\"PoW/PoS\",\"PoW\",\"PoW\",\"PoC\",\"PoS\",\"PoW\",\"PoW/PoS\",\"PoW/PoS\",\"PoW\",\"PoS\",\"PoW\",\"PoW/PoS\",\"PoW\",\"PoS\",\"PoW\",\"PoW/PoS\",\"PoW/PoS\",\"PoW\",\"PoW\",\"PoS\",\"PoW\",\"PoW\",\"PoW\",\"PoW/PoS\",\"PoW\",\"PoW\",\"PoW\",\"PoW\",\"PoW\",\"PoW/PoS\",\"PoW/nPoS\",\"PoW\",\"PoW\",\"PoW\",\"PoW/PoS\",\"PoW\",\"PoS/PoW\",\"PoW\",\"PoW\",\"PoS\",\"PoW\",\"PoW/PoS\",\"PoW\",\"PoW/PoS\",\"PoW/PoS\",\"PoW\",\"PoW\",\"PoW/PoS\",\"PoW\",\"PoW\",\"PoW/PoS\",\"PoW/PoS\",\"PoW\",\"PoW/PoS\",\"PoW\",\"PoW/PoS\",\"PoW/PoS\",\"PoS\",\"PoW\",\"PoW\",\"PoW\",\"PoW\",\"PoW/PoS\",\"PoS\",\"PoW/PoS\",\"PoC\",\"PoS\",\"PoW\",\"PoW\",\"PoW/PoS\",\"PoW/PoS\",\"PoW/PoS\",\"PoW/PoS\",\"PoW/PoS\",\"PoW\",\"PoS\",\"PoW/PoS\",\"PoW/PoS\",\"PoW/PoS\",\"PoS\",\"PoW\",\"PoS\",\"dPoW/PoW\",\"PoW/PoS\",\"PoW/PoS\",\"PoW\",\"PoW/PoS\",\"PoW\",\"PoW/PoS\",\"PoW/PoS\",\"PoW\",\"PoW/PoS\",\"PoW\",\"PoS\",\"PoW\",\"PoW/PoW\",\"PoW\",\"PoW/PoS\",\"PoS\",\"PoW/PoS\",\"PoW/PoS\",\"PoW\",\"PoS\",\"PoS\",\"PoW/PoS\",\"PoS\",\"PoW/PoS\",\"PoW\",\"PoW\",\"DPoS\",\"PoW/PoS\",\"PoW\",\"PoW\",\"PoW/PoS\",\"PoW/PoS\",\"PoS\",\"PoW/PoS\",\"PoW/PoS\",\"PoW\",\"PoS\",\"PoW/PoS\",\"PoW/PoS\",\"PoW/PoS\",\"TPoS\",\"PoW/PoS\",\"PoW/PoS\",\"PoW/PoS\",\"PoW\",\"PoW/PoS\",\"PoS\",\"PoW/PoS\",\"PoW/PoS\",\"PoS\",\"PoW/PoS\",\"PoW\",\"PoW\",\"PoW\",\"PoW/PoS\",\"PoW/PoS\",\"PoW/PoS\",\"PoW/PoS\",\"PoW\",\"PoW/PoS\",\"PoW\",\"PoS\",\"PoW/PoS \",\"PoW\",\"PoS\",\"PoW\",\"PoW\",\"PoW/PoS\",\"PoW\",\"PoW\",\"PoS\",\"PoW\",\"PoW/PoS\",\"PoW/PoS\",\"PoW/PoS\",\"PoW\",\"PoS\",\"PoW/PoS\",\"PoW\",\"PoS\",\"PoW/PoS\",\"PoW/PoS\",\"PoW/PoS\",\"PoW/PoS\",\"PoS\",\"PoW/PoS\",\"PoW\",\"PoS\",\"PoW\",\"PoS\",\"PoW/PoS\",\"PoW/PoS\",\"PoS\",\"PoW\",\"PoS\",\"PoW\",\"PoW/PoS\",\"PoW\",\"PoW\",\"PoW\",\"PoW\",\"PoW/PoS\",\"PoW\",\"PoW/PoS\",\"PoW/PoS\",\"PoW\",\"PoW/PoS\",\"PoW\",\"PoW\",\"PoW\",\"PoW/PoS\",\"PoW\",\"PoW/PoS\",\"PoW\",\"PoW\",\"PoW\",\"PoS\",\"PoW\",\"PoW/PoS\",\"PoW\",\"PoW/PoS\",\"PoS\",\"Proof of Authority\",\"PoW\",\"PoS\",\"PoW\",\"PoW\",\"PoW\",\"PoW\",\"PoW\",\"PoW/PoS\",\"PoW/PoS\",\"PoW\",\"PoS\",\"PoS\",\"PoW/PoS\",\"PoW\",\"PoW/PoS\",\"PoW\",\"PoW/PoS\",\"PoW\",\"PoS\",\"PoW\",\"PoW/PoS\",\"PoW/PoS\",\"PoW/PoS\",\"PoW/PoS\",\"PoW\",\"PoW/PoS\",\"PoW/PoS\",\"PoW\",\"PoS\",\"PoW/PoS\",\"PoS\",\"PoW\",\"PoW\",\"PoW\",\"PoW\",\"PoW/PoS\",\"DPoS\",\"PoW/PoS\",\"PoW/PoS\",\"PoW\",\"PoW/PoS\",\"PoW\",\"PoW\",\"PoW\",\"PoS\",\"PoS\",\"PoW\",\"PoW\",\"PoW/PoS\",\"PoW/PoS\",\"PoW\",\"PoW/PoS\",\"PoW\",\"PoW\",\"PoW\",\"PoS\",\"PoW\",\"PoW\",\"PoW/PoS\",\"PoW/PoS\",\"PoS\",\"PoW\",\"PoW\",\"PoW\",\"PoS\",\"PoS\",\"PoW and PoS\",\"PoW\",\"PoW\",\"PoW/PoS\",\"PoW\",\"PoW\",\"PoW\",\"PoW\",\"PoS\",\"POBh\",\"PoW + Hive\",\"PoW\",\"PoW\",\"PoW\",\"PoW/PoS\",\"PoA\",\"PoW/PoS\",\"PoW/PoS\",\"PoS\",\"PoS\",\"PoW\",\"PoW\",\"PoW\",\"PoW\",\"PoW/PoS\",\"PoW/PoS\",\"PoW/PoS\",\"PoW\",\"PoS\",\"PoW\",\"PoS\",\"PoS\",\"PoW/PoS\",\"DPoS\",\"PoW\",\"PoW/PoS\",\"PoS\",\"PoW\",\"PoS\",\"PoW/PoS\",\"PoW\",\"PoW\",\"PoS/PoW\",\"PoW\",\"PoS\",\"PoW\",\"PoW\",\"PoW\",\"PoW\",\"PoW/PoS\",\"PoS\",\"PoW\",\"PoW/PoS\",\"PoW\",\"PoW/PoS\",\"PoS\",\"HPoW\",\"PoS\",\"PoS\",\"PoS\",\"PoW\",\"PoW\",\"PoW\",\"PoW/PoS\",\"PoS\",\"PoW/PoS\",\"PoS\",\"PoW/PoS\",\"PoS\",\"PoW\",\"PoW/PoS\",\"PoW\",\"PoW\",\"PoW\",\"PoW\",\"PoS\",\"PoW/PoS\",\"PoS\",\"PoS\",\"PoW\",\"PoW/PoS\",\"PoS\",\"PoW\",\"PoW/PoS\",\"Zero-Knowledge Proof\",\"PoW\",\"DPOS\",\"PoW\",\"PoS\",\"PoW\",\"PoW\",\"Pos\",\"PoS\",\"PoW\",\"PoW/PoS\",\"PoW\",\"PoW\",\"PoS\",\"PoW\",\"PoW\",\"PoW/PoS\",\"PoW\",\"PoW/PoS\",\"PoW\",\"PoS\",\"PoW/PoS\",\"PoW\",\"PoS\",\"PoW/PoS\",\"PoW/PoS\",\"PoW/PoS\",\"PoW/PoS\",\"PoW\",\"PoW\",\"PoW\",\"PoW/PoS\",\"DPoS\",\"PoW/PoS\",\"PoW\",\"PoW/PoS\",\"PoW\",\"PoW/PoS\",\"PoW\",\"PoW/PoS\",\"PoS\",\"PoW/PoS\",\"PoW/PoS\",\"PoW\",\"PoW/PoS\",\"PoW/PoS\",\"PoW/PoS\",\"PoW\",\"PoW/PoS\",\"PoW\",\"PoW/PoS\",\"PoW\",\"PoW/PoS\",\"PoW/PoS\",\"PoS\",\"PoW\",\"PoW\",\"Proof of Trust\",\"PoW/PoS\",\"DPoS\",\"PoS\",\"PoW/PoS\",\"PoW/PoS\",\"DPoC\",\"PoW\",\"PoW/PoS\",\"PoW\",\"DPoS\",\"PoW\",\"DPoS\",\"PoS\",\"LPoS\",\"PoS\",\"DPoS\",\"PoS/LPoS\",\"DPoS\",\"PoW/PoS\",\"PoW\",\"PoW\",\"PoS\"],\"TotalCoinSupply\":[\"42\",\"532000000\",\"314159265359\",\"21000000\",\"0\",\"84000000\",\"22000000\",\"0\",\"210000000\",\"21000000\",\"3600570502\",\"21000000000\",\"22000000\",\"12500000\",\"21000000\",\"350000000\",\"20000000\",\"64000000\",\"16768584\",\"0\",\"2000000000\",\"384000000000\",\"169795588\",\"250000000\",\"100000000\",\"0\",\"247000000\",\"84000000\",\"48166000\",\"500000\",\"21000000 \",\"1000000\",\"13140000\",\"18000000\",\"40000000000\",\"4380000\",\"16555000000\",\"21000000000\",\"13500000000\",\"21000000 \",\"299792458\",\"32000000\",\"0\",\"0\",\"11235813\",\"336000000\",\"1420609614\",\"70000000\",\"72245700\",\"120000000\",\"0\",\"90600000000\",\"22000000\",\"21000000\",\"265420800\",\"20000000\",\"1350000\",\"100000000\",\"42000000\",\"200000000\",\"0\",\"10000000\",\"2419200000\",\"16180000\",\"0\",\"15000000000\",\"21000000\",\"337000000\",\"0\",\"3770000\",\"420000000\",\"98000000\",\"0\",\"21000000\",\"250000000\",\"51200000\",\"0\",\"1000\",\"888000000\",\"100000000\",\"47011968\",\"2300000000\",\"10000000\",\"42000000\",\"80000000\",\"250000\",\"0\",\"1600000000\",\"100000000\",\"23000000\",\"0\",\"84000000\",\"265420800\",\"5500000\",\"0\",\"45000000\",\"0\",\"1000000000\",\"184467440735\",\"10000000000\",\"2158812800\",\"500000000\",\"105120000\",\"68000000\",\"0\",\"1680000000\",\"0\",\"166386000\",\"12000000\",\"2628000\",\"500000000\",\"160000000\",\"0\",\"10000000\",\"1000000000\",\"1000000000\",\"20000000\",\"0\",\"0\",\"3371337\",\"20000000\",\"10000000000\",\"1840000000\",\"619478\",\"21000000\",\"92000000000\",\"0\",\"78000000\",\"33000000\",\"65789100\",\"53760000\",\"5060000\",\"21000000\",\"0\",\"210240000\",\"250000000\",\"100000000\",\"16906397\",\"50000000\",\"0\",\"1000000000\",\"26298000\",\"16000000\",\"21000000\",\"21000000\",\"210000000\",\"81962100\",\"22000000\",\"26550000000\",\"84000000\",\"10500000\",\"21626280000 \",\"0\",\"42000000\",\"221052632\",\"84000000\",\"30000000\",\"168351300\",\"24000000\",\"384000000\",\" 99000000000\",\"40000000\",\"2147483647\",\"20000000\",\"20000000\",\"25000000\",\"75000000\",\"222725000\",\"525000000\",\"90000000\",\"139000000\",\"616448\",\"33500000\",\"2000000000\",\"44333333\",\"100000000\",\"200000000\",\"25000000\",\"657000000\",\"200000000\",\"50000000\",\"90000000\",\"10000000\",\"21000000\",\"9736000\",\"3000000\",\"21000000\",\"1200000000\",\"0\",\"200000000\",\"0\",\"10638298\",\"3100000000\",\"30000000\",\"20000000000\",\"74000000\",\"0\",\"1500000000\",\"21400000\",\"39999898\",\"2500124\",\"100000000\",\"301000000\",\"7506000000\",\"26205539\",\"21000000\",\"125000000\",\"30000000\",\"10000000000\",\"500000000\",\"850000000\",\"3853326.77707314\",\"50000000\",\"38540000 \",\"42000000\",\"228000000\",\"20000000\",\"60000000\",\"20000000\",\"33000000\",\"76500000\",\"28000000\",\"650659833\",\"5000000\",\"21000000\",\"144000000\",\"32514916898\",\"13000000\",\"3315789\",\"15000000\",\"78835200\",\"2714286\",\"25000000\",\"9999999\",\"500000000\",\"21000000\",\"9354000\",\"20000000\",\"100000000000\",\"21933333\",\"185000000\",\"55000000\",\"110000000\",\"3360000\",\"14524851.4827\",\"1000000000\",\"17000000\",\"1000000000\",\"100000000 \",\"21000000\",\"34426423\",\"2232901\",\"100000000\",\"36900000\",\"110000000\",\"4000000000\",\"110290030\",\"100000000\",\"48252000\",\"400000000\",\"500000000\",\"21212121\",\"28600000\",\"1000000000\",\"75000000000\",\"40000000\",\"35520400\",\"2000000000\",\"2500000000\",\"30000000\",\"105000000\",\"90000000000\",\"200084200\",\"72000000\",\"100000000\",\"105000000\",\"50000000000\",\"0\",\"340282367\",\"30000000\",\"2000000000\",\"10000000\",\"100000000\",\"120000000\",\"100000000\",\"19276800\",\"30000000\",\" 75000000\",\"60000000\",\"18900000\",\"50000000000\",\"54000000\",\"18898187.6216583\",\"21000000\",\"200000000000\",\"5000000000\",\"137500000\",\"1100000000\",\"100000000\",\"21000000\",\"9507271\",\"17405891.19707116\",\"86712634466\",\"10500000000\",\"61599965\",\"0\",\"20000000\",\"84000000\",\"100000000\",\"100000000\",\"48252000\",\"4200000\",\"88888888\",\"91388946\",\"45000000000\",\"27000000\",\"21000000000\",\"400000000\",\"1800000000\",\"15733333\",\"27000000\",\"24000000\",\"21000000\",\"25000000000\",\"100000000\",\"1200000000\",\"60000000\",\"156306732.71\",\"21000000\",\"200000000\",\"100000000\",\"21000000\",\"14788275.991\",\"9000000000\",\"350000000\",\"45000000\",\"280000000\",\"31800000\",\"144000000\",\"500000000\",\"30000000000\",\"210000000\",\"660000000\",\"210000000\",\"85000000000\",\"12500000\",\"10000000000\",\"27716121\",\"20000000\",\"550000000\",\"999481516\",\"50000000000\",\"150000000\",\"4999999999\",\"50000000\",\" 90000000000\",\"19800000\",\"21000000\",\"120000000\",\"500000000\",\"64000000\",\"900000000\",\"4000000\",\"21000000\",\"23000000\",\"20166000\",\"23000000\",\"25000000\",\"1618033\",\"30000000\",\"1000000000000\",\"16600000\",\"232000000\",\"336000000\",\"10000000000\",\"100000000\",\"1100000000\",\"800000000\",\"5200000000\",\"840000000\",\"40000000\",\"18406979840\",\"500000000\",\"19340594\",\"252460800\",\"25000000\",\"60000000\",\"124000000\",\"1000000000\",\"6500000000\",\"1000000000\",\"21000000\",\"25000000\",\"50000000\",\"3000000\",\"5000000\",\"70000000\",\"500000000\",\"300000000\",\"21000000\",\"88000000\",\"30000000\",\"100000000\",\"100000000\",\"200000000\",\"80000000\",\"18400000\",\"45000000\",\"5121951220\",\"21000000\",\"26280000\",\"21000000\",\"18000000\",\"26000000\",\"10500000\",\"600000518\",\"150000000\",\"184000000000\",\"10200000000\",\"44000000\",\"168000000\",\"100000000\",\"1000000000\",\"84000000\",\"90000000\",\"92000000000\",\"650000000 \",\"100262205\",\"18081806 \",\"22075700\",\"21000000\",\"21000000\",\"82546564\",\"21000000\",\"5151000\",\"16880000000\",\"52500000\",\"100000000\",\"22105263\",\"1000000000\",\"1750000000\",\"88188888\",\"210000000\",\"184470000000\",\"55000000\",\"50000000\",\"260000000\",\"210000000\",\"2100000000\",\"366000000\",\"100000000\",\"25000000\",\"18000000000\",\"1000000000\",\"100000000\",\"1000000000\",\"7600000000\",\"50000000\",\"84000000\",\"21000000\",\"70000000000\",\"0\",\"8080000000\",\"54000000\",\"105120001.44\",\"25228800\",\"105000000\",\"21000000\",\"120000000\",\"21000000\",\"262800000\",\"19035999\",\"30886000\",\"13370000\",\"74800000000\",\"100000000\",\"19700000\",\"84000000\",\"500000000\",\"5000000000\",\"420000000\",\"64000000\",\"2100000\",\"168000000\",\"30000000\",\"1000000000\",\"35000000000\",\"98100000000\",\"0\",\"4000000000\",\"200000000\",\"7000000000\",\"54256119\",\"21000000\",\"0\",\"500000000\",\"1000000000\",\"10500000000\",\"190000000\",\"1000000000\",\"42000000\",\"15000000\",\"50000000000\",\"400000000\",\"105000000\",\"208000000\",\"160000000\",\"9000000\",\"5000000\",\"182000000\",\"16504333\",\"105000000\",\"159918400\",\"10008835635\",\"300000000\",\"60168145\",\"5000000000\",\"2800000\",\"120000\",\"2100000000\",\"0\",\"24487944\",\"0\",\"1000000000\",\"100000000\",\"8634140\",\"990000000000\",\"1000000000\",\"2000000000\",\"250000000\",\"1400222610\",\"21000000\",\"1000000\"],\"TotalCoinsMined\":{\"__ndarray__\":\"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\",\"dtype\":\"float64\",\"shape\":[533]}},\"selected\":{\"id\":\"1242\"},\"selection_policy\":{\"id\":\"1276\"}},\"id\":\"1241\",\"type\":\"ColumnDataSource\"},{\"attributes\":{\"format\":\"0,0.0[00000]\"},\"id\":\"1263\",\"type\":\"NumberFormatter\"},{\"attributes\":{},\"id\":\"1249\",\"type\":\"StringEditor\"},{\"attributes\":{},\"id\":\"1254\",\"type\":\"StringEditor\"},{\"attributes\":{},\"id\":\"1269\",\"type\":\"IntEditor\"},{\"attributes\":{},\"id\":\"1242\",\"type\":\"Selection\"},{\"attributes\":{\"editor\":{\"id\":\"1254\"},\"field\":\"ProofType\",\"formatter\":{\"id\":\"1253\"},\"title\":\"ProofType\"},\"id\":\"1255\",\"type\":\"TableColumn\"},{\"attributes\":{},\"id\":\"1264\",\"type\":\"NumberEditor\"},{\"attributes\":{\"source\":{\"id\":\"1241\"}},\"id\":\"1274\",\"type\":\"CDSView\"},{\"attributes\":{},\"id\":\"1248\",\"type\":\"StringFormatter\"},{\"attributes\":{},\"id\":\"1276\",\"type\":\"UnionRenderers\"},{\"attributes\":{\"editor\":{\"id\":\"1249\"},\"field\":\"Algorithm\",\"formatter\":{\"id\":\"1248\"},\"title\":\"Algorithm\"},\"id\":\"1250\",\"type\":\"TableColumn\"},{\"attributes\":{\"columns\":[{\"id\":\"1245\"},{\"id\":\"1250\"},{\"id\":\"1255\"},{\"id\":\"1260\"},{\"id\":\"1265\"},{\"id\":\"1270\"}],\"height\":300,\"reorderable\":false,\"source\":{\"id\":\"1241\"},\"view\":{\"id\":\"1274\"},\"width\":700},\"id\":\"1273\",\"type\":\"DataTable\"},{\"attributes\":{},\"id\":\"1243\",\"type\":\"StringFormatter\"},{\"attributes\":{},\"id\":\"1259\",\"type\":\"StringEditor\"},{\"attributes\":{\"margin\":[5,5,5,5],\"name\":\"HSpacer01935\",\"sizing_mode\":\"stretch_width\"},\"id\":\"1240\",\"type\":\"Spacer\"},{\"attributes\":{\"margin\":[5,5,5,5],\"name\":\"HSpacer01936\",\"sizing_mode\":\"stretch_width\"},\"id\":\"1277\",\"type\":\"Spacer\"},{\"attributes\":{\"editor\":{\"id\":\"1244\"},\"field\":\"CoinName\",\"formatter\":{\"id\":\"1243\"},\"title\":\"CoinName\"},\"id\":\"1245\",\"type\":\"TableColumn\"},{\"attributes\":{},\"id\":\"1258\",\"type\":\"StringFormatter\"},{\"attributes\":{\"editor\":{\"id\":\"1264\"},\"field\":\"TotalCoinsMined\",\"formatter\":{\"id\":\"1263\"},\"title\":\"TotalCoinsMined\"},\"id\":\"1265\",\"type\":\"TableColumn\"},{\"attributes\":{\"editor\":{\"id\":\"1269\"},\"field\":\"Class\",\"formatter\":{\"id\":\"1268\"},\"title\":\"Class\"},\"id\":\"1270\",\"type\":\"TableColumn\"}],\"root_ids\":[\"1239\"]},\"title\":\"Bokeh Application\",\"version\":\"2.0.2\"}};\n",
       "  var render_items = [{\"docid\":\"00e4ccb0-68b2-42df-89b6-cb0e667e255d\",\"root_ids\":[\"1239\"],\"roots\":{\"1239\":\"373dcdde-936e-4533-8e6a-a566b638242c\"}}];\n",
       "  root.Bokeh.embed.embed_items_notebook(docs_json, render_items);\n",
       "  }\n",
       "if (root.Bokeh !== undefined) {\n",
       "    embed_document(root);\n",
       "  } else {\n",
       "    var attempts = 0;\n",
       "    var timer = setInterval(function(root) {\n",
       "      if (root.Bokeh !== undefined) {\n",
       "        clearInterval(timer);\n",
       "        embed_document(root);\n",
       "      } else if (document.readyState == \"complete\") {\n",
       "        attempts++;\n",
       "        if (attempts > 100) {\n",
       "          clearInterval(timer);\n",
       "          console.log(\"Bokeh: ERROR: Unable to run BokehJS code because BokehJS library is missing\");\n",
       "        }\n",
       "      }\n",
       "    }, 10, root)\n",
       "  }\n",
       "})(window);</script>"
      ],
      "text/plain": [
       ":Table   [CoinName,Algorithm,ProofType,TotalCoinSupply,TotalCoinsMined,Class]"
      ]
     },
     "execution_count": 101,
     "metadata": {
      "application/vnd.holoviews_exec.v0+json": {
       "id": "1239"
      }
     },
     "output_type": "execute_result"
    }
   ],
   "source": [
    "# Table with tradable cryptos\n",
    "columns = ['CoinName', 'Algorithm', 'ProofType', 'TotalCoinSupply', 'TotalCoinsMined', 'Class']\n",
    "table = clustered_df.hvplot.table(columns)\n",
    "table\n"
   ]
  },
  {
   "cell_type": "code",
   "execution_count": 104,
   "metadata": {},
   "outputs": [
    {
     "name": "stdout",
     "output_type": "stream",
     "text": [
      "The total number of tradable cryptocurrencies is 533\n"
     ]
    }
   ],
   "source": [
    "# Print the total number of tradable cryptocurrencies\n",
    "tradable_currencies = table.shape[0]\n",
    "print(f'The total number of tradable cryptocurrencies is {tradable_currencies}')\n"
   ]
  },
  {
   "cell_type": "markdown",
   "metadata": {},
   "source": [
    "#### Scatter Plot with Tradable Cryptocurrencies"
   ]
  },
  {
   "cell_type": "code",
   "execution_count": 108,
   "metadata": {},
   "outputs": [],
   "source": [
    "# Scale data to create the scatter plot\n",
    "clustered_df['TotalCoinsMined'] = clustered_df['TotalCoinsMined'] / 1000000000\n",
    "clustered_df['TotalCoinSupply'] = clustered_df['TotalCoinSupply'] / 1000000000"
   ]
  },
  {
   "cell_type": "code",
   "execution_count": 110,
   "metadata": {},
   "outputs": [
    {
     "data": {},
     "metadata": {},
     "output_type": "display_data"
    },
    {
     "data": {
      "application/vnd.holoviews_exec.v0+json": "",
      "text/html": [
       "<div id='1615'>\n",
       "\n",
       "\n",
       "\n",
       "\n",
       "\n",
       "  <div class=\"bk-root\" id=\"dca3b7fd-5a3f-4e2c-80f9-84f3cc04c9db\" data-root-id=\"1615\"></div>\n",
       "</div>\n",
       "<script type=\"application/javascript\">(function(root) {\n",
       "  function embed_document(root) {\n",
       "  var docs_json = {\"b9671753-2ca0-4dbf-97c1-7e16395a3352\":{\"roots\":{\"references\":[{\"attributes\":{\"end\":1.1e-06,\"reset_end\":1.1e-06,\"reset_start\":-1e-07,\"start\":-1e-07,\"tags\":[[[\"TotalCoinSupply\",\"TotalCoinSupply\",null]]]},\"id\":\"1618\",\"type\":\"Range1d\"},{\"attributes\":{\"fill_color\":{\"field\":\"color\",\"transform\":{\"id\":\"1650\"}},\"line_color\":{\"field\":\"color\",\"transform\":{\"id\":\"1650\"}},\"size\":{\"units\":\"screen\",\"value\":5.477225575051661},\"x\":{\"field\":\"TotalCoinsMined\"},\"y\":{\"field\":\"TotalCoinSupply\"}},\"id\":\"1654\",\"type\":\"Scatter\"},{\"attributes\":{},\"id\":\"1625\",\"type\":\"LinearScale\"},{\"attributes\":{\"axis\":{\"id\":\"1629\"},\"grid_line_color\":null,\"ticker\":null},\"id\":\"1632\",\"type\":\"Grid\"},{\"attributes\":{},\"id\":\"1637\",\"type\":\"SaveTool\"},{\"attributes\":{},\"id\":\"1639\",\"type\":\"WheelZoomTool\"},{\"attributes\":{\"margin\":[5,5,5,5],\"name\":\"HSpacer02551\",\"sizing_mode\":\"stretch_width\"},\"id\":\"1616\",\"type\":\"Spacer\"},{\"attributes\":{\"fill_alpha\":{\"value\":0.2},\"fill_color\":{\"field\":\"color\",\"transform\":{\"id\":\"1650\"}},\"line_alpha\":{\"value\":0.2},\"line_color\":{\"field\":\"color\",\"transform\":{\"id\":\"1650\"}},\"size\":{\"units\":\"screen\",\"value\":5.477225575051661},\"x\":{\"field\":\"TotalCoinsMined\"},\"y\":{\"field\":\"TotalCoinSupply\"}},\"id\":\"1658\",\"type\":\"Scatter\"},{\"attributes\":{\"axis\":{\"id\":\"1633\"},\"dimension\":1,\"grid_line_color\":null,\"ticker\":null},\"id\":\"1636\",\"type\":\"Grid\"},{\"attributes\":{\"axis_label\":\"TotalCoinsMined\",\"bounds\":\"auto\",\"formatter\":{\"id\":\"1664\"},\"major_label_orientation\":\"horizontal\",\"ticker\":{\"id\":\"1630\"}},\"id\":\"1629\",\"type\":\"LinearAxis\"},{\"attributes\":{\"fill_alpha\":{\"value\":0.1},\"fill_color\":{\"field\":\"color\",\"transform\":{\"id\":\"1650\"}},\"line_alpha\":{\"value\":0.1},\"line_color\":{\"field\":\"color\",\"transform\":{\"id\":\"1650\"}},\"size\":{\"units\":\"screen\",\"value\":5.477225575051661},\"x\":{\"field\":\"TotalCoinsMined\"},\"y\":{\"field\":\"TotalCoinSupply\"}},\"id\":\"1655\",\"type\":\"Scatter\"},{\"attributes\":{\"high\":3.0,\"low\":0.0,\"palette\":[\"#fcfea4\",\"#fafda0\",\"#f9fc9d\",\"#f7fb99\",\"#f6fa95\",\"#f5f891\",\"#f4f78d\",\"#f3f689\",\"#f2f485\",\"#f2f381\",\"#f1f27d\",\"#f1f079\",\"#f1ee74\",\"#f1ed70\",\"#f1eb6c\",\"#f1e968\",\"#f1e864\",\"#f2e660\",\"#f2e45d\",\"#f3e259\",\"#f3e056\",\"#f3de52\",\"#f4dc4f\",\"#f4db4b\",\"#f5d948\",\"#f5d745\",\"#f6d542\",\"#f6d33f\",\"#f7d13c\",\"#f7cf3a\",\"#f8cd37\",\"#f8cb34\",\"#f8c931\",\"#f9c72f\",\"#f9c52c\",\"#f9c32a\",\"#fac128\",\"#fabf25\",\"#fabd23\",\"#fabb21\",\"#fbb91e\",\"#fbb71c\",\"#fbb51a\",\"#fbb318\",\"#fbb116\",\"#fbb014\",\"#fbae12\",\"#fbac10\",\"#fbaa0e\",\"#fba80d\",\"#fba60b\",\"#fba40a\",\"#fba208\",\"#fba007\",\"#fb9e07\",\"#fb9d06\",\"#fb9b06\",\"#fb9906\",\"#fa9706\",\"#fa9506\",\"#fa9306\",\"#fa9107\",\"#f99008\",\"#f98e08\",\"#f98c09\",\"#f88a0b\",\"#f8880c\",\"#f8870d\",\"#f7850e\",\"#f78310\",\"#f68111\",\"#f68012\",\"#f57e14\",\"#f57c15\",\"#f47a16\",\"#f37918\",\"#f37719\",\"#f2751a\",\"#f2741c\",\"#f1721d\",\"#f0701e\",\"#f06f1f\",\"#ef6d21\",\"#ee6c22\",\"#ed6a23\",\"#ed6825\",\"#ec6726\",\"#eb6527\",\"#ea6428\",\"#e9622a\",\"#e8612b\",\"#e75f2c\",\"#e65e2d\",\"#e65c2e\",\"#e55b30\",\"#e45a31\",\"#e35832\",\"#e25733\",\"#e05634\",\"#df5436\",\"#de5337\",\"#dd5238\",\"#dc5039\",\"#db4f3a\",\"#da4e3b\",\"#d94d3d\",\"#d74b3e\",\"#d64a3f\",\"#d54940\",\"#d44841\",\"#d24742\",\"#d14643\",\"#d04544\",\"#cf4446\",\"#cd4247\",\"#cc4148\",\"#cb4049\",\"#c93f4a\",\"#c83e4b\",\"#c73e4c\",\"#c53d4d\",\"#c43c4e\",\"#c23b4f\",\"#c13a50\",\"#bf3951\",\"#be3852\",\"#bd3753\",\"#bb3754\",\"#ba3655\",\"#b83556\",\"#b73456\",\"#b53357\",\"#b43358\",\"#b23259\",\"#b1315a\",\"#af315b\",\"#ae305b\",\"#ac2f5c\",\"#ab2e5d\",\"#a92e5e\",\"#a72d5f\",\"#a62c5f\",\"#a42c60\",\"#a32b61\",\"#a12b61\",\"#a02a62\",\"#9e2963\",\"#9c2963\",\"#9b2864\",\"#992864\",\"#982765\",\"#962666\",\"#952666\",\"#932567\",\"#912567\",\"#902468\",\"#8e2468\",\"#8d2369\",\"#8b2269\",\"#892269\",\"#88216a\",\"#86216a\",\"#85206a\",\"#83206b\",\"#811f6b\",\"#801f6b\",\"#7e1e6c\",\"#7d1d6c\",\"#7b1d6c\",\"#7a1c6d\",\"#781c6d\",\"#761b6d\",\"#751b6d\",\"#731a6d\",\"#72196d\",\"#70196e\",\"#6e186e\",\"#6d186e\",\"#6b176e\",\"#6a176e\",\"#68166e\",\"#66156e\",\"#65156e\",\"#63146e\",\"#62146e\",\"#60136e\",\"#5f126e\",\"#5d126e\",\"#5b116e\",\"#5a116d\",\"#58106d\",\"#570f6d\",\"#550f6d\",\"#530e6d\",\"#520e6c\",\"#500d6c\",\"#4f0d6c\",\"#4d0c6b\",\"#4b0c6b\",\"#4a0b6a\",\"#480b6a\",\"#460a69\",\"#450a69\",\"#430a68\",\"#410967\",\"#400966\",\"#3e0966\",\"#3c0965\",\"#3b0964\",\"#390962\",\"#370961\",\"#350960\",\"#34095f\",\"#32095d\",\"#300a5c\",\"#2e0a5a\",\"#2d0a58\",\"#2b0a56\",\"#290b54\",\"#270b52\",\"#260b50\",\"#240b4e\",\"#220b4c\",\"#200c4a\",\"#1f0c47\",\"#1d0c45\",\"#1c0c43\",\"#1a0b40\",\"#190b3e\",\"#170b3b\",\"#160b39\",\"#140b36\",\"#130a34\",\"#120a32\",\"#10092f\",\"#0f092d\",\"#0e082a\",\"#0d0828\",\"#0b0726\",\"#0a0723\",\"#090621\",\"#08061f\",\"#07051d\",\"#06041b\",\"#050418\",\"#040316\",\"#040314\",\"#030212\",\"#020210\",\"#02010e\",\"#01010b\",\"#010109\",\"#010007\",\"#000006\",\"#000004\",\"#000003\"]},\"id\":\"1650\",\"type\":\"LinearColorMapper\"},{\"attributes\":{},\"id\":\"1638\",\"type\":\"PanTool\"},{\"attributes\":{},\"id\":\"1634\",\"type\":\"BasicTicker\"},{\"attributes\":{\"text\":\"\",\"text_color\":{\"value\":\"black\"},\"text_font_size\":{\"value\":\"12pt\"}},\"id\":\"1621\",\"type\":\"Title\"},{\"attributes\":{\"fill_color\":{\"field\":\"color\",\"transform\":{\"id\":\"1650\"}},\"line_color\":{\"field\":\"color\",\"transform\":{\"id\":\"1650\"}},\"size\":{\"units\":\"screen\",\"value\":5.477225575051661},\"x\":{\"field\":\"TotalCoinsMined\"},\"y\":{\"field\":\"TotalCoinSupply\"}},\"id\":\"1656\",\"type\":\"Scatter\"},{\"attributes\":{\"active_drag\":\"auto\",\"active_inspect\":\"auto\",\"active_multi\":null,\"active_scroll\":\"auto\",\"active_tap\":\"auto\",\"tools\":[{\"id\":\"1619\"},{\"id\":\"1637\"},{\"id\":\"1638\"},{\"id\":\"1639\"},{\"id\":\"1640\"},{\"id\":\"1641\"}]},\"id\":\"1643\",\"type\":\"Toolbar\"},{\"attributes\":{},\"id\":\"1666\",\"type\":\"BasicTickFormatter\"},{\"attributes\":{},\"id\":\"1630\",\"type\":\"BasicTicker\"},{\"attributes\":{},\"id\":\"1675\",\"type\":\"UnionRenderers\"},{\"attributes\":{\"children\":[{\"id\":\"1616\"},{\"id\":\"1620\"},{\"id\":\"1677\"}],\"margin\":[0,0,0,0],\"name\":\"Row02547\",\"tags\":[\"embedded\"]},\"id\":\"1615\",\"type\":\"Row\"},{\"attributes\":{},\"id\":\"1627\",\"type\":\"LinearScale\"},{\"attributes\":{\"callback\":null,\"renderers\":[{\"id\":\"1659\"}],\"tags\":[\"hv_created\"],\"tooltips\":[[\"TotalCoinsMined\",\"@{TotalCoinsMined}\"],[\"TotalCoinSupply\",\"@{TotalCoinSupply}\"],[\"Class\",\"@{Class}\"],[\"CoinName\",\"@{CoinName}\"]]},\"id\":\"1619\",\"type\":\"HoverTool\"},{\"attributes\":{\"overlay\":{\"id\":\"1642\"}},\"id\":\"1640\",\"type\":\"BoxZoomTool\"},{\"attributes\":{},\"id\":\"1652\",\"type\":\"Selection\"},{\"attributes\":{\"data\":{\"Class\":{\"__ndarray__\":\"AQAAAAEAAAABAAAAAAAAAAAAAAAAAAAAAQAAAAAAAAAAAAAAAAAAAAEAAAAAAAAAAQAAAAEAAAAAAAAAAQAAAAAAAAAAAAAAAQAAAAEAAAAAAAAAAAAAAAAAAAAAAAAAAAAAAAEAAAAAAAAAAAAAAAAAAAABAAAAAAAAAAEAAAAAAAAAAAAAAAEAAAABAAAAAAAAAAAAAAAAAAAAAAAAAAAAAAAAAAAAAQAAAAEAAAAAAAAAAAAAAAAAAAAAAAAAAAAAAAEAAAABAAAAAAAAAAEAAAAAAAAAAAAAAAAAAAAAAAAAAQAAAAAAAAAAAAAAAQAAAAAAAAABAAAAAQAAAAEAAAAAAAAAAAAAAAAAAAABAAAAAQAAAAEAAAABAAAAAQAAAAAAAAAAAAAAAAAAAAEAAAABAAAAAAAAAAEAAAAAAAAAAQAAAAEAAAAAAAAAAAAAAAAAAAAAAAAAAQAAAAEAAAAAAAAAAQAAAAAAAAAAAAAAAQAAAAEAAAAAAAAAAQAAAAEAAAAAAAAAAAAAAAEAAAABAAAAAAAAAAEAAAABAAAAAAAAAAEAAAAAAAAAAQAAAAAAAAABAAAAAAAAAAEAAAABAAAAAAAAAAAAAAABAAAAAAAAAAAAAAAAAAAAAQAAAAAAAAAAAAAAAAAAAAAAAAAAAAAAAQAAAAEAAAAAAAAAAAAAAAAAAAABAAAAAAAAAAEAAAAAAAAAAAAAAAEAAAAAAAAAAQAAAAAAAAABAAAAAQAAAAAAAAAAAAAAAQAAAAAAAAAAAAAAAQAAAAEAAAAAAAAAAQAAAAAAAAABAAAAAQAAAAEAAAAAAAAAAAAAAAAAAAAAAAAAAQAAAAEAAAABAAAAAQAAAAEAAAAAAAAAAAAAAAEAAAABAAAAAQAAAAEAAAABAAAAAAAAAAEAAAABAAAAAQAAAAEAAAABAAAAAAAAAAEAAAAAAAAAAQAAAAEAAAAAAAAAAQAAAAAAAAABAAAAAQAAAAAAAAABAAAAAAAAAAEAAAAAAAAAAQAAAAAAAAABAAAAAQAAAAEAAAABAAAAAAAAAAEAAAABAAAAAQAAAAEAAAABAAAAAAAAAAAAAAABAAAAAQAAAAAAAAAAAAAAAQAAAAEAAAABAAAAAQAAAAEAAAAAAAAAAQAAAAEAAAABAAAAAQAAAAEAAAABAAAAAQAAAAEAAAAAAAAAAQAAAAEAAAABAAAAAQAAAAEAAAABAAAAAAAAAAAAAAAAAAAAAQAAAAEAAAABAAAAAQAAAAAAAAABAAAAAAAAAAEAAAABAAAAAAAAAAEAAAAAAAAAAAAAAAEAAAAAAAAAAAAAAAEAAAAAAAAAAQAAAAEAAAABAAAAAAAAAAEAAAABAAAAAAAAAAEAAAABAAAAAQAAAAEAAAABAAAAAQAAAAEAAAAAAAAAAQAAAAAAAAABAAAAAQAAAAEAAAABAAAAAAAAAAEAAAAAAAAAAQAAAAAAAAAAAAAAAAAAAAAAAAABAAAAAAAAAAEAAAABAAAAAAAAAAEAAAAAAAAAAAAAAAAAAAABAAAAAAAAAAEAAAAAAAAAAAAAAAAAAAABAAAAAAAAAAEAAAAAAAAAAQAAAAEAAAABAAAAAAAAAAEAAAAAAAAAAAAAAAAAAAAAAAAAAAAAAAEAAAABAAAAAAAAAAEAAAABAAAAAQAAAAAAAAABAAAAAAAAAAEAAAAAAAAAAQAAAAAAAAABAAAAAQAAAAEAAAABAAAAAAAAAAEAAAABAAAAAAAAAAEAAAABAAAAAQAAAAAAAAAAAAAAAAAAAAAAAAABAAAAAQAAAAEAAAABAAAAAAAAAAEAAAAAAAAAAAAAAAAAAAABAAAAAQAAAAAAAAAAAAAAAQAAAAEAAAAAAAAAAQAAAAAAAAAAAAAAAAAAAAEAAAAAAAAAAAAAAAEAAAABAAAAAQAAAAAAAAAAAAAAAAAAAAEAAAABAAAAAQAAAAAAAAAAAAAAAQAAAAAAAAAAAAAAAAAAAAAAAAABAAAAAQAAAAMAAAAAAAAAAAAAAAAAAAABAAAAAQAAAAEAAAABAAAAAQAAAAEAAAAAAAAAAAAAAAAAAAAAAAAAAQAAAAEAAAABAAAAAAAAAAEAAAAAAAAAAQAAAAEAAAABAAAAAQAAAAAAAAABAAAAAQAAAAAAAAABAAAAAQAAAAAAAAAAAAAAAQAAAAAAAAABAAAAAAAAAAAAAAAAAAAAAAAAAAEAAAABAAAAAAAAAAEAAAAAAAAAAQAAAAEAAAABAAAAAQAAAAEAAAABAAAAAAAAAAAAAAAAAAAAAQAAAAEAAAABAAAAAQAAAAEAAAABAAAAAAAAAAEAAAAAAAAAAAAAAAEAAAAAAAAAAQAAAAEAAAABAAAAAQAAAAAAAAABAAAAAQAAAAAAAAABAAAAAQAAAAAAAAABAAAAAAAAAAEAAAAAAAAAAAAAAAEAAAABAAAAAAAAAAEAAAAAAAAAAAAAAAEAAAAAAAAAAAAAAAEAAAAAAAAAAQAAAAAAAAABAAAAAQAAAAAAAAABAAAAAQAAAAEAAAABAAAAAQAAAAAAAAAAAAAAAAAAAAEAAAABAAAAAQAAAAAAAAABAAAAAAAAAAEAAAAAAAAAAQAAAAEAAAABAAAAAQAAAAAAAAABAAAAAQAAAAEAAAAAAAAAAQAAAAAAAAABAAAAAAAAAAEAAAABAAAAAQAAAAAAAAAAAAAAAQAAAAEAAAABAAAAAQAAAAEAAAABAAAAAwAAAAAAAAABAAAAAAAAAAEAAAAAAAAAAQAAAAEAAAABAAAAAQAAAAIAAAABAAAAAQAAAAEAAAAAAAAAAAAAAAEAAAA=\",\"dtype\":\"int32\",\"shape\":[533]},\"CoinName\":[\"42 Coin\",\"404Coin\",\"EliteCoin\",\"Bitcoin\",\"Ethereum\",\"Litecoin\",\"Dash\",\"Monero\",\"Ethereum Classic\",\"ZCash\",\"Bitshares\",\"DigiByte\",\"BitcoinDark\",\"PayCoin\",\"ProsperCoin\",\"KoboCoin\",\"Spreadcoin\",\"Argentum\",\"Aurora Coin\",\"BlueCoin\",\"MyriadCoin\",\"MoonCoin\",\"ZetaCoin\",\"SexCoin\",\"Quatloo\",\"EnergyCoin\",\"QuarkCoin\",\"Riecoin\",\"Digitalcoin \",\"BitBar\",\"Catcoin\",\"CryptoBullion\",\"CannaCoin\",\"CryptCoin\",\"CasinoCoin\",\"Diamond\",\"Verge\",\"DevCoin\",\"EarthCoin\",\"E-Gulden\",\"Einsteinium\",\"Emerald\",\"Exclusive Coin\",\"FlutterCoin\",\"Franko\",\"FeatherCoin\",\"GrandCoin\",\"GlobalCoin\",\"GoldCoin\",\"HoboNickels\",\"HyperStake\",\"Infinite Coin\",\"IOCoin\",\"IXcoin\",\"KrugerCoin\",\"LuckyCoin\",\"Litebar \",\"MaxCoin\",\"MegaCoin\",\"MediterraneanCoin\",\"MintCoin\",\"MinCoin\",\"MazaCoin\",\"Nautilus Coin\",\"NavCoin\",\"NobleCoin\",\"Namecoin\",\"NyanCoin\",\"OpalCoin\",\"Orbitcoin\",\"PotCoin\",\"PhoenixCoin\",\"Reddcoin\",\"RonPaulCoin\",\"StableCoin\",\"SmartCoin\",\"SuperCoin\",\"SyncCoin\",\"SysCoin\",\"TeslaCoin\",\"TigerCoin\",\"TittieCoin\",\"TorCoin\",\"TerraCoin\",\"UnbreakableCoin\",\"Unobtanium\",\"UroCoin\",\"UnitaryStatus Dollar\",\"UltraCoin\",\"ViaCoin\",\"VeriCoin\",\"Vertcoin\",\"WorldCoin\",\"X11 Coin\",\"Crypti\",\"JouleCoin\",\"StealthCoin\",\"ZCC Coin\",\"ByteCoin\",\"DigitalNote \",\"BurstCoin\",\"StorjCoin\",\"MonaCoin\",\"Neutron\",\"FairCoin\",\"Gulden\",\"RubyCoin\",\"PesetaCoin\",\"Kore\",\"Wild Beast Coin\",\"Dnotes\",\"Flo\",\"8BIT Coin\",\"Sativa Coin\",\"ArtByte\",\"Folding Coin\",\"Ucoin\",\"Unitus\",\"CypherPunkCoin\",\"OmniCron\",\"Vtorrent\",\"GreenCoin\",\"Cryptonite\",\"MasterCoin\",\"SoonCoin\",\"1Credit\",\"IslaCoin\",\"Nexus\",\"MarsCoin \",\"Crypto\",\"Anarchists Prime\",\"Droidz\",\"BowsCoin\",\"Squall Coin\",\"Song Coin\",\"BitZeny\",\"Diggits\",\"Expanse\",\"Paycon\",\"Siacoin\",\"Emercoin\",\"EverGreenCoin\",\"MindCoin\",\"I0coin\",\"Decred\",\"Revolution VR\",\"HOdlcoin\",\"EDRCoin\",\"Hitcoin\",\"Gamecredits\",\"DubaiCoin\",\"CarpeDiemCoin\",\"PWR Coin\",\"BillaryCoin\",\"GPU Coin\",\"Adzcoin\",\"SoilCoin\",\"YoCoin\",\"SibCoin\",\"EuropeCoin\",\"ZeitCoin\",\"SwingCoin\",\"SafeExchangeCoin\",\"Nebuchadnezzar\",\"Francs\",\"BolivarCoin\",\"Ratecoin\",\"Revenu\",\"Clockcoin\",\"VIP Tokens\",\"BitSend\",\"Omni\",\"Let it Ride\",\"PutinCoin\",\"iBankCoin\",\"Frankywillcoin\",\"MudraCoin\",\"PizzaCoin\",\"Lutetium Coin\",\"Komodo\",\"GoldBlocks\",\"CarterCoin\",\"Karbo\",\"BitTokens\",\"ZayedCoin\",\"MustangCoin\",\"ZoneCoin\",\"Circuits of Value\",\"RootCoin\",\"DopeCoin\",\"BitCurrency\",\"DollarCoin\",\"Swiscoin\",\"Shilling\",\"BuzzCoin\",\"Opair\",\"PesoBit\",\"Halloween Coin\",\"ZCoin\",\"CoffeeCoin\",\"RoyalCoin\",\"GanjaCoin V2\",\"TeamUP\",\"LanaCoin\",\"Elementrem\",\"ZClassic\",\"ARK\",\"InsaneCoin\",\"KiloCoin\",\"ArtexCoin\",\"EmberCoin\",\"XenixCoin\",\"FreeCoin\",\"PLNCoin\",\"AquariusCoin\",\"Kurrent\",\"Creatio\",\"Eternity\",\"Eurocoin\",\"BitcoinFast\",\"Stakenet\",\"BitConnect Coin\",\"MoneyCoin\",\"Enigma\",\"Cannabis Industry Coin\",\"Russiacoin\",\"PandaCoin\",\"GameUnits\",\"GAKHcoin\",\"Allsafe\",\"LiteCreed\",\"OsmiumCoin\",\"Bikercoins\",\"HexxCoin\",\"Klingon Empire Darsek\",\"Internet of People\",\"KushCoin\",\"Printerium\",\"PacCoin\",\"Impeach\",\"Citadel\",\"Zilbercoin\",\"FirstCoin\",\"BeaverCoin\",\"FindCoin\",\"VaultCoin\",\"Zero\",\"OpenChat\",\"Canada eCoin\",\"Zoin\",\"RenosCoin\",\"DubaiCoin\",\"VirtacoinPlus\",\"TajCoin\",\"Impact\",\"EB3coin\",\"Atmos\",\"HappyCoin\",\"Coinonat\",\"MacronCoin\",\"Condensate\",\"Independent Money System\",\"ArgusCoin\",\"LomoCoin\",\"ProCurrency\",\"GoldReserve\",\"BenjiRolls\",\"GrowthCoin\",\"ILCoin\",\"Phreak\",\"Degas Coin\",\"HTML5 Coin\",\"Ultimate Secure Cash\",\"EquiTrader\",\"QTUM\",\"Quantum Resistant Ledger\",\"Espers\",\"Dynamic\",\"Nano\",\"ChanCoin\",\"Dinastycoin\",\"Denarius\",\"DigitalPrice\",\"Virta Unique Coin\",\"Bitcoin Planet\",\"Unify\",\"BritCoin\",\"SocialCoin\",\"ArcticCoin\",\"DAS\",\"Linda\",\"LeviarCoin\",\"DeepOnion\",\"Bitcore\",\"gCn Coin\",\"SmartCash\",\"Signatum\",\"Onix\",\"Cream\",\"Bitcoin Cash\",\"Monoeci\",\"Draftcoin\",\"Vechain\",\"Sojourn Coin\",\"Stakecoin\",\"NewYorkCoin\",\"FrazCoin\",\"Kronecoin\",\"AdCoin\",\"Linx\",\"CoinonatX\",\"Ethereum Dark\",\"Sumokoin\",\"Obsidian\",\"Cardano\",\"Regalcoin\",\"BitcoinZ\",\"TrezarCoin\",\"Elements\",\"TerraNovaCoin\",\"VIVO Coin\",\"Rupee\",\"Bitcoin Gold\",\"WomenCoin\",\"Theresa May Coin\",\"NamoCoin\",\"LUXCoin\",\"Pirl\",\"Xios\",\"Bitcloud 2.0\",\"eBoost\",\"KekCoin\",\"BlackholeCoin\",\"Infinity Economics\",\"Pura\",\"Innova\",\"Ellaism\",\"GoByte\",\"Magnet\",\"Lamden Tau\",\"Electra\",\"Bitcoin Diamond\",\"SHIELD\",\"Cash & Back Coin\",\"UltraNote\",\"BitCoal\",\"DaxxCoin\",\"Bulwark\",\"Kalkulus\",\"AC3\",\"Lethean\",\"GermanCoin\",\"LiteCoin Ultra\",\"PopularCoin\",\"PhantomX\",\"Photon\",\"Sucre\",\"SparksPay\",\"Digiwage\",\"GunCoin\",\"IrishCoin\",\"Trollcoin\",\"Litecoin Plus\",\"Monkey Project\",\"Pioneer Coin\",\"UnitedBitcoin\",\"Interzone\",\"TokenPay\",\"1717 Masonic Commemorative Token\",\"My Big Coin\",\"TurtleCoin\",\"MUNcoin\",\"Unified Society USDEX\",\"Niobio Cash\",\"ShareChain\",\"Travelflex\",\"KREDS\",\"Tokyo Coin\",\"BiblePay\",\"LitecoinCash\",\"BitFlip\",\"LottoCoin\",\"Crypto Improvement Fund\",\"Stipend\",\"Poa Network\",\"Pushi\",\"Ellerium\",\"Velox\",\"Ontology\",\"Callisto Network\",\"BitTube\",\"Poseidon\",\"Aidos Kuneen\",\"Bitspace\",\"Briacoin\",\"Ignition\",\"Bitrolium\",\"MedicCoin\",\"Alpenschillling\",\"Bitcoin Green\",\"Deviant Coin\",\"Abjcoin\",\"Semux\",\"FuturoCoin\",\"Carebit\",\"Zealium\",\"Monero Classic\",\"Proton\",\"iDealCash\",\"Jumpcoin\",\"Infinex\",\"Bitcoin Incognito\",\"KEYCO\",\"HollyWoodCoin\",\"GINcoin\",\"PlatinCoin\",\"Loki\",\"Newton Coin\",\"Swisscoin\",\"Xt3ch\",\"MassGrid\",\"TheVig\",\"PluraCoin\",\"EmaratCoin\",\"Dekado\",\"Lynx\",\"Poseidon Quark\",\"BitcoinWSpectrum\",\"Muse\",\"Motion\",\"PlusOneCoin\",\"Axe\",\"Trivechain\",\"Dystem\",\"Giant\",\"Peony Coin\",\"Absolute Coin\",\"Vitae\",\"HexCoin\",\"TPCash\",\"Webchain\",\"Ryo\",\"Urals Coin\",\"Qwertycoin\",\"ARENON\",\"EUNO\",\"MMOCoin\",\"Ketan\",\"Project Pai\",\"XDNA\",\"PAXEX\",\"Azart\",\"ThunderStake\",\"Kcash\",\"Xchange\",\"Acute Angle Cloud\",\"CrypticCoin\",\"Bettex coin\",\"Actinium\",\"Bitcoin SV\",\"BitMoney\",\"Junson Ming Chan Coin\",\"FREDEnergy\",\"HerbCoin\",\"Universal Molecule\",\"Lithium\",\"PirateCash\",\"Exosis\",\"Block-Logic\",\"Oduwa\",\"Beam\",\"Galilel\",\"Bithereum\",\"Crypto Sports\",\"Credit\",\"SLICE\",\"Dash Platinum\",\"Nasdacoin\",\"Beetle Coin\",\"Titan Coin\",\"Award\",\"BLAST\",\"Bitcoin Rhodium\",\"GlobalToken\",\"Insane Coin\",\"ALAX\",\"LiteDoge\",\"SolarCoin\",\"TruckCoin\",\"UFO Coin\",\"OrangeCoin\",\"BlakeCoin\",\"BitstarCoin\",\"NeosCoin\",\"HyperCoin\",\"PinkCoin\",\"Crypto Escudo\",\"AudioCoin\",\"IncaKoin\",\"Piggy Coin\",\"Crown Coin\",\"Genstake\",\"SmileyCoin\",\"XiaoMiCoin\",\"Groestlcoin\",\"CapriCoin\",\" ClubCoin\",\"Radium\",\"Bata\",\"Pakcoin\",\"Creditbit \",\"OKCash\",\"Lisk\",\"HiCoin\",\"WhiteCoin\",\"FriendshipCoin\",\"Fiii\",\"JoinCoin\",\"Triangles Coin\",\"Vollar\",\"EOS\",\"Reality Clash\",\"Oxycoin\",\"TigerCash\",\"Waves\",\"Particl\",\"BitTorrent\",\"Nxt\",\"ZEPHYR\",\"Gapcoin\",\"Beldex\",\"Horizen\",\"BitcoinPlus\"],\"TotalCoinSupply\":{\"__ndarray__\":\"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\",\"dtype\":\"float64\",\"shape\":[533]},\"TotalCoinsMined\":{\"__ndarray__\":\"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\",\"dtype\":\"float64\",\"shape\":[533]},\"color\":{\"__ndarray__\":\"AQAAAAEAAAABAAAAAAAAAAAAAAAAAAAAAQAAAAAAAAAAAAAAAAAAAAEAAAAAAAAAAQAAAAEAAAAAAAAAAQAAAAAAAAAAAAAAAQAAAAEAAAAAAAAAAAAAAAAAAAAAAAAAAAAAAAEAAAAAAAAAAAAAAAAAAAABAAAAAAAAAAEAAAAAAAAAAAAAAAEAAAABAAAAAAAAAAAAAAAAAAAAAAAAAAAAAAAAAAAAAQAAAAEAAAAAAAAAAAAAAAAAAAAAAAAAAAAAAAEAAAABAAAAAAAAAAEAAAAAAAAAAAAAAAAAAAAAAAAAAQAAAAAAAAAAAAAAAQAAAAAAAAABAAAAAQAAAAEAAAAAAAAAAAAAAAAAAAABAAAAAQAAAAEAAAABAAAAAQAAAAAAAAAAAAAAAAAAAAEAAAABAAAAAAAAAAEAAAAAAAAAAQAAAAEAAAAAAAAAAAAAAAAAAAAAAAAAAQAAAAEAAAAAAAAAAQAAAAAAAAAAAAAAAQAAAAEAAAAAAAAAAQAAAAEAAAAAAAAAAAAAAAEAAAABAAAAAAAAAAEAAAABAAAAAAAAAAEAAAAAAAAAAQAAAAAAAAABAAAAAAAAAAEAAAABAAAAAAAAAAAAAAABAAAAAAAAAAAAAAAAAAAAAQAAAAAAAAAAAAAAAAAAAAAAAAAAAAAAAQAAAAEAAAAAAAAAAAAAAAAAAAABAAAAAAAAAAEAAAAAAAAAAAAAAAEAAAAAAAAAAQAAAAAAAAABAAAAAQAAAAAAAAAAAAAAAQAAAAAAAAAAAAAAAQAAAAEAAAAAAAAAAQAAAAAAAAABAAAAAQAAAAEAAAAAAAAAAAAAAAAAAAAAAAAAAQAAAAEAAAABAAAAAQAAAAEAAAAAAAAAAAAAAAEAAAABAAAAAQAAAAEAAAABAAAAAAAAAAEAAAABAAAAAQAAAAEAAAABAAAAAAAAAAEAAAAAAAAAAQAAAAEAAAAAAAAAAQAAAAAAAAABAAAAAQAAAAAAAAABAAAAAAAAAAEAAAAAAAAAAQAAAAAAAAABAAAAAQAAAAEAAAABAAAAAAAAAAEAAAABAAAAAQAAAAEAAAABAAAAAAAAAAAAAAABAAAAAQAAAAAAAAAAAAAAAQAAAAEAAAABAAAAAQAAAAEAAAAAAAAAAQAAAAEAAAABAAAAAQAAAAEAAAABAAAAAQAAAAEAAAAAAAAAAQAAAAEAAAABAAAAAQAAAAEAAAABAAAAAAAAAAAAAAAAAAAAAQAAAAEAAAABAAAAAQAAAAAAAAABAAAAAAAAAAEAAAABAAAAAAAAAAEAAAAAAAAAAAAAAAEAAAAAAAAAAAAAAAEAAAAAAAAAAQAAAAEAAAABAAAAAAAAAAEAAAABAAAAAAAAAAEAAAABAAAAAQAAAAEAAAABAAAAAQAAAAEAAAAAAAAAAQAAAAAAAAABAAAAAQAAAAEAAAABAAAAAAAAAAEAAAAAAAAAAQAAAAAAAAAAAAAAAAAAAAAAAAABAAAAAAAAAAEAAAABAAAAAAAAAAEAAAAAAAAAAAAAAAAAAAABAAAAAAAAAAEAAAAAAAAAAAAAAAAAAAABAAAAAAAAAAEAAAAAAAAAAQAAAAEAAAABAAAAAAAAAAEAAAAAAAAAAAAAAAAAAAAAAAAAAAAAAAEAAAABAAAAAAAAAAEAAAABAAAAAQAAAAAAAAABAAAAAAAAAAEAAAAAAAAAAQAAAAAAAAABAAAAAQAAAAEAAAABAAAAAAAAAAEAAAABAAAAAAAAAAEAAAABAAAAAQAAAAAAAAAAAAAAAAAAAAAAAAABAAAAAQAAAAEAAAABAAAAAAAAAAEAAAAAAAAAAAAAAAAAAAABAAAAAQAAAAAAAAAAAAAAAQAAAAEAAAAAAAAAAQAAAAAAAAAAAAAAAAAAAAEAAAAAAAAAAAAAAAEAAAABAAAAAQAAAAAAAAAAAAAAAAAAAAEAAAABAAAAAQAAAAAAAAAAAAAAAQAAAAAAAAAAAAAAAAAAAAAAAAABAAAAAQAAAAMAAAAAAAAAAAAAAAAAAAABAAAAAQAAAAEAAAABAAAAAQAAAAEAAAAAAAAAAAAAAAAAAAAAAAAAAQAAAAEAAAABAAAAAAAAAAEAAAAAAAAAAQAAAAEAAAABAAAAAQAAAAAAAAABAAAAAQAAAAAAAAABAAAAAQAAAAAAAAAAAAAAAQAAAAAAAAABAAAAAAAAAAAAAAAAAAAAAAAAAAEAAAABAAAAAAAAAAEAAAAAAAAAAQAAAAEAAAABAAAAAQAAAAEAAAABAAAAAAAAAAAAAAAAAAAAAQAAAAEAAAABAAAAAQAAAAEAAAABAAAAAAAAAAEAAAAAAAAAAAAAAAEAAAAAAAAAAQAAAAEAAAABAAAAAQAAAAAAAAABAAAAAQAAAAAAAAABAAAAAQAAAAAAAAABAAAAAAAAAAEAAAAAAAAAAAAAAAEAAAABAAAAAAAAAAEAAAAAAAAAAAAAAAEAAAAAAAAAAAAAAAEAAAAAAAAAAQAAAAAAAAABAAAAAQAAAAAAAAABAAAAAQAAAAEAAAABAAAAAQAAAAAAAAAAAAAAAAAAAAEAAAABAAAAAQAAAAAAAAABAAAAAAAAAAEAAAAAAAAAAQAAAAEAAAABAAAAAQAAAAAAAAABAAAAAQAAAAEAAAAAAAAAAQAAAAAAAAABAAAAAAAAAAEAAAABAAAAAQAAAAAAAAAAAAAAAQAAAAEAAAABAAAAAQAAAAEAAAABAAAAAwAAAAAAAAABAAAAAAAAAAEAAAAAAAAAAQAAAAEAAAABAAAAAQAAAAIAAAABAAAAAQAAAAEAAAAAAAAAAAAAAAEAAAA=\",\"dtype\":\"int32\",\"shape\":[533]}},\"selected\":{\"id\":\"1652\"},\"selection_policy\":{\"id\":\"1675\"}},\"id\":\"1651\",\"type\":\"ColumnDataSource\"},{\"attributes\":{\"fill_color\":{\"field\":\"color\",\"transform\":{\"id\":\"1650\"}},\"line_color\":{\"field\":\"color\",\"transform\":{\"id\":\"1650\"}},\"size\":{\"units\":\"screen\",\"value\":5.477225575051661},\"x\":{\"field\":\"TotalCoinsMined\"},\"y\":{\"field\":\"TotalCoinSupply\"}},\"id\":\"1657\",\"type\":\"Scatter\"},{\"attributes\":{},\"id\":\"1669\",\"type\":\"BasicTickFormatter\"},{\"attributes\":{},\"id\":\"1661\",\"type\":\"BasicTicker\"},{\"attributes\":{\"source\":{\"id\":\"1651\"}},\"id\":\"1660\",\"type\":\"CDSView\"},{\"attributes\":{\"data_source\":{\"id\":\"1651\"},\"glyph\":{\"id\":\"1654\"},\"hover_glyph\":{\"id\":\"1657\"},\"muted_glyph\":{\"id\":\"1658\"},\"nonselection_glyph\":{\"id\":\"1655\"},\"selection_glyph\":{\"id\":\"1656\"},\"view\":{\"id\":\"1660\"}},\"id\":\"1659\",\"type\":\"GlyphRenderer\"},{\"attributes\":{},\"id\":\"1664\",\"type\":\"BasicTickFormatter\"},{\"attributes\":{\"align\":null,\"below\":[{\"id\":\"1629\"}],\"center\":[{\"id\":\"1632\"},{\"id\":\"1636\"}],\"left\":[{\"id\":\"1633\"}],\"margin\":null,\"min_border_bottom\":10,\"min_border_left\":10,\"min_border_right\":10,\"min_border_top\":10,\"plot_height\":300,\"plot_width\":700,\"renderers\":[{\"id\":\"1659\"}],\"right\":[{\"id\":\"1662\"}],\"sizing_mode\":\"fixed\",\"title\":{\"id\":\"1621\"},\"toolbar\":{\"id\":\"1643\"},\"x_range\":{\"id\":\"1617\"},\"x_scale\":{\"id\":\"1625\"},\"y_range\":{\"id\":\"1618\"},\"y_scale\":{\"id\":\"1627\"}},\"id\":\"1620\",\"subtype\":\"Figure\",\"type\":\"Plot\"},{\"attributes\":{},\"id\":\"1641\",\"type\":\"ResetTool\"},{\"attributes\":{\"bottom_units\":\"screen\",\"fill_alpha\":0.5,\"fill_color\":\"lightgrey\",\"left_units\":\"screen\",\"level\":\"overlay\",\"line_alpha\":1.0,\"line_color\":\"black\",\"line_dash\":[4,4],\"line_width\":2,\"render_mode\":\"css\",\"right_units\":\"screen\",\"top_units\":\"screen\"},\"id\":\"1642\",\"type\":\"BoxAnnotation\"},{\"attributes\":{\"bar_line_color\":{\"value\":\"black\"},\"color_mapper\":{\"id\":\"1650\"},\"formatter\":{\"id\":\"1669\"},\"label_standoff\":8,\"location\":[0,0],\"major_tick_line_color\":\"black\",\"ticker\":{\"id\":\"1661\"}},\"id\":\"1662\",\"type\":\"ColorBar\"},{\"attributes\":{\"end\":1.0326704287676896e-06,\"reset_end\":1.0326704287676896e-06,\"reset_start\":-4.859969287600845e-08,\"start\":-4.859969287600845e-08,\"tags\":[[[\"TotalCoinsMined\",\"TotalCoinsMined\",null]]]},\"id\":\"1617\",\"type\":\"Range1d\"},{\"attributes\":{\"margin\":[5,5,5,5],\"name\":\"HSpacer02552\",\"sizing_mode\":\"stretch_width\"},\"id\":\"1677\",\"type\":\"Spacer\"},{\"attributes\":{\"axis_label\":\"TotalCoinSupply\",\"bounds\":\"auto\",\"formatter\":{\"id\":\"1666\"},\"major_label_orientation\":\"horizontal\",\"ticker\":{\"id\":\"1634\"}},\"id\":\"1633\",\"type\":\"LinearAxis\"}],\"root_ids\":[\"1615\"]},\"title\":\"Bokeh Application\",\"version\":\"2.0.2\"}};\n",
       "  var render_items = [{\"docid\":\"b9671753-2ca0-4dbf-97c1-7e16395a3352\",\"root_ids\":[\"1615\"],\"roots\":{\"1615\":\"dca3b7fd-5a3f-4e2c-80f9-84f3cc04c9db\"}}];\n",
       "  root.Bokeh.embed.embed_items_notebook(docs_json, render_items);\n",
       "  }\n",
       "if (root.Bokeh !== undefined) {\n",
       "    embed_document(root);\n",
       "  } else {\n",
       "    var attempts = 0;\n",
       "    var timer = setInterval(function(root) {\n",
       "      if (root.Bokeh !== undefined) {\n",
       "        clearInterval(timer);\n",
       "        embed_document(root);\n",
       "      } else if (document.readyState == \"complete\") {\n",
       "        attempts++;\n",
       "        if (attempts > 100) {\n",
       "          clearInterval(timer);\n",
       "          console.log(\"Bokeh: ERROR: Unable to run BokehJS code because BokehJS library is missing\");\n",
       "        }\n",
       "      }\n",
       "    }, 10, root)\n",
       "  }\n",
       "})(window);</script>"
      ],
      "text/plain": [
       ":Scatter   [TotalCoinsMined]   (TotalCoinSupply,Class,CoinName)"
      ]
     },
     "execution_count": 110,
     "metadata": {
      "application/vnd.holoviews_exec.v0+json": {
       "id": "1615"
      }
     },
     "output_type": "execute_result"
    }
   ],
   "source": [
    "# Plot the scatter with x=\"TotalCoinsMined\" and y=\"TotalCoinSupply\"\n",
    "clustered_df.hvplot(\n",
    "    kind=\"scatter\", \n",
    "    x=\"TotalCoinsMined\", \n",
    "    y=\"TotalCoinSupply\", \n",
    "    c='Class', \n",
    "    colormap=\"Inferno_r\", \n",
    "    hover_cols=['CoinName']\n",
    ")"
   ]
  },
  {
   "cell_type": "code",
   "execution_count": null,
   "metadata": {},
   "outputs": [],
   "source": []
  }
 ],
 "metadata": {
  "file_extension": ".py",
  "kernelspec": {
   "display_name": "Python 3",
   "language": "python",
   "name": "python3"
  },
  "language_info": {
   "codemirror_mode": {
    "name": "ipython",
    "version": 3
   },
   "file_extension": ".py",
   "mimetype": "text/x-python",
   "name": "python",
   "nbconvert_exporter": "python",
   "pygments_lexer": "ipython3",
   "version": "3.7.7"
  },
  "mimetype": "text/x-python",
  "name": "python",
  "npconvert_exporter": "python",
  "pygments_lexer": "ipython3",
  "version": 3
 },
 "nbformat": 4,
 "nbformat_minor": 4
}
